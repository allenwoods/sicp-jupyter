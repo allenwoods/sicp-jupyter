{
    "metadata": {
        "kernelspec": {
            "display_name": "Python 3",
            "language": "python",
            "name": "python3"
        },
        "language_info": {
            "codemirror_mode": {
                "name": "ipython",
                "version": 3
            },
            "file_extension": ".py",
            "mimetype": "text/x-python",
            "name": "python",
            "nbconvert_exporter": "python",
            "pygments_lexer": "ipython3",
            "version": "3.7.3"
        }
    },
    "nbformat": 4,
    "nbformat_minor": 2,
    "cells": [
        {
            "cell_type": "markdown",
            "metadata": {},
            "source": [
                "## 5.3 协程\n",
                "\n",
                "这篇文章的大部分专注于将复杂程序解构为小型、模块化组件的技巧。当一个带有复杂行为的函数逻辑划分为几个独立的、本身为函数的步骤时，这些函数叫做辅助函数或者子过程。子过程由主函数调用，主函数负责协调子函数的使用。\n",
                "\n",
                "![](../imgs/subroutine.png)\n",
                "\n",
                "这一节中，我们使用协程，引入了一种不同的方式来解构复杂的计算。它是一种针对有序数据的任务处理方式。就像子过程那样，协程会计算复杂计算的一小步。但是，在使用协程时，没有主函数来协调结果。反之，协程会自发链接到一起来组成流水线。可能有一些协程消耗输入数据，并把它发送到其它协程。也可能有一些协程，每个都对发送给它的数据执行简单的处理步骤。最后可能有另外一些协程输出最终结果。\n",
                "\n",
                "![](../imgs/coroutine.png)\n",
                "\n",
                "协程和子过程的差异是概念上的：子过程在主函数中位于下级，但是协程都是平等的，它们协作组成流水线，不带有任何上级函数来负责以特定顺序调用它们。\n",
                "\n",
                "这一节中，我们会学到 Python 如何通过`yield`和`send()`语句来支持协程的构建。之后，我们会看到协程在流水线中的不同作用，以及协程如何支持多任务。\n",
                "\n",
                "### 5.3.1 Python 协程\n",
                "\n",
                "在之前一节中，我们介绍了生成器函数，它使用`yield`来返回一个值。Python 的生成器函数也可以使用`(yield)`语句来接受一个值。生成器对象上有两个额外的方法：`send()`和`close()`，创建了一个模型使对象可以消耗或产出值。定义了这些对象的生成器函数叫做协程。\n",
                "\n",
                "协程可以通过`(yield)`语句来消耗值，向像下面这样："
            ]
        },
        {
            "cell_type": "markdown",
            "metadata": {},
            "source": [
                "```py\n",
                "value = (yield)\n",
                "```"
            ]
        },
        {
            "cell_type": "markdown",
            "metadata": {},
            "source": [
                "使用这个语法，在带参数调用对象的`send`方法之前，执行流会停留在这条语句上。"
            ]
        },
        {
            "cell_type": "markdown",
            "metadata": {},
            "source": [
                "```py\n",
                "coroutine.send(data)\n",
                "```"
            ]
        },
        {
            "cell_type": "markdown",
            "metadata": {},
            "source": [
                "之后，执行会恢复，`value`会被赋为`data`的值。为了发射计算终止的信号，我们需要使用`close()`方法来关闭协程。这会在协程内部产生`GeneratorExit`异常，它可以由`try/except`子句来捕获。\n",
                "\n",
                "下面的例子展示了这些概念。它是一个协程，用于打印匹配所提供的模式串的字符串。"
            ]
        },
        {
            "cell_type": "code",
            "execution_count": null,
            "metadata": {},
            "outputs": [],
            "source": [
                "def match(pattern):\n",
                "        print('Looking for ' + pattern)\n",
                "        try:\n",
                "            while True:\n",
                "                s = (yield)\n",
                "                if pattern in s:\n",
                "                    print(s)\n",
                "        except GeneratorExit:\n",
                "            print(\"=== Done ===\")"
            ]
        },
        {
            "cell_type": "markdown",
            "metadata": {},
            "source": [
                "我们可以使用一个模式串来初始化它，之后调用`__next__()`来开始执行："
            ]
        },
        {
            "cell_type": "code",
            "execution_count": null,
            "metadata": {},
            "outputs": [],
            "source": [
                "m = match(\"Jabberwock\")\n",
                "m.__next__()"
            ]
        },
        {
            "cell_type": "markdown",
            "metadata": {},
            "source": [
                "对`__next__()`的调用会执行函数体，所以`\"Looking for jabberwock\"`会被打印。语句会一直持续执行，直到遇到`line = (yield)`语句。之后，执行会暂停，并且等待一个发送给`m`的值。我们可以使用`send`来将值发送给它。"
            ]
        },
        {
            "cell_type": "code",
            "execution_count": null,
            "metadata": {},
            "outputs": [],
            "source": [
                "m.send(\"the Jabberwock with eyes of flame\")"
            ]
        },
        {
            "cell_type": "code",
            "execution_count": null,
            "metadata": {},
            "outputs": [],
            "source": [
                "m.send(\"came whiffling through the tulgey wood\")\n",
                "m.send(\"and burbled as it came\")"
            ]
        },
        {
            "cell_type": "markdown",
            "metadata": {},
            "source": [
                "m.close()\n",
                "=== Done ==="
            ]
        },
        {
            "cell_type": "markdown",
            "metadata": {},
            "source": [
                "当我们以一个值调用`m.send`时，协程`m`内部的求值会在`line = (yield)`语句处恢复，这里会把发送的值赋给`line`变量。`m`中的语句会继续求值，如果匹配的话会打印出那一行，并继续执行循环，直到再次进入`line = (yield)`。之后，`m`中的求值会暂停，并在`m.send`调用后恢复。\n",
                "\n",
                "我们可以将使用`send()`和`yield`的函数链到一起来完成复杂的行为。例如，下面的函数将名为`text`的字符串分割为单词，并把每个单词发送给另一个协程。\n",
                "\n",
                "每个单词都发送给了绑定到`next_coroutine`的协程，使`next_coroutine`开始执行，而且这个函数暂停并等待。它在`next_coroutine`暂停之前会一直等待，随后这个函数恢复执行，发送下一个单词或执行完毕。\n",
                "\n",
                "如果我们将上面定义的`match`和这个函数链到一起，我们就可以创建出一个程序，只打印出匹配特定单词的单词。"
            ]
        },
        {
            "cell_type": "code",
            "execution_count": null,
            "metadata": {},
            "outputs": [],
            "source": [
                "text = 'Commending spending is offending to people pending lending!'\n",
                "matcher = match('ending')\n",
                "matcher.__next__()"
            ]
        },
        {
            "cell_type": "code",
            "execution_count": null,
            "metadata": {},
            "outputs": [],
            "source": [
                "read(text, matcher)"
            ]
        },
        {
            "cell_type": "markdown",
            "metadata": {},
            "source": [
                "Commending\n",
                "spending\n",
                "offending\n",
                "pending\n",
                "lending!\n",
                "=== Done ===\n",
                "```"
            ]
        },
        {
            "cell_type": "markdown",
            "metadata": {},
            "source": [
                "`read`函数向协程`matcher`发送每个单词，协程打印出任何匹配`pattern`的输入。在`matcher`协程中，`s = (yield)`一行等待每个发送进来的单词，并且在执行到这一行之后将控制流交还给`read`。\n",
                "\n",
                "![](../imgs/read-match-coroutine.png)\n",
                "\n",
                "### 5.3.2 生产、过滤和消耗\n",
                "\n",
                "协程基于如何使用`yield`和`send()`而具有不同的作用：\n",
                "\n",
                "![](../imgs/produce-filter-consume.png)\n",
                "\n",
                "+ **生产者**创建序列中的物品，并使用`send()`，而不是`(yield)`。\n",
                "+ **过滤器**使用`(yield)`来消耗物品并将结果使用`send()`发送给下一个步骤。\n",
                "+ **消费者**使用`(yield)`来消耗物品，但是从不发送。\n",
                "\n",
                "上面的`read`函数是一个生产者的例子。它不使用`(yield)`，但是使用`send`来生产数据。函数`match`是个消费者的例子。它不使用`send`发送任何东西，但是使用`(yield)`来消耗数据。我们可以将`match`拆分为过滤器和消费者。过滤器是一个协程，只发送与它的模式相匹配的字符串。"
            ]
        },
        {
            "cell_type": "code",
            "execution_count": null,
            "metadata": {},
            "outputs": [],
            "source": [
                "def match_filter(pattern, next_coroutine):\n",
                "        print('Looking for ' + pattern)\n",
                "        try:\n",
                "            while True:\n",
                "                s = (yield)\n",
                "                if pattern in s:\n",
                "                    next_coroutine.send(s)\n",
                "        except GeneratorExit:\n",
                "            next_coroutine.close()"
            ]
        },
        {
            "cell_type": "markdown",
            "metadata": {},
            "source": [
                "消费者是一个函数，只打印出发送给它的行："
            ]
        },
        {
            "cell_type": "code",
            "execution_count": null,
            "metadata": {},
            "outputs": [],
            "source": [
                "def print_consumer():\n",
                "        print('Preparing to print')\n",
                "        try:\n",
                "            while True:\n",
                "                line = (yield)\n",
                "                print(line)\n",
                "        except GeneratorExit:\n",
                "            print(\"=== Done ===\")"
            ]
        },
        {
            "cell_type": "markdown",
            "metadata": {},
            "source": [
                "当过滤器或消费者被构建时，必须调用它的`__next__`方法来开始执行："
            ]
        },
        {
            "cell_type": "code",
            "execution_count": null,
            "metadata": {},
            "outputs": [],
            "source": [
                "printer = print_consumer()\n",
                "printer.__next__()"
            ]
        },
        {
            "cell_type": "code",
            "execution_count": null,
            "metadata": {},
            "outputs": [],
            "source": [
                "lter('pend', printer)\n",
                "matcher.__next__()"
            ]
        },
        {
            "cell_type": "code",
            "execution_count": null,
            "metadata": {},
            "outputs": [],
            "source": [
                "matcher = match_filter('pend', printer)\n",
                "matcher.__next__()"
            ]
        },
        {
            "cell_type": "code",
            "execution_count": null,
            "metadata": {},
            "outputs": [],
            "source": [
                "read(text, matcher)"
            ]
        },
        {
            "cell_type": "markdown",
            "metadata": {},
            "source": [
                "spending\n",
                "pending\n",
                "=== Done ==="
            ]
        },
        {
            "cell_type": "markdown",
            "metadata": {},
            "source": [
                "即使名称`filter`暗示移除元素，过滤器也可以转换元素。下面的函数是个转换元素的过滤器的示例。它消耗字符串并发送一个字典，包含了每个不同的字母在字符串中的出现次数。"
            ]
        },
        {
            "cell_type": "code",
            "execution_count": null,
            "metadata": {},
            "outputs": [],
            "source": [
                "def count_letters(next_coroutine):\n",
                "        try:\n",
                "            while True:\n",
                "                s = (yield)\n",
                "                counts = {letter:s.count(letter) for letter in set(s)}\n",
                "                next_coroutine.send(counts)\n",
                "        except GeneratorExit as e:\n",
                "            next_coroutine.close()"
            ]
        },
        {
            "cell_type": "markdown",
            "metadata": {},
            "source": [
                "我们可以使用它来计算文本中最常出现的字母，并使用一个消费者，将字典合并来找出最常出现的键。"
            ]
        },
        {
            "cell_type": "code",
            "execution_count": null,
            "metadata": {},
            "outputs": [],
            "source": [
                "def sum_dictionaries():\n",
                "        total = {}\n",
                "        try:\n",
                "            while True:\n",
                "                counts = (yield)\n",
                "                for letter, count in counts.items():\n",
                "                    total[letter] = count + total.get(letter, 0)\n",
                "        except GeneratorExit:\n",
                "            max_letter = max(total.items(), key=lambda t: t[1])[0]\n",
                "            print(\"Most frequent letter: \" + max_letter)"
            ]
        },
        {
            "cell_type": "markdown",
            "metadata": {},
            "source": [
                "为了在文件上运行这个流水线，我们必须首先按行读取文件。之后，将结果发送给`count_letters`，最后发送给`sum_dictionaries`。我们可以服用`read`协程来读取文件中的行。"
            ]
        },
        {
            "cell_type": "code",
            "execution_count": null,
            "metadata": {},
            "outputs": [],
            "source": [
                "s = sum_dictionaries()\n",
                "s.__next__()\n",
                "c = count_letters(s)\n",
                "c.__next__()\n",
                "read(text, c)"
            ]
        },
        {
            "cell_type": "markdown",
            "metadata": {},
            "source": [
                "### 5.3.3 多任务\n",
                "\n",
                "生产者或过滤器并不受限于唯一的下游。它可以拥有多个协程作为它的下游，并使用`send()`向它们发送数据。例如，下面是`read`的一个版本，向多个下游发送字符串中的单词："
            ]
        },
        {
            "cell_type": "code",
            "execution_count": null,
            "metadata": {},
            "outputs": [],
            "source": [
                "def read_to_many(text, coroutines):\n",
                "        for word in text.split():\n",
                "            for coroutine in coroutines:\n",
                "                coroutine.send(word)\n",
                "        for coroutine in coroutines:\n",
                "            coroutine.close()"
            ]
        },
        {
            "cell_type": "markdown",
            "metadata": {},
            "source": [
                "我们可以使用它来检测多个单词中的相同文本："
            ]
        },
        {
            "cell_type": "code",
            "execution_count": null,
            "metadata": {},
            "outputs": [],
            "source": [
                "m = match(\"mend\")\n",
                "m.__next__()"
            ]
        },
        {
            "cell_type": "code",
            "execution_count": null,
            "metadata": {},
            "outputs": [],
            "source": [
                "p = match(\"pe\")\n",
                "p.__next__()"
            ]
        },
        {
            "cell_type": "code",
            "execution_count": null,
            "metadata": {},
            "outputs": [],
            "source": [
                "read_to_many(text, [m, p])"
            ]
        },
        {
            "cell_type": "markdown",
            "metadata": {},
            "source": [
                "Commending\n",
                "spending\n",
                "people\n",
                "pending\n",
                "=== Done ===\n",
                "=== Done ===\n",
                "```"
            ]
        },
        {
            "cell_type": "markdown",
            "metadata": {},
            "source": [
                "首先，`read_to_many`在`m`上调用了`send(word)`。这个协程正在等待循环中的`text = (yield)`，之后打印出所发现的匹配，并且等待下一个`send`。之后执行流返回到了`read_to_many`，它向`p`发送相同的行。所以，`text`中的单词会按照顺序打印出来。"
            ]
        }
    ]
}