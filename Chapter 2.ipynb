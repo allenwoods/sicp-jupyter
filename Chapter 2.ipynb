{
 "cells": [
  {
   "cell_type": "markdown",
   "metadata": {},
   "source": [
    "# 2.1 引言\n",
    "来源：2.1 Introduction\n",
    "译者：飞龙\n",
    "协议：CC BY-NC-SA 4.0"
   ]
  },
  {
   "cell_type": "markdown",
   "metadata": {},
   "source": [
    "在第一章中，我们专注于计算过程，以及程序设计中函数的作用。我们看到了如何使用原始数据（数值）和原始操作（算术运算），如何通过组合和控制来形成复合函数，以及如何通过给予过程名称来创建函数抽象。我们也看到了高阶函数通过操作通用计算方法来提升语言的威力。这是编程的本质。\n",
    "这一章会专注于数据。数据允许我们通过使用已经获得的计算工具，表示和操作与世界有关的信息。脱离数据结构的编程可能会满足于探索数学特性，但是真实世界的情况，比如文档、关系、城市和气候模式，都拥有复杂的结构，它最好使用复合数据类型来表现。归功于互联网的高速发展，关于世界的大量结构信息可以免费从网上获得。"
   ]
  },
  {
   "cell_type": "markdown",
   "metadata": {},
   "source": [
    "## 2.1.1 对象隐喻\n",
    "在这门课的开始，我们区分了函数和数据：函数执行操作，而数据被操作。当我们在数据中包含函数值时，我们承认数据也拥有行为。函数可以像数据一样被操作，但是也可以被调用来执行计算。\n",
    "在这门课中，对象作为我们对数据值的核心编程隐喻，它同样拥有行为。对象表示信息，但是同时和它们所表示的抽象概念行为一致。对象如何和其它对象交互的逻辑，和编码对象值的信息绑定在一起。在打印对象时，它知道如何以字母和数字把自己拼写出来。如果一个对象由几部分组成，它知道如何按照要求展示这些部分。对象既是信息也是过程，它们绑定在一起来展示复杂事物的属性、交互和行为。\n",
    "Python 中所实现的对象隐喻具有特定的对象语法和相关的术语，我们会使用示例来介绍。日期（date）就是一种简单对象。"
   ]
  },
  {
   "cell_type": "code",
   "execution_count": null,
   "metadata": {},
   "outputs": [],
   "source": [
    ">>> from datetime import date"
   ]
  },
  {
   "cell_type": "markdown",
   "metadata": {},
   "source": [
    "date的名字绑定到了一个类上面。类表示一类对象。独立的日期叫做这个类的实例，它们可以通过像函数那样在参数上调用这个类来构造，这些参数描述了实例。"
   ]
  },
  {
   "cell_type": "code",
   "execution_count": null,
   "metadata": {},
   "outputs": [],
   "source": [
    ">>> today = date(2011, 9, 12)"
   ]
  },
  {
   "cell_type": "markdown",
   "metadata": {},
   "source": [
    "虽然today从原始数值中构造，它的行为就像日期那样。例如，将它与另一个日期相减会得到时间差，它可以通过调用str来展示为一行文本："
   ]
  },
  {
   "cell_type": "code",
   "execution_count": null,
   "metadata": {},
   "outputs": [],
   "source": [
    ">>> str(date(2011, 12, 2) - today)\n",
    "'81 days, 0:00:00'"
   ]
  },
  {
   "cell_type": "markdown",
   "metadata": {},
   "source": [
    "对象拥有属性，它们是带有名字的值，也是对象的一部分。Python 中，我们使用点运算符来访问对象属性：\n",
    "<expression> . <name>\n",
    "上面的<expression>求值为对象，<name>是对象的某个属性名称。\n",
    "不像我们之前见过的名称，这些属性名称在一般的环境中不可用。反之，属性名称是点运算符之前的对象实例的特定部分。"
   ]
  },
  {
   "cell_type": "code",
   "execution_count": null,
   "metadata": {},
   "outputs": [],
   "source": [
    ">>> today.year\n",
    "2011"
   ]
  },
  {
   "cell_type": "markdown",
   "metadata": {},
   "source": [
    "对象也拥有方法，它是值为函数的属性。在隐喻上，对象“知道”如何执行这些方法。方法从它们的参数和对象中计算出它们的结果。例如，today的strftime方法接受一个指定如何展示日期的参数（例如%A表示星期几应该以全称拼写）。"
   ]
  },
  {
   "cell_type": "code",
   "execution_count": null,
   "metadata": {},
   "outputs": [],
   "source": [
    ">>> today.strftime('%A, %B %d')\n",
    "'Monday, September 12'"
   ]
  },
  {
   "cell_type": "markdown",
   "metadata": {},
   "source": [
    "计算strftime的返回值需要两个输入：描述输出格式的字符串，以及绑定到today的日期信息。这个方法使用日期特定的逻辑来产生结果。我们从不会说 2011 年九月十二日是星期一，但是知道一个人的工作日是日期的一部分。通过绑定行为和信息，Python 对象提供了可靠、独立的日期抽象。\n",
    "点运算符在 Python 中提供了另一种组合表达式。点运算符拥有定义好的求值过程。但是，点运算符如何求值的精确解释，要等到我们引入面向对象编程的完整范式，在几节之后。\n",
    "即使我们还不能精确描述对象如何工作，我们还是可以开始将数据看做对象，因为 Python 中万物皆对象。"
   ]
  },
  {
   "cell_type": "markdown",
   "metadata": {},
   "source": [
    "## 2.1.2 原始数据类型\n",
    "Python 中每个对象都拥有一个类型。type函数可以让我们查看对象的类型。"
   ]
  },
  {
   "cell_type": "code",
   "execution_count": null,
   "metadata": {},
   "outputs": [],
   "source": [
    ">>> type(today)\n",
    "<class 'datetime.date'>"
   ]
  },
  {
   "cell_type": "markdown",
   "metadata": {},
   "source": [
    "目前为止，我们学过的对象类型只有数值、函数、布尔值和现在的日期。我们也碰到了集合和字符串，但是需要更深入地学习它们。有许多其它的对象类型 -- 声音、图像、位置、数据连接等等 -- 它们的多数可以通过组合和抽象的手段来定义，我们在这一章会研究它们。Python 只有一小部分内建于语言的原始或原生数据类型。\n",
    "原始数据类型具有以下特性：\n",
    "原始表达式可以计算这些类型的对象，叫做字面值。\n",
    "内建的函数、运算符和方法可以操作这些对象。\n",
    "像我们看到的那样，数值是原始类型，数字字面值求值为数值，算术运算符操作数值对象："
   ]
  },
  {
   "cell_type": "code",
   "execution_count": null,
   "metadata": {},
   "outputs": [],
   "source": [
    ">>> 12 + 3000000000000000000000000\n",
    "3000000000000000000000012\n",
    "实际上，Python 包含了三个原始数值类型：整数（int）、实数（float）和复数（complex）。\n",
    ">>> type(2)\n",
    "<class 'int'>\n",
    ">>> type(1.5)\n",
    "<class 'float'>\n",
    ">>> type(1+1j)\n",
    "<class 'complex'>"
   ]
  },
  {
   "cell_type": "markdown",
   "metadata": {},
   "source": [
    "名称float来源于实数在 Python 中表示的方式：“浮点”表示。虽然数值表示的细节不是这门课的话题，一些int和float对象的高层差异仍然很重要。特别是，int对象只能表示整数，但是表示得更精确，不带有任何近似。另一方面，float对象可以表示很大范围内的分数，但是不能表示所有有理数。然而，浮点对象通常用于近似表示实数和有理数，舍入到某个有效数字的数值。\n",
    "**扩展阅读。**下面的章节介绍了更多的 Python 原始数据类型，专注于它们在创建实用数据抽象中的作用。Dive Into Python 3 中的原始数据类型一章提供了所有 Python 数据类型的实用概览，以及如何高效使用它们，还包含了许多使用示例和实践提示。你现在并不需要阅读它，但是要考虑将它作为宝贵的参考。"
   ]
  },
  {
   "cell_type": "markdown",
   "metadata": {},
   "source": [
    "# 2.2 数据抽象\n",
    "来源：2.2 Data Abstraction\n",
    "译者：飞龙\n",
    "协议：CC BY-NC-SA 4.0"
   ]
  },
  {
   "cell_type": "markdown",
   "metadata": {},
   "source": [
    "由于我们希望在程序中表达世界中的大量事物，我们发现它们的大多数都具有复合结构。日期是年月日，地理位置是精度和纬度。为了表示位置，我们希望程序语言具有将精度和纬度“粘合”为一对数据的能力 -- 也就是一个复合数据结构 -- 使我们的程序能够以一种方式操作数据，将位置看做单个概念单元，它拥有两个部分。\n",
    "复合数据的使用也让我们增加程序的模块性。如果我们可以直接将地理位置看做对象来操作，我们就可以将程序的各个部分分离，它们根据这些值如何表示来从本质上处理这些值。将某个部分从程序中分离的一般技巧是一种叫做数据抽象的强大的设计方法论。这个部分用于处理数据表示，而程序用于操作数据。数据抽象使程序更易于设计、维护和修改。\n",
    "数据抽象的特征类似于函数抽象。当我们创建函数抽象时，函数如何实现的细节被隐藏了，而且特定的函数本身可以被任何具有相同行为的函数替换。换句话说，我们可以构造抽象来使函数的使用方式和函数的实现细节分离。与之相似，数据抽象是一种方法论，使我们将复合数据对象的使用细节与它的构造方式隔离。\n",
    "数据抽象的基本概念是构造操作抽象数据的程序。也就是说，我们的程序应该以一种方式来使用数据，对数据做出尽可能少的假设。同时，需要定义具体的数据表示，独立于使用数据的程序。我们系统中这两部分的接口是一系列函数，叫做选择器和构造器，它们基于具体表示实现了抽象数据。为了演示这个技巧，我们需要考虑如何设计一系列函数来操作有理数。\n",
    "当你阅读下一节时，要记住当今编写的多数 Python 代码使用了非常高级的抽象数据类型，它们内建于语言中，比如类、字典和列表。由于我们正在了解这些抽象的工作原理，我们自己不能使用它们。所以，我们会编写一些不那么 Python 化的代码 -- 它并不是在语言中实现我们的概念的通常方式。但是，我们所编写的代码出于教育目的，它展示了这些抽象如何构建。要记住计算机科学并不只是学习如何使用编程语言，也学习它们的工作原理。"
   ]
  },
  {
   "cell_type": "markdown",
   "metadata": {},
   "source": [
    "## 2.2.1 示例：有理数的算术\n",
    "有理数可表示为整数的比值，并且它组成了实数的一个重要子类。类似于1/3或者17/29的有理数通常可编写为：\n",
    "<numerator>/<denominator>\n",
    "其中，<numerator>和<denominator>都是值为整数的占位符。有理数的值需要两部分来描述。\n",
    "有理数在计算机科学中很重要，因为它们就像整数那样，可以准确表示。无理数（比如pi 或者 e 或者 sqrt(2)）会使用有限的二元展开代替为近似值。所以在原则上，有理数的处理应该让我们避免算术中的近似误差。\n",
    "但是，一旦我们真正将分子与分母相除，我们就会只剩下截断的小数近似值："
   ]
  },
  {
   "cell_type": "code",
   "execution_count": null,
   "metadata": {},
   "outputs": [],
   "source": [
    ">>> 1/3\n",
    "0.3333333333333333\n",
    "当我们开始执行测试时，这个近似值的问题就会出现：\n",
    ">>> 1/3 == 0.333333333333333300000  # Beware of approximations\n",
    "True"
   ]
  },
  {
   "cell_type": "markdown",
   "metadata": {},
   "source": [
    "计算机如何将实数近似为定长的小数扩展，是另一门课的话题。这里的重要概念是，通过将有理数表示为整数的比值，我们能够完全避免近似问题。所以出于精确，我们希望将分子和分母分离，但是将它们看做一个单元。\n",
    "我们从函数抽象中了解到，我们可以在了解某些部分的实现之前开始编出东西来。让我们一开始假设我们已经拥有一种从分子和分母中构造有理数的方式。我们也假设，给定一个有理数，我们都有办法来提取（或选中）它的分子和分母。让我们进一步假设，构造器和选择器以下面三个函数来提供：\n",
    "make_rat(n, d)返回分子为n和分母为d的有理数。\n",
    "numer(x)返回有理数x的分子。\n",
    "denom(x)返回有理数x的分母。\n",
    "我们在这里正在使用一个强大的合成策略：心想事成。我们并没有说有理数如何表示，或者numer、denom和make_rat如何实现。即使这样，如果我们拥有了这三个函数，我们就可以执行加法、乘法，以及测试有理数的相等性，通过调用它们："
   ]
  },
  {
   "cell_type": "code",
   "execution_count": null,
   "metadata": {},
   "outputs": [],
   "source": [
    ">>> def add_rat(x, y):\n",
    "        nx, dx = numer(x), denom(x)\n",
    "        ny, dy = numer(y), denom(y)\n",
    "        return make_rat(nx * dy + ny * dx, dx * dy)\n",
    ">>> def mul_rat(x, y):\n",
    "        return make_rat(numer(x) * numer(y), denom(x) * denom(y))\n",
    ">>> def eq_rat(x, y):\n",
    "        return numer(x) * denom(y) == numer(y) * denom(x)"
   ]
  },
  {
   "cell_type": "markdown",
   "metadata": {},
   "source": [
    "现在我们拥有了由选择器函数numer和denom，以及构造器函数make_rat定义的有理数操作。但是我们还没有定义这些函数。我们需要以某种方式来将分子和分母粘合为一个单元。"
   ]
  },
  {
   "cell_type": "markdown",
   "metadata": {},
   "source": [
    "## 2.2.2 元组\n",
    "为了实现我们的数据抽象的具体层面，Python 提供了一种复合数据结构叫做tuple，它可以由逗号分隔的值来构造。虽然并不是严格要求，圆括号通常在元组周围。"
   ]
  },
  {
   "cell_type": "code",
   "execution_count": null,
   "metadata": {},
   "outputs": [],
   "source": [
    ">>> (1, 2)\n",
    "(1, 2)"
   ]
  },
  {
   "cell_type": "markdown",
   "metadata": {},
   "source": [
    "元组的元素可以由两种方式解构。第一种是我们熟悉的多重赋值："
   ]
  },
  {
   "cell_type": "code",
   "execution_count": null,
   "metadata": {},
   "outputs": [],
   "source": [
    ">>> pair = (1, 2)\n",
    ">>> pair\n",
    "(1, 2)\n",
    ">>> x, y = pair\n",
    ">>> x\n",
    "1\n",
    ">>> y\n",
    "2"
   ]
  },
  {
   "cell_type": "markdown",
   "metadata": {},
   "source": [
    "实际上，多重赋值的本质是创建和解构元组。\n",
    "访问元组元素的第二种方式是通过下标运算符，写作方括号："
   ]
  },
  {
   "cell_type": "code",
   "execution_count": null,
   "metadata": {},
   "outputs": [],
   "source": [
    ">>> pair[0]\n",
    "1\n",
    ">>> pair[1]\n",
    "2"
   ]
  },
  {
   "cell_type": "markdown",
   "metadata": {},
   "source": [
    "Python 中的元组（以及多数其它编程语言中的序列）下标都以 0 开始，也就是说，下标 0 表示第一个元素，下标 1 表示第二个元素，以此类推。我们对这个下标惯例的直觉是，下标表示一个元素距离元组开头有多远。\n",
    "与元素选择操作等价的函数叫做__getitem__，它也使用位置在元组中选择元素，位置的下标以 0 开始。"
   ]
  },
  {
   "cell_type": "code",
   "execution_count": null,
   "metadata": {},
   "outputs": [],
   "source": [
    ">>> from operator import getitem\n",
    ">>> getitem(pair, 0)\n",
    "1"
   ]
  },
  {
   "cell_type": "markdown",
   "metadata": {},
   "source": [
    "元素是原始类型，也就是说 Python 的内建运算符可以操作它们。我们不久之后再来看元素的完整特性。现在，我们只对元组如何作为胶水来实现抽象数据类型感兴趣。\n",
    "**表示有理数。**元素提供了一个自然的方式来将有理数实现为一对整数：分子和分母。我们可以通过操作二元组来实现我们的有理数构造器和选择器函数。"
   ]
  },
  {
   "cell_type": "code",
   "execution_count": null,
   "metadata": {},
   "outputs": [],
   "source": [
    ">>> def make_rat(n, d):\n",
    "        return (n, d)\n",
    ">>> def numer(x):\n",
    "        return getitem(x, 0)\n",
    ">>> def denom(x):\n",
    "        return getitem(x, 1)"
   ]
  },
  {
   "cell_type": "markdown",
   "metadata": {},
   "source": [
    "用于打印有理数的函数完成了我们对抽象数据结构的实现。"
   ]
  },
  {
   "cell_type": "code",
   "execution_count": null,
   "metadata": {},
   "outputs": [],
   "source": [
    ">>> def str_rat(x):\n",
    "        \"\"\"Return a string 'n/d' for numerator n and denominator d.\"\"\"\n",
    "        return '{0}/{1}'.format(numer(x), denom(x))"
   ]
  },
  {
   "cell_type": "markdown",
   "metadata": {},
   "source": [
    "将它与我们之前定义的算术运算放在一起，我们可以使用我们定义的函数来操作有理数了。"
   ]
  },
  {
   "cell_type": "code",
   "execution_count": null,
   "metadata": {},
   "outputs": [],
   "source": [
    ">>> half = make_rat(1, 2)\n",
    ">>> str_rat(half)\n",
    "'1/2'\n",
    ">>> third = make_rat(1, 3)\n",
    ">>> str_rat(mul_rat(half, third))\n",
    "'1/6'\n",
    ">>> str_rat(add_rat(third, third))\n",
    "'6/9'"
   ]
  },
  {
   "cell_type": "markdown",
   "metadata": {},
   "source": [
    "就像最后的例子所展示的那样，我们的有理数实现并没有将有理数化为最简。我们可以通过修改make_rat来补救。如果我们拥有用于计算两个整数的最大公约数的函数，我们可以在构造一对整数之前将分子和分母化为最简。这可以使用许多实用工具，例如 Python 库中的现存函数。"
   ]
  },
  {
   "cell_type": "code",
   "execution_count": null,
   "metadata": {},
   "outputs": [],
   "source": [
    ">>> from fractions import gcd\n",
    ">>> def make_rat(n, d):\n",
    "        g = gcd(n, d)\n",
    "        return (n//g, d//g)"
   ]
  },
  {
   "cell_type": "markdown",
   "metadata": {},
   "source": [
    "双斜杠运算符//表示整数除法，它会向下取整除法结果的小数部分。由于我们知道g能整除n和d，整数除法正好适用于这里。现在我们的"
   ]
  },
  {
   "cell_type": "code",
   "execution_count": null,
   "metadata": {},
   "outputs": [],
   "source": [
    ">>> str_rat(add_rat(third, third))\n",
    "'2/3'"
   ]
  },
  {
   "cell_type": "markdown",
   "metadata": {},
   "source": [
    "符合要求。这个修改只通过修改构造器来完成，并没有修改任何实现实际算术运算的函数。\n",
    "**扩展阅读。**上面的str_rat实现使用了格式化字符串，它包含了值的占位符。如何使用格式化字符串和format方法的细节请见 Dive Into Python 3 的格式化字符串一节。"
   ]
  },
  {
   "cell_type": "markdown",
   "metadata": {},
   "source": [
    "## 2.2.3 抽象界限\n",
    "在以更多复合数据和数据抽象的例子继续之前，让我们思考一些由有理数示例产生的问题。我们使用构造器make_rat和选择器numer和denom定义了操作。通常，数据抽象的底层概念是，基于某个值的类型的操作如何表达，为这个值的类型确定一组基本的操作。之后使用这些操作来操作数据。\n",
    "我们可以将有理数系统想象为一系列层级。\n",
    "\n",
    "平行线表示隔离系统不同层级的界限。每一层上，界限分离了使用数据抽象的函数（上面）和实现数据抽象的函数（下面）。使用有理数的程序仅仅通过算术函数来操作它们：add_rat、mul_rat和eq_rat。相应地，这些函数仅仅由构造器和选择器make_rat、numer和and denom来实现，它们本身由元组实现。元组如何实现的字节和其它层级没有关系，只要元组支持选择器和构造器的实现。\n",
    "每一层上，盒子中的函数强制划分了抽象的边界，因为它们仅仅依赖于上层的表现（通过使用）和底层的实现（通过定义）。这样，抽象界限可以表现为一系列函数。\n",
    "抽象界限具有许多好处。一个好处就是，它们使程序更易于维护和修改。很少的函数依赖于特定的表现，当一个人希望修改表现时，不需要做很多修改。"
   ]
  },
  {
   "cell_type": "markdown",
   "metadata": {},
   "source": [
    "## 2.2.4 数据属性\n",
    "我们通过实现算术运算来开始实现有理数，实现为这三个非特定函数：make_rat、numer和denom。这里，我们可以认为已经定义了数据对象 -- 分子、分母和有理数 -- 上的运算，它们的行为由这三个函数规定。\n",
    "但是数据意味着什么？我们还不能说“提供的选择器和构造器实现了任何东西”。我们需要保证这些函数一起规定了正确的行为。也就是说，如果我们从整数n和d中构造了有理数x，那么numer(x)/denom(x)应该等于n/d。\n",
    "通常，我们可以将抽象数据类型当做一些选择器和构造器的集合，并带有一些行为条件。只要满足了行为条件（比如上面的除法特性），这些函数就组成了数据类型的有效表示。\n",
    "这个观点可以用在其他数据类型上，例如我们为实现有理数而使用的二元组。我们实际上不会谈论元组是什么，而是谈论由语言提供的，用于操作和创建元组的运算符。我们现在可以描述二元组的行为条件，二元组通常叫做偶对，在表示有理数的问题中有所涉及。\n",
    "为了实现有理数，我们需要一种两个整数的粘合形式，它具有下列行为：\n",
    "如果一个偶对p由x和y构造，那么getitem_pair(p, 0)返回x，getitem_pair(p, 1)返回y。\n",
    "我们可以实现make_pair和getitem_pair，它们和元组一样满足这个描述："
   ]
  },
  {
   "cell_type": "code",
   "execution_count": null,
   "metadata": {},
   "outputs": [],
   "source": [
    ">>> def make_pair(x, y):\n",
    "        \"\"\"Return a function that behaves like a pair.\"\"\"\n",
    "        def dispatch(m):\n",
    "            if m == 0:\n",
    "                return x\n",
    "            elif m == 1:\n",
    "                return y\n",
    "        return dispatch\n",
    ">>> def getitem_pair(p, i):\n",
    "        \"\"\"Return the element at index i of pair p.\"\"\"\n",
    "        return p(i)"
   ]
  },
  {
   "cell_type": "markdown",
   "metadata": {},
   "source": [
    "使用这个实现，我们可以创建和操作偶对："
   ]
  },
  {
   "cell_type": "code",
   "execution_count": null,
   "metadata": {},
   "outputs": [],
   "source": [
    ">>> p = make_pair(1, 2)\n",
    ">>> getitem_pair(p, 0)\n",
    "1\n",
    ">>> getitem_pair(p, 1)\n",
    "2"
   ]
  },
  {
   "cell_type": "markdown",
   "metadata": {},
   "source": [
    "这个函数的用法不同于任何直观上的，数据应该是什么的概念。而且，这些函数满足于在我们的程序中表示复合数据。\n",
    "需要注意的微妙的一点是，由make_pair返回的值是叫做dispatch的函数，它接受参数m并返回x或y。之后，getitem_pair调用了这个函数来获取合适的值。我们在这一章中会多次返回这个调度函数的话题。\n",
    "这个偶对的函数表示并不是 Python 实际的工作机制（元组实现得更直接，出于性能因素），但是它可以以这种方式工作。这个函数表示虽然不是很明显，但是是一种足够完美来表示偶对的方式，因为它满足了偶对唯一需要满足的条件。这个例子也表明，将函数当做值来操作的能力，提供给我们表示复合数据的能力。"
   ]
  },
  {
   "cell_type": "markdown",
   "metadata": {},
   "source": [
    "# 2.3 序列\n",
    "来源：2.3 Sequences\n",
    "译者：飞龙\n",
    "协议：CC BY-NC-SA 4.0"
   ]
  },
  {
   "cell_type": "markdown",
   "metadata": {},
   "source": [
    "序列是数据值的顺序容器。不像偶对只有两个元素，序列可以拥有任意（但是有限）个有序元素。\n",
    "序列在计算机科学中是强大而基本的抽象。例如，如果我们使用序列，我们就可以列出伯克利的每个学生，或者世界上的每所大学，或者每所大学中的每个学生。我们可以列出上过的每一门课，提交的每个作业，或者得到的每个成绩。序列抽象让数千个数据驱动的程序影响着我们每天的生活。\n",
    "序列不是特定的抽象数据类型，而是不同类型共有的一组行为。也就是说，它们是许多序列种类，但是都有一定的属性。特别地，\n",
    "**长度。**序列拥有有限的长度。\n",
    "**元素选择。**序列的每个元素都拥有相应的非负整数作为下标，它小于序列长度，以第一个元素的 0 开始。\n",
    "不像抽象数据类型，我们并没有阐述如何构造序列。序列抽象是一组行为，它们并没有完全指定类型（例如，使用构造器和选择器），但是可以在多种类型中共享。序列提供了一个抽象层级，将特定程序如何操作序列类型的细节隐藏。\n",
    "这一节中，我们开发了一个特定的抽象数据类型，它可以实现序列抽象。我们之后介绍实现相同抽象的 Python 内建类型。"
   ]
  },
  {
   "cell_type": "markdown",
   "metadata": {},
   "source": [
    "## 2.3.1 嵌套偶对\n",
    "对于有理数，我们使用二元组将两个整数对象配对，之后展示了我们可以同样通过函数来实现偶对。这种情况下，每个我们构造的偶对的元素都是整数。然而，就像表达式，元组可以嵌套。每个偶对的元素本身也可以是偶对，这个特性在实现偶对的任意一个方法，元组或调度函数中都有效。\n",
    "可视化偶对的一个标准方法 -- 这里也就是偶对(1,2) -- 叫做盒子和指针记号。每个值，复合或原始，都描述为指向盒子的指针。原始值的盒子只包含那个值的表示。例如，数值的盒子只包含数字。偶对的盒子实际上是两个盒子：左边的部分（箭头指向的）包含偶对的第一个元素，右边的部分包含第二个。\n",
    "\n",
    "嵌套元素的 Python 表达式："
   ]
  },
  {
   "cell_type": "code",
   "execution_count": null,
   "metadata": {},
   "outputs": [],
   "source": [
    ">>> ((1, 2), (3, 4))\n",
    "((1, 2), (3, 4))"
   ]
  },
  {
   "cell_type": "markdown",
   "metadata": {},
   "source": [
    "具有下面的结构：\n",
    "\n",
    "使用元组作为其它元组元素的能力，提供了我们编程语言中的一个新的组合手段。我们将这种将元组以这种方式嵌套的能力叫做元组数据类型的封闭性。通常，如果组合结果自己可以使用相同的方式组合，组合数据值的方式就满足封闭性。封闭性在任何组合手段中都是核心能力，因为它允许我们创建层次数据结构 -- 结构由多个部分组成，它们自己也由多个部分组成，以此类推。我们在第三章会探索一些层次结构。现在，我们考虑一个特定的重要结构。"
   ]
  },
  {
   "cell_type": "markdown",
   "metadata": {},
   "source": [
    "## 2.3.2 递归列表\n",
    "我们可以使用嵌套偶对来构建任意长度的元素列表，它让我们能够实现抽象序列。下面的图展示了四元素列表1, 2, 3, 4的递归表示：\n",
    "\n",
    "这个列表由一系列偶对表示。每个偶对的第一个元素是列表中的元素，而第二个元素是用于表示列表其余部分的偶对。最后一个偶对的第二个元素是None，它表明列表到末尾了。我们可以使用嵌套的元组字面值来构造这个结构："
   ]
  },
  {
   "cell_type": "code",
   "execution_count": null,
   "metadata": {},
   "outputs": [],
   "source": [
    ">>> (1, (2, (3, (4, None))))\n",
    "(1, (2, (3, (4, None))))"
   ]
  },
  {
   "cell_type": "markdown",
   "metadata": {},
   "source": [
    "这个嵌套的结构通常对应了一种非常实用的序列思考方式，我们在 Python 解释器的执行规则中已经见过它了。一个非空序列可以划分为：\n",
    "它的第一个元素，以及\n",
    "序列的其余部分。\n",
    "序列的其余部分本身就是一个（可能为空的）序列。我们将序列的这种看法叫做递归，因为序列包含其它序列作为第二个组成部分。\n",
    "由于我们的列表表示是递归的，我们在实现中叫它rlist，以便不会和 Python 内建的list类型混淆，我们会稍后在这一章介绍它。一个递归列表可以由第一个元素和列表的剩余部分构造。None值表示空的递归列表。"
   ]
  },
  {
   "cell_type": "code",
   "execution_count": null,
   "metadata": {},
   "outputs": [],
   "source": [
    ">>> empty_rlist = None\n",
    ">>> def make_rlist(first, rest):\n",
    "        \"\"\"Make a recursive list from its first element and the rest.\"\"\"\n",
    "        return (first, rest)\n",
    ">>> def first(s):\n",
    "        \"\"\"Return the first element of a recursive list s.\"\"\"\n",
    "        return s[0]\n",
    ">>> def rest(s):\n",
    "        \"\"\"Return the rest of the elements of a recursive list s.\"\"\"\n",
    "        return s[1]"
   ]
  },
  {
   "cell_type": "markdown",
   "metadata": {},
   "source": [
    "这两个选择器和一个构造器，以及一个常量共同实现了抽象数据类型的递归列表。递归列表唯一的行为条件是，就像偶对那样，它的构造器和选择器是相反的函数。\n",
    "如果一个递归列表s由元素f和列表r构造，那么first(s)返回f，并且rest(s)返回r。\n",
    "我们可以使用构造器和选择器来操作递归列表。"
   ]
  },
  {
   "cell_type": "code",
   "execution_count": null,
   "metadata": {},
   "outputs": [],
   "source": [
    ">>> counts = make_rlist(1, make_rlist(2, make_rlist(3, make_rlist(4, empty_rlist))))\n",
    ">>> first(counts)\n",
    "1\n",
    ">>> rest(counts)\n",
    "(2, (3, (4, None)))"
   ]
  },
  {
   "cell_type": "markdown",
   "metadata": {},
   "source": [
    "递归列表可以按序储存元素序列，但是它还没有实现序列的抽象。使用我们已经定义的数据类型抽象，我们就可以实现描述两个序列的行为：长度和元素选择。"
   ]
  },
  {
   "cell_type": "code",
   "execution_count": null,
   "metadata": {},
   "outputs": [],
   "source": [
    ">>> def len_rlist(s):\n",
    "        \"\"\"Return the length of recursive list s.\"\"\"\n",
    "        length = 0\n",
    "        while s != empty_rlist:\n",
    "            s, length = rest(s), length + 1\n",
    "        return length\n",
    ">>> def getitem_rlist(s, i):\n",
    "        \"\"\"Return the element at index i of recursive list s.\"\"\"\n",
    "        while i > 0:\n",
    "            s, i = rest(s), i - 1\n",
    "        return first(s)"
   ]
  },
  {
   "cell_type": "markdown",
   "metadata": {},
   "source": [
    "现在，现可以将递归列表用作序列了："
   ]
  },
  {
   "cell_type": "code",
   "execution_count": null,
   "metadata": {},
   "outputs": [],
   "source": [
    ">>> len_rlist(counts)\n",
    "4\n",
    ">>> getitem_rlist(counts, 1)  # The second item has index 1\n",
    "2"
   ]
  },
  {
   "cell_type": "markdown",
   "metadata": {},
   "source": [
    "两个实现都是可迭代的。它们隔离了嵌套偶对的每个层级，直到列表的末尾（在len_rlist中），或者到达了想要的元素（在getitem_rlist中）。\n",
    "下面的一系列环境图示展示了迭代过程，getitem_rlist通过它找到了递归列表中下标1中的元素2。\n",
    "\n",
    "while头部中的表达式求值为真，这会导致while语句组中的赋值语句被执行：\n",
    "\n",
    "这里，局部名称s现在指向以原列表第二个元素开始的子列表。现在，while头中的表达式求值为假，于是 Python 会求出getitem_rlist最后一行中返回语句中的表达式。\n",
    "\n",
    "最后的环境图示展示了调用first的局部帧，它包含绑定到相同子列表的s。first函数挑选出值2并返回了它，完成了getitem_rlist的调用。\n",
    "这个例子演示了递归列表计算的常见模式，其中迭代的每一步都操作原列表的一个逐渐变短的后缀。寻找递归列表的长度和元素的渐进式处理过程需要一些时间来计算。（第三章中，我们会学会描述这种函数的计算时间。）Python 的内建序列类型以不同方式实现，它对于计算序列长度和获取元素并不具有大量的计算开销。"
   ]
  },
  {
   "cell_type": "markdown",
   "metadata": {},
   "source": [
    "## 2.3.2 元组 II\n",
    "实际上，我们引入用于形成原始偶对的tuple类型本身就是完整的序列类型。元组比起我们以函数式实现的偶对抽象数据结构，本质上提供了更多功能。\n",
    "元组具有任意的长度，并且也拥有序列抽象的两个基本行为：长度和元素选择。下面的digits是一个四元素元组。"
   ]
  },
  {
   "cell_type": "code",
   "execution_count": null,
   "metadata": {},
   "outputs": [],
   "source": [
    ">>> digits = (1, 8, 2, 8)\n",
    ">>> len(digits)\n",
    "4\n",
    ">>> digits[3]\n",
    "8"
   ]
  },
  {
   "cell_type": "markdown",
   "metadata": {},
   "source": [
    "此外，元素可以彼此相加以及与整数相乘。对于元组，加法和乘法操作并不对元素相加或相乘，而是组合和重复元组本身。也就是说，operator模块中的add函数（以及+运算符）返回两个被加参数连接成的新元组。operator模块中的mul函数（以及*运算符）接受整数k和元组，并返回含有元组参数k个副本的新元组。"
   ]
  },
  {
   "cell_type": "code",
   "execution_count": null,
   "metadata": {},
   "outputs": [],
   "source": [
    ">>> (2, 7) + digits * 2\n",
    "(2, 7, 1, 8, 2, 8, 1, 8, 2, 8)"
   ]
  },
  {
   "cell_type": "markdown",
   "metadata": {},
   "source": [
    "**映射。**将一个元组变换为另一个元组的强大手段是在每个元素上调用函数，并收集结果。这一计算的常用形式叫做在序列上映射函数，对应内建函数map。map的结果是一个本身不是序列的对象，但是可以通过调用tuple来转换为序列。它是元组的构造器。"
   ]
  },
  {
   "cell_type": "code",
   "execution_count": null,
   "metadata": {},
   "outputs": [],
   "source": [
    ">>> alternates = (-1, 2, -3, 4, -5)\n",
    ">>> tuple(map(abs, alternates))\n",
    "(1, 2, 3, 4, 5)"
   ]
  },
  {
   "cell_type": "markdown",
   "metadata": {},
   "source": [
    "map函数非常重要，因为它依赖于序列抽象：我们不需要关心底层元组的结构，只需要能够独立访问每个元素，以便将它作为参数传入用于映射的函数中（这里是abs）。"
   ]
  },
  {
   "cell_type": "markdown",
   "metadata": {},
   "source": [
    "## 2.3.4 序列迭代\n",
    "映射本身就是通用计算模式的一个实例：在序列中迭代所有元素。为了在序列上映射函数，我们不仅仅需要选择特定的元素，还要依次选择每个元素。这个模式非常普遍，Python 拥有额外的控制语句来处理序列数据：for语句。\n",
    "考虑一个问题，计算一个值在序列中出现了多少次。我们可以使用while循环实现一个函数来计算这个数量。"
   ]
  },
  {
   "cell_type": "code",
   "execution_count": null,
   "metadata": {},
   "outputs": [],
   "source": [
    ">>> def count(s, value):\n",
    "        \"\"\"Count the number of occurrences of value in sequence s.\"\"\"\n",
    "        total, index = 0, 0\n",
    "        while index < len(s):\n",
    "            if s[index] == value:\n",
    "                total = total + 1\n",
    "            index = index + 1\n",
    "        return total\n",
    ">>> count(digits, 8)\n",
    "2"
   ]
  },
  {
   "cell_type": "markdown",
   "metadata": {},
   "source": [
    "Python for语句可以通过直接迭代元素值来简化这个函数体，完全不需要引入index。例如（原文是For example，为双关语），我们可以写成："
   ]
  },
  {
   "cell_type": "code",
   "execution_count": null,
   "metadata": {},
   "outputs": [],
   "source": [
    ">>> def count(s, value):\n",
    "        \"\"\"Count the number of occurrences of value in sequence s.\"\"\"\n",
    "        total = 0\n",
    "        for elem in s:\n",
    "            if elem == value:\n",
    "                total = total + 1\n",
    "        return total\n",
    ">>> count(digits, 8)\n",
    "2"
   ]
  },
  {
   "cell_type": "markdown",
   "metadata": {},
   "source": [
    "for语句按照以下过程来执行：\n",
    "求出头部表达式<expression>，它必须产生一个可迭代的值。\n",
    "对于序列中的每个元素值，按顺序： \n",
    "在局部环境中将变量名<name>绑定到这个值上。\n",
    "执行语句组<suite>。\n",
    "步骤 1 引用了可迭代的值。序列是可迭代的，它们的元素可看做迭代的顺序。Python 的确拥有其他可迭代类型，但是我们现在只关注序列。术语“可迭代对象”的一般定义会在第四章的迭代器一节中出现。\n",
    "这个求值过程的一个重要结果是，在for语句执行完毕之后，<name>会绑定到序列的最后一个元素上。这个for循环引入了另一种方式，其中局部环境可以由语句来更新。\n",
    "**序列解构。**程序中的一个常见模式是，序列的元素本身就是序列，但是具有固定的长度。for语句可在头部中包含多个名称，将每个元素序列“解构”为各个元素。例如，我们拥有一个偶对（也就是二元组）的序列："
   ]
  },
  {
   "cell_type": "code",
   "execution_count": null,
   "metadata": {},
   "outputs": [],
   "source": [
    ">>> pairs = ((1, 2), (2, 2), (2, 3), (4, 4))"
   ]
  },
  {
   "cell_type": "markdown",
   "metadata": {},
   "source": [
    "下面的for语句的头部带有两个名词，会将每个名称x和y分别绑定到每个偶对的第一个和第二个元素上。"
   ]
  },
  {
   "cell_type": "code",
   "execution_count": null,
   "metadata": {},
   "outputs": [],
   "source": [
    ">>> for x, y in pairs:\n",
    "        if x == y:\n",
    "            same_count = same_count + 1\n",
    ">>> same_count\n",
    "2"
   ]
  },
  {
   "cell_type": "markdown",
   "metadata": {},
   "source": [
    "这个绑定多个名称到定长序列中多个值的模式，叫做序列解构。它的模式和我们在赋值语句中看到的，将多个名称绑定到多个值的模式相同。\n",
    "范围。range是另一种 Python 的内建序列类型，它表示一个整数范围。范围可以使用range函数来创建，它接受两个整数参数：所得范围的第一个数值和最后一个数值加一。"
   ]
  },
  {
   "cell_type": "code",
   "execution_count": null,
   "metadata": {},
   "outputs": [],
   "source": [
    ">>> range(1, 10)  # Includes 1, but not 10\n",
    "range(1, 10)"
   ]
  },
  {
   "cell_type": "markdown",
   "metadata": {},
   "source": [
    "在范围上调用tuple构造器会创建与范围具有相同元素的元组，使元素易于查看。"
   ]
  },
  {
   "cell_type": "code",
   "execution_count": null,
   "metadata": {},
   "outputs": [],
   "source": [
    ">>> tuple(range(5, 8))\n",
    "(5, 6, 7)"
   ]
  },
  {
   "cell_type": "markdown",
   "metadata": {},
   "source": [
    "如果只提供了一个元素，它会解释为最后一个数值加一，范围开始于 0。"
   ]
  },
  {
   "cell_type": "code",
   "execution_count": null,
   "metadata": {},
   "outputs": [],
   "source": [
    ">>> total = 0\n",
    ">>> for k in range(5, 8):\n",
    "        total = total + k\n",
    ">>> total\n",
    "18"
   ]
  },
  {
   "cell_type": "markdown",
   "metadata": {},
   "source": [
    "常见的惯例是将单下划线字符用于for头部，如果这个名称在语句组中不会使用。"
   ]
  },
  {
   "cell_type": "code",
   "execution_count": null,
   "metadata": {},
   "outputs": [],
   "source": [
    ">>> for _ in range(3):\n",
    "        print('Go Bears!')\n",
    "\n",
    "Go Bears!\n",
    "Go Bears!\n",
    "Go Bears!"
   ]
  },
  {
   "cell_type": "markdown",
   "metadata": {},
   "source": [
    "要注意对解释器来说，下划线只是另一个名称，但是在程序员中具有固定含义，它表明这个名称不应出现在任何表达式中。"
   ]
  },
  {
   "cell_type": "markdown",
   "metadata": {},
   "source": [
    "## 2.3.5 序列抽象\n",
    "我们已经介绍了两种原生数据类型，它们实现了序列抽象：元组和范围。两个都满足这一章开始时的条件：长度和元素选择。Python 还包含了两种序列类型的行为，它们扩展了序列抽象。\n",
    "**成员性。**可以测试一个值在序列中的成员性。Python 拥有两个操作符in和not in，取决于元素是否在序列中出现而求值为True和False。"
   ]
  },
  {
   "cell_type": "code",
   "execution_count": null,
   "metadata": {},
   "outputs": [],
   "source": [
    ">>> digits\n",
    "(1, 8, 2, 8)\n",
    ">>> 2 in digits\n",
    "True\n",
    ">>> 1828 not in digits\n",
    "True"
   ]
  },
  {
   "cell_type": "markdown",
   "metadata": {},
   "source": [
    "所有序列都有叫做index和count的方法，它会返回序列中某个值的下标（或者数量）。\n",
    "**切片。**序列包含其中的子序列。我们在开发我们的嵌套偶对实现时观察到了这一点，它将序列切分为它的第一个元素和其余部分。序列的切片是原序列的任何部分，由一对整数指定。就像range构造器那样，第一个整数表示切片的起始下标，第二个表示结束下标加一。\n",
    "Python 中，序列切片的表示类似于元素选择，使用方括号。冒号分割了起始和结束下标。任何边界上的省略都被当作极限值：起始下标为 0，结束下标是序列长度。"
   ]
  },
  {
   "cell_type": "code",
   "execution_count": null,
   "metadata": {},
   "outputs": [],
   "source": [
    ">>> digits[0:2]\n",
    "(1, 8)\n",
    ">>> digits[1:]\n",
    "(8, 2, 8)"
   ]
  },
  {
   "cell_type": "markdown",
   "metadata": {},
   "source": [
    "Python 序列抽象的这些额外行为的枚举，给我们了一个机会来反思数据抽象通常由什么构成。抽象的丰富性（也就是说它包含行为的多少）非常重要。对于使用抽象的用户，额外的行为很有帮助，另一方面，满足新类型抽象的丰富需求是个挑战。为了确保我们的递归列表实现支持这些额外的行为，需要一些工作量。另一个抽象丰富性的负面结果是，它们需要用户长时间学习。\n",
    "序列拥有丰富的抽象，因为它们在计算中无处不在，所以学习一些复杂的行为是合理的。通常，多数用户定义的抽象应该尽可能简单。\n",
    "**扩展阅读。**切片符号接受很多特殊情况，例如负的起始值，结束值和步长。Dive Into Python 3 中有一节叫做列表切片，完整描述了它。这一章中，我们只会用到上面描述的基本特性。"
   ]
  },
  {
   "cell_type": "markdown",
   "metadata": {},
   "source": [
    "## 2.3.6 字符串\n",
    "文本值可能比数值对计算机科学来说更基本。作为一个例子，Python 程序以文本编写和储存。Python 中原生的文本数据类型叫做字符串，相应的构造器是str。\n",
    "关于字符串在 Python 中如何表示和操作有许多细节。字符串是丰富抽象的另一个示例，程序员需要满足一些实质性要求来掌握。这一节是字符串基本行为的摘要。\n",
    "字符串字面值可以表达任意文本，被单引号或者双引号包围。"
   ]
  },
  {
   "cell_type": "code",
   "execution_count": null,
   "metadata": {},
   "outputs": [],
   "source": [
    ">>> 'I am string!'\n",
    "'I am string!'\n",
    ">>> \"I've got an apostrophe\"\n",
    "\"I've got an apostrophe\"\n",
    ">>> '您好'\n",
    "'您好'"
   ]
  },
  {
   "cell_type": "markdown",
   "metadata": {},
   "source": [
    "我们已经在代码中见过字符串了，在print的调用中作为文档字符串，以及在assert语句中作为错误信息。\n",
    "字符串满足两个基本的序列条件，我们在这一节开始介绍过它们：它们拥有长度并且支持元素选择。"
   ]
  },
  {
   "cell_type": "code",
   "execution_count": null,
   "metadata": {},
   "outputs": [],
   "source": [
    ">>> city = 'Berkeley'\n",
    ">>> len(city)\n",
    "8\n",
    ">>> city[3]\n",
    "'k'"
   ]
  },
  {
   "cell_type": "markdown",
   "metadata": {},
   "source": [
    "字符串的元素本身就是包含单一字符的字符串。字符是字母表中的任意单一字符，标点符号，或者其它符号。不像许多其它编程语言那样，Python 没有单独的字符类型，任何文本都是字符串，表示单一字符的字符串长度为 1、\n",
    "就像元组，字符串可以通过加法和乘法来组合："
   ]
  },
  {
   "cell_type": "code",
   "execution_count": null,
   "metadata": {},
   "outputs": [],
   "source": [
    ">>> city = 'Berkeley'\n",
    ">>> len(city)\n",
    "8\n",
    ">>> city[3]\n",
    "'k'"
   ]
  },
  {
   "cell_type": "markdown",
   "metadata": {},
   "source": [
    "字符串的行为不同于 Python 中其它序列类型。字符串抽象没有实现我们为元组和范围描述的完整序列抽象。特别地，字符串上实现了成员性运算符in，但是与序列上的实现具有完全不同的行为。它匹配子字符串而不是元素。"
   ]
  },
  {
   "cell_type": "code",
   "execution_count": null,
   "metadata": {},
   "outputs": [],
   "source": [
    ">>> 'here' in \"Where's Waldo?\"\n",
    "True"
   ]
  },
  {
   "cell_type": "markdown",
   "metadata": {},
   "source": [
    "与之相似，字符串上的count和index方法接受子串作为参数，而不是单一字符。count的行为有细微差别，它统计字符串中非重叠字串的出现次数。"
   ]
  },
  {
   "cell_type": "code",
   "execution_count": null,
   "metadata": {},
   "outputs": [],
   "source": [
    ">>> 'Mississippi'.count('i')\n",
    "4\n",
    ">>> 'Mississippi'.count('issi')\n",
    "1"
   ]
  },
  {
   "cell_type": "markdown",
   "metadata": {},
   "source": [
    "**多行文本。**字符串并不限制于单行文本，三个引号分隔的字符串字面值可以跨越多行。我们已经在文档字符串中使用了三个引号。"
   ]
  },
  {
   "cell_type": "code",
   "execution_count": null,
   "metadata": {},
   "outputs": [],
   "source": [
    ">>> \"\"\"The Zen of Python\n",
    "claims, Readability counts.\n",
    "Read more: import this.\"\"\"\n",
    "'The Zen of Python\\nclaims, \"Readability counts.\"\\nRead more: import this.'"
   ]
  },
  {
   "cell_type": "markdown",
   "metadata": {},
   "source": [
    "在上面的打印结果中，\\n（叫做“反斜杠加 n”）是表示新行的单一元素。虽然它表示为两个字符（反斜杠和 n）。它在长度和元素选择上被认为是单个字符。\n",
    "**字符串强制。**字符串可以从 Python 的任何对象通过以某个对象值作为参数调用str构造函数来创建，这个字符串的特性对于从多种类型的对象中构造描述性字符串非常实用。"
   ]
  },
  {
   "cell_type": "code",
   "execution_count": null,
   "metadata": {},
   "outputs": [],
   "source": [
    ">>> str(2) + ' is an element of ' + str(digits)\n",
    "'2 is an element of (1, 8, 2, 8)'"
   ]
  },
  {
   "cell_type": "markdown",
   "metadata": {},
   "source": [
    "str函数可以以任何类型的参数调用，并返回合适的值，这个机制是后面的泛用函数的主题。\n",
    "**方法。**字符串在 Python 中的行为非常具有生产力，因为大量的方法都返回字符串的变体或者搜索其内容。一部分这些方法由下面的示例介绍。"
   ]
  },
  {
   "cell_type": "code",
   "execution_count": null,
   "metadata": {},
   "outputs": [],
   "source": [
    ">>> '1234'.isnumeric()\n",
    "True\n",
    ">>> 'rOBERT dE nIRO'.swapcase()\n",
    "'Robert De Niro'\n",
    ">>> 'snakeyes'.upper().endswith('YES')\n",
    "True"
   ]
  },
  {
   "cell_type": "markdown",
   "metadata": {},
   "source": [
    "**扩展阅读。**计算机中的文本编码是个复杂的话题。这一章中，我们会移走字符串如何表示的细节，但是，对许多应用来说，字符串如何由计算机编码的特定细节是必要的知识。Dive Into Python 3 的 4.1 ~ 4.3 节提供了字符编码和 Unicode 的描述。"
   ]
  },
  {
   "cell_type": "markdown",
   "metadata": {},
   "source": [
    "## 2.3.7 接口约定\n",
    "在复合数据的处理中，我们强调了数据抽象如何让我们设计程序而不陷入数据表示的细节，以及抽象如何为我们保留灵活性来尝试备用表示。这一节中，我们引入了另一种强大的设计原则来处理数据结构 -- 接口约定的用法。\n",
    "接口约定使在许多组件模块中共享的数据格式，它可以混合和匹配来展示数据。例如，如果我们拥有多个函数，它们全部接受序列作为参数并且返回序列值，我们就可以把它们每一个用于上一个的输出上，并选择任意一种顺序。这样，我们就可以通过将函数链接成流水线，来创建一个复杂的过程，每个函数都是简单而专一的。\n",
    "这一节有两个目的，来介绍以接口约定组织程序的概念，以及展示模块化序列处理的示例。\n",
    "考虑下面两个问题，它们首次出现，并且只和序列的使用相关。\n",
    "对前n个斐波那契数中的偶数求和。\n",
    "列出一个名称中的所有缩写字母，它包含每个大写单词的首字母。\n",
    "这些问题是有关系的，因为它们可以解构为简单的操作，它们接受序列作为输入，并产出序列作为输出。而且，这些操作是序列上的计算的一般方法的实例。让我们思考第一个问题，它可以解构为下面的步骤：\n",
    " enumerate     map    filter  accumulate\n",
    "-----------    ---    ------  ----------\n",
    "naturals(n)    fib    iseven     sum\n",
    "下面的fib函数计算了斐波那契数（现在使用了for语句更新了第一章中的定义）。"
   ]
  },
  {
   "cell_type": "code",
   "execution_count": null,
   "metadata": {},
   "outputs": [],
   "source": [
    ">>> def fib(k):\n",
    "        \"\"\"Compute the kth Fibonacci number.\"\"\"\n",
    "        prev, curr = 1, 0  # curr is the first Fibonacci number.\n",
    "        for _ in range(k - 1):\n",
    "             prev, curr = curr, prev + curr\n",
    "        return curr"
   ]
  },
  {
   "cell_type": "markdown",
   "metadata": {},
   "source": [
    "谓词iseven可以使用整数取余运算符%来定义。"
   ]
  },
  {
   "cell_type": "code",
   "execution_count": null,
   "metadata": {},
   "outputs": [],
   "source": [
    ">>> def iseven(n):\n",
    "        return n % 2 == 0"
   ]
  },
  {
   "cell_type": "markdown",
   "metadata": {},
   "source": [
    "map和filter函数是序列操作，我们已经见过了map，它在序列中的每个元素上调用函数并且收集结果。filter函数接受序列，并且返回序列中谓词为真的元素。两个函数都返回间接对象，map和filter对象，它们是可以转换为元组或求和的可迭代对象。"
   ]
  },
  {
   "cell_type": "code",
   "execution_count": null,
   "metadata": {},
   "outputs": [],
   "source": [
    ">>> nums = (5, 6, -7, -8, 9)\n",
    ">>> tuple(filter(iseven, nums))\n",
    "(6, -8)\n",
    ">>> sum(map(abs, nums))\n",
    "35"
   ]
  },
  {
   "cell_type": "markdown",
   "metadata": {},
   "source": [
    "现在我们可以实现even_fib，第一个问题的解，使用map、filter和sum。"
   ]
  },
  {
   "cell_type": "code",
   "execution_count": null,
   "metadata": {},
   "outputs": [],
   "source": [
    ">>> def sum_even_fibs(n):\n",
    "        \"\"\"Sum the first n even Fibonacci numbers.\"\"\"\n",
    "        return sum(filter(iseven, map(fib, range(1, n+1))))\n",
    ">>> sum_even_fibs(20)\n",
    "3382"
   ]
  },
  {
   "cell_type": "markdown",
   "metadata": {},
   "source": [
    "现在，让我们思考第二个问题。它可以解构为序列操作的流水线，包含map和filter。"
   ]
  },
  {
   "cell_type": "markdown",
   "metadata": {},
   "source": [
    "enumerate  filter   map   accumulate\n",
    "---------  ------  -----  ----------\n",
    "  words    iscap   first    tuple\n",
    "字符串中的单词可以通过字符串对象上的split方法来枚举，默认以空格分割。"
   ]
  },
  {
   "cell_type": "code",
   "execution_count": null,
   "metadata": {},
   "outputs": [],
   "source": [
    ">>> tuple('Spaces between words'.split())\n",
    "('Spaces', 'between', 'words')"
   ]
  },
  {
   "cell_type": "markdown",
   "metadata": {},
   "source": [
    "单词的第一个字母可以使用选择运算符来获取，确定一个单词是否大写的谓词可以使用内建谓词isupper定义。"
   ]
  },
  {
   "cell_type": "code",
   "execution_count": null,
   "metadata": {},
   "outputs": [],
   "source": [
    ">>> def first(s):\n",
    "        return s[0]\n",
    ">>> def iscap(s):\n",
    "        return len(s) > 0 and s[0].isupper()"
   ]
  },
  {
   "cell_type": "markdown",
   "metadata": {},
   "source": [
    "这里，我们的缩写函数可以使用map和filter定义。"
   ]
  },
  {
   "cell_type": "code",
   "execution_count": null,
   "metadata": {},
   "outputs": [],
   "source": [
    ">>> def acronym(name):\n",
    "        \"\"\"Return a tuple of the letters that form the acronym for name.\"\"\"\n",
    "        return tuple(map(first, filter(iscap, name.split())))\n",
    ">>> acronym('University of California Berkeley Undergraduate Graphics Group')\n",
    "('U', 'C', 'B', 'U', 'G', 'G')"
   ]
  },
  {
   "cell_type": "markdown",
   "metadata": {},
   "source": [
    "这些不同问题的相似解法展示了如何使用通用的计算模式，例如映射、过滤和累计，来组合序列的接口约定上的操作。序列抽象让我们编写出这些简明的解法。\n",
    "将程序表达为序列操作有助于我们设计模块化的程序。也就是说，我们的设计由组合相关的独立片段构建，每个片段都对序列进行转换。通常，我们可以通过提供带有接口约定的标准组件库来鼓励模块化设计，接口约定以灵活的方式连接这些组件。\n",
    "**生成器表达式。**Python 语言包含第二个处理序列的途径，叫做生成器表达式。它提供了与map和reduce相似的功能，但是需要更少的函数定义。\n",
    "生成器表达式组合了过滤和映射的概念，并集成于单一的表达式中，以下面的形式：\n",
    "<map expression> for <name> in <sequence expression> if <filter expression>\n",
    "为了求出生成器表达式，Python 先求出<sequence expression>，它必须返回一个可迭代值。之后，对于每个元素，按顺序将元素值绑定到<name>，求出过滤器表达式，如果它产生真值，就会求出映射表达式。\n",
    "生成器表达式的求解结果值本身是个可迭代值。累计函数，比如tuple、sum、max和min可以将返回的对象作为参数。"
   ]
  },
  {
   "cell_type": "code",
   "execution_count": null,
   "metadata": {},
   "outputs": [],
   "source": [
    ">>> def acronym(name):\n",
    "        return tuple(w[0] for w in name.split() if iscap(w))\n",
    ">>> def sum_even_fibs(n):\n",
    "        return sum(fib(k) for k in range(1, n+1) if fib(k) % 2 == 0)"
   ]
  },
  {
   "cell_type": "markdown",
   "metadata": {},
   "source": [
    "生成器表达式是使用可迭代（例如序列）接口约定的特化语法。这些表达式包含了map和filter的大部分功能，但是避免了被调用函数的实际创建（或者，顺便也避免了环境帧的创建需要调用这些函数）。\n",
    "**归约。**在我们的示例中，我们使用特定的函数来累计结果，例如tuple或者sum。函数式编程语言（包括 Python）包含通用的高阶累加器，具有多种名称。Python 在functools模块中包含reduce，它对序列中的元素从左到右依次调用二元函数，将序列归约为一个值。下面的表达式计算了五个因数的积。"
   ]
  },
  {
   "cell_type": "code",
   "execution_count": null,
   "metadata": {},
   "outputs": [],
   "source": [
    ">>> from operator import mul\n",
    ">>> from functools import reduce\n",
    ">>> reduce(mul, (1, 2, 3, 4, 5))\n",
    "120"
   ]
  },
  {
   "cell_type": "markdown",
   "metadata": {},
   "source": [
    "使用这个更普遍的累计形式，除了求和之外，我们也可以计算斐波那契数列中奇数的积，将序列用作接口约定。"
   ]
  },
  {
   "cell_type": "code",
   "execution_count": null,
   "metadata": {},
   "outputs": [],
   "source": [
    ">>> def product_even_fibs(n):\n",
    "        \"\"\"Return the product of the first n even Fibonacci numbers, except 0.\"\"\"\n",
    "        return reduce(mul, filter(iseven, map(fib, range(2, n+1))))\n",
    ">>> product_even_fibs(20)\n",
    "123476336640"
   ]
  },
  {
   "cell_type": "markdown",
   "metadata": {},
   "source": [
    "与map、filter和reduce对应的高阶过程的组合会再一次在第四章出现，在我们思考多台计算机之间的分布式计算方法的时候。"
   ]
  },
  {
   "cell_type": "markdown",
   "metadata": {},
   "source": [
    "# 2.4 可变数据\n",
    "来源：2.4 Mutable Data\n",
    "译者：飞龙\n",
    "协议：CC BY-NC-SA 4.0"
   ]
  },
  {
   "cell_type": "markdown",
   "metadata": {},
   "source": [
    "我们已经看到了抽象在帮助我们应对大型系统的复杂性时如何至关重要。有效的程序整合也需要一些组织原则，指导我们构思程序的概要设计。特别地，我们需要一些策略来帮助我们构建大型系统，使之模块化。也就是说，它们可以“自然”划分为可以分离开发和维护的各个相关部分。\n",
    "我们用于创建模块化程序的强大工具之一，是引入可能会随时间改变的新类型数据。这样，单个数据可以表示独立于其他程序演化的东西。对象行为的改变可能会由它的历史影响，就像世界中的实体那样。向数据添加状态是这一章最终目标：面向对象编程的要素。\n",
    "我们目前引入的原生数据类型 -- 数值、布尔值、元组、范围和字符串 -- 都是不可变类型的对象。虽然名称的绑定可以在执行过程中修改为环境中不同的值，但是这些值本身不会改变。这一章中，我们会介绍一组可变数据类型。可变对象可以在程序执行期间改变。"
   ]
  },
  {
   "cell_type": "markdown",
   "metadata": {},
   "source": [
    "## 2.4.1 局部状态\n",
    "我们第一个可变对象的例子就是局部状态。这个状态会在程序执行期间改变。\n",
    "为了展示函数的局部状态是什么东西，让我们对从银行取钱的情况进行建模。我们会通过创建叫做withdraw的函数来实现它，它将要取出的金额作为参数。如果账户中有足够的钱来取出，withdraw应该返回取钱之后的余额。否则，withdraw应该返回消息'Insufficient funds'。例如，如果我们以账户中的$100开始，我们希望通过调用withdraw来得到下面的序列："
   ]
  },
  {
   "cell_type": "code",
   "execution_count": null,
   "metadata": {},
   "outputs": [],
   "source": [
    ">>> withdraw(25)\n",
    "75\n",
    ">>> withdraw(25)\n",
    "50\n",
    ">>> withdraw(60)\n",
    "'Insufficient funds'\n",
    ">>> withdraw(15)\n",
    "35"
   ]
  },
  {
   "cell_type": "markdown",
   "metadata": {},
   "source": [
    "观察表达式withdraw(25)，求值了两次，产生了不同的值。这是一种用户定义函数的新行为：它是非纯函数。调用函数不仅仅返回一个值，同时具有以一些方式修改函数的副作用，使带有相同参数的下次调用返回不同的结果。我们所有用户定义的函数，到目前为止都是纯函数，除非他们调用了非纯的内建函数。它们仍旧是纯函数，因为它们并不允许修改任何在局部环境帧之外的东西。\n",
    "为了使withdraw有意义，它必须由一个初始账户余额创建。make_withdraw函数是个高阶函数，接受起始余额作为参数，withdraw函数是它的返回值。"
   ]
  },
  {
   "cell_type": "code",
   "execution_count": null,
   "metadata": {},
   "outputs": [],
   "source": [
    ">>> withdraw = make_withdraw(100)"
   ]
  },
  {
   "cell_type": "markdown",
   "metadata": {},
   "source": [
    "make_withdraw的实现需要新类型的语句：nonlocal语句。当我们调用make_withdraw时，我们将名称balance绑定到初始值上。之后我们定义并返回了局部函数，withdraw，它在调用时更新并返回balance的值。"
   ]
  },
  {
   "cell_type": "code",
   "execution_count": null,
   "metadata": {},
   "outputs": [],
   "source": [
    ">>> def make_withdraw(balance):\n",
    "        \"\"\"Return a withdraw function that draws down balance with each call.\"\"\"\n",
    "        def withdraw(amount):\n",
    "            nonlocal balance                 # Declare the name \"balance\" nonlocal\n",
    "            if amount > balance:\n",
    "                return 'Insufficient funds'\n",
    "            balance = balance - amount       # Re-bind the existing balance name\n",
    "            return balance\n",
    "        return withdraw"
   ]
  },
  {
   "cell_type": "markdown",
   "metadata": {},
   "source": [
    "这个实现的新奇部分是nonlocal语句，无论什么时候我们修改了名称balance的绑定，绑定都会在balance所绑定的第一个帧中修改。回忆一下，在没有nonlocal语句的情况下，赋值语句总是会在环境的第一个帧中绑定名称。nonlocal语句表明，名称出现在环境中不是第一个（局部）帧，或者最后一个（全局）帧的其它地方。\n",
    "我们可以将这些修改使用环境图示来可视化。下面的环境图示展示了每个调用的效果，以上面的定义开始。我们省略了函数值中的代码，以及不在我们讨论中的表达式树。\n",
    "\n",
    "我们的定义语句拥有平常的效果：它创建了新的用户定义函数，并且将名称make_withdraw在全局帧中绑定到那个函数上。\n",
    "下面，我们使用初始的余额参数20来调用make_withdraw。"
   ]
  },
  {
   "cell_type": "code",
   "execution_count": null,
   "metadata": {},
   "outputs": [],
   "source": [
    ">>> wd = make_withdraw(20)"
   ]
  },
  {
   "cell_type": "markdown",
   "metadata": {},
   "source": [
    "这个赋值语句将名称wd绑定到全局帧中的返回函数上："
   ]
  },
  {
   "cell_type": "markdown",
   "metadata": {},
   "source": [
    "所返回的函数，（内部）叫做withdraw，和定义所在位置即make_withdraw的局部环境相关联。名称balance在这个局部环境中绑定。在例子的剩余部分中，balance名称只有这一个绑定，这非常重要。\n",
    "下面，我们求出以总数5调用withdraw的表达式的值："
   ]
  },
  {
   "cell_type": "code",
   "execution_count": null,
   "metadata": {},
   "outputs": [],
   "source": [
    ">>> wd(5)\n",
    "15"
   ]
  },
  {
   "cell_type": "markdown",
   "metadata": {},
   "source": [
    "名称wd绑定到了withdraw函数上，所以withdraw的函数体在新的环境中求值，新的环境扩展自withdraw定义所在的环境。跟踪withdraw求值的效果展示了 Python 中nonlocal语句的效果。\n",
    "\n",
    "withdraw的赋值语句通常在withdraw的局部帧中为balance创建新的绑定。由于nonlocal语句，赋值运算找到了balance定义位置的第一帧，并在那里重新绑定名称。如果balance之前没有绑定到值上，那么nonlocal语句会产生错误。\n",
    "通过修改balance绑定的行为，我们也修改了withdraw函数。下次withdraw调用的时候，名称balance会求值为15而不是20。\n",
    "当我们第二次调用wd时，"
   ]
  },
  {
   "cell_type": "code",
   "execution_count": null,
   "metadata": {},
   "outputs": [],
   "source": [
    ">>> wd(3)\n",
    "12"
   ]
  },
  {
   "cell_type": "markdown",
   "metadata": {},
   "source": [
    "我们发现绑定到balance的值的修改可在两个调用之间积累。\n",
    "\n",
    "这里，第二次调用withdraw会创建第二个局部帧，像之前一样，但是，withdraw的两个帧都扩展自make_withdraw的环境，它们都包含balance的绑定。所以，它们共享特定的名称绑定，调用withdraw具有改变环境的副作用，并且会由之后的withdraw调用继承。\n",
    "**实践指南。**通过引入nonlocal语句，我们发现了赋值语句的双重作用。它们修改局部绑定，或者修改非局部绑定。实际上，赋值语句已经有了两个作用：创建新的绑定，或者重新绑定现有名称。Python 赋值的许多作用使赋值语句的执行效果变得模糊。作为一个程序员，你应该用文档清晰记录你的代码，使赋值的效果可被其它人理解。"
   ]
  },
  {
   "cell_type": "markdown",
   "metadata": {},
   "source": [
    "## 2.4.2 非局部赋值的好处\n",
    "非局部赋值是将程序作为独立和自主的对象观察的重要步骤，对象彼此交互，但是各自管理各自的内部状态。\n",
    "特别地，非局部赋值提供了在函数的局部范围中维护一些状态的能力，这些状态会在函数之后的调用中演化。和特定withdraw函数相关的balance在所有该函数的调用中共享。但是，withdraw实例中的balance绑定对程序的其余部分不可见。只有withdraw关联到了make_withdraw的帧，withdraw在那里被定义。如果make_withdraw再次调用，它会创建单独的帧，带有单独的balance绑定。\n",
    "我们可以继续以我们的例子来展示这个观点。make_withdraw的第二个调用返回了第二个withdraw函数，它关联到了另一个环境上。"
   ]
  },
  {
   "cell_type": "code",
   "execution_count": null,
   "metadata": {},
   "outputs": [],
   "source": [
    ">>> wd2 = make_withdraw(7)"
   ]
  },
  {
   "cell_type": "markdown",
   "metadata": {},
   "source": [
    "第二个withdraw函数绑定到了全局帧的名称wd2上。我们使用星号来省略了表示这个绑定的线。现在，我们看到实际上有两个balance的绑定。名称wd仍旧绑定到余额为12的withdraw函数上，而wd2绑定到了余额为7的新的withdraw函数上。\n",
    "\n",
    "最后，我们调用绑定到wd2上的第二个withdraw函数："
   ]
  },
  {
   "cell_type": "code",
   "execution_count": null,
   "metadata": {},
   "outputs": [],
   "source": [
    ">>> wd2(6)\n",
    "1"
   ]
  },
  {
   "cell_type": "markdown",
   "metadata": {},
   "source": [
    "这个调用修改了非局部名称balance的绑定，但是不影响在全局帧中绑定到名称wd的第一个withdraw。\n",
    "\n",
    "这样，withdraw的每个实例都维护它自己的余额状态，但是这个状态对程序中其它函数不可见。在更高层面上观察这个情况，我们创建了银行账户的抽象，它管理自己的内部状态，但以一种方式对真实世界的账户进行建模：它基于自己的历史提取请求来随时间变化。"
   ]
  },
  {
   "cell_type": "markdown",
   "metadata": {},
   "source": [
    "## 2.4.3 非局部赋值的代价\n",
    "我们扩展了我们的计算环境模型，用于解释非局部赋值的效果。但是，非局部复制与我们思考名称和值的方式有一些细微差异。\n",
    "之前，我们的值并没有改变，仅仅是我们的名称和绑定发生了变化。当两个名称a和b绑定到4上时，它们绑定到了相同的4还是不同的4并不重要。我们说，只有一个4对象，并且它永不会改变。\n",
    "但是，带有状态的函数不是这样的。当两个名称wd和wd2都绑定到withdraw函数时，它们绑定到相同函数还是函数的两个不同实例，就很重要了。考虑下面的例子，它与我们之前分析的那个正好相反："
   ]
  },
  {
   "cell_type": "code",
   "execution_count": null,
   "metadata": {},
   "outputs": [],
   "source": [
    ">>> wd = make_withdraw(12)\n",
    ">>> wd2 = wd\n",
    ">>> wd2(1)\n",
    "11\n",
    ">>> wd(1)\n",
    "10"
   ]
  },
  {
   "cell_type": "markdown",
   "metadata": {},
   "source": [
    "这里，通过wd2调用函数会修改名称为wd的函数的值，因为两个名称都指向相同的函数。这些语句执行之后的环境图示展示了这个现象：\n",
    "\n",
    "两个名称指向同一个值在世界上不常见，但我们程序中就是这样。但是，由于值会随时间改变，我们必须非常仔细来理解其它名称上的变化效果，它们可能指向这些值。\n",
    "正确分析带有非局部赋值代码的关键是，记住只有函数调用可以创建新的帧。赋值语句始终改变现有帧中的绑定。这里，除非make_withdraw调用了两次，balance还是只有一个绑定。\n",
    "**变与不变。**这些细微差别出现的原因是，通过引入修改非局部环境的非纯函数，我们改变了表达式的本质。只含有纯函数的表达式是引用透明（referentially transparent）的。如果我们将它的子表达式换成子表达式的值，它的值不会改变。\n",
    "重新绑定的操作违反了引用透明的条件，因为它们不仅仅返回一个值。它们修改了环境。当我们引入任意重绑定的时候，我们就会遇到一个棘手的认识论问题：它对于两个相同的值意味着什么。在我们的计算环境模型中，两个分别定义的函数并不是相同的，因为其中一个的改变并不影响另一个。\n",
    "通常，只要我们不会修改数据对象，我们就可以将复合数据对象看做其部分的总和。例如，有理数可以通过提供分子和分母来确定。但是这个观点在变化出现时不再成立了，其中复合数据对象拥有一个“身份”，不同于组成它的各个部分。即使我们通过取钱来修改了余额，某个银行账户还是“相同”的银行账户。相反，我们可以让两个银行账户碰巧具有相同的余额，但它们是不同的对象。\n",
    "尽管它引入了新的困难，非局部赋值是个创建模块化编程的强大工具，程序的不同部分，对应不同的环境帧，可以在程序执行中独立演化。而且，使用带有局部状态的函数，我们就能实现可变数据类型。在这一节的剩余部分，我们介绍了一些最实用的 Python 内建数据类型，以及使用带有非局部赋值的函数，来实现这些数据类型的一些方法。"
   ]
  },
  {
   "cell_type": "markdown",
   "metadata": {},
   "source": [
    "## 2.4.4 列表\n",
    "list是 Python 中最使用和灵活的洗了类型。列表类似于元组，但是它是可变的。方法调用和赋值语句都可以修改列表的内容。\n",
    "我们可以通过一个展示（极大简化的）扑克牌历史的例子，来介绍许多列表编辑操作。例子中的注释描述了每个方法的效果。\n",
    "扑克牌发明于中国，大概在 9 世纪。早期的牌组中有三个花色，它们对应钱的三个面额。"
   ]
  },
  {
   "cell_type": "code",
   "execution_count": null,
   "metadata": {},
   "outputs": [],
   "source": [
    ">>> chinese_suits = ['coin', 'string', 'myriad']  # A list literal\n",
    ">>> suits = chinese_suits                         # Two names refer to the same list"
   ]
  },
  {
   "cell_type": "markdown",
   "metadata": {},
   "source": [
    "扑克牌传到欧洲（也可能通过埃及）之后，西班牙的牌组（oro）中之只保留了硬币的花色。"
   ]
  },
  {
   "cell_type": "code",
   "execution_count": null,
   "metadata": {},
   "outputs": [],
   "source": [
    ">>> suits.pop()             # Removes and returns the final element\n",
    "'myriad'\n",
    ">>> suits.remove('string')  # Removes the first element that equals the argument"
   ]
  },
  {
   "cell_type": "markdown",
   "metadata": {},
   "source": [
    "然后又添加了三个新的花色（它们的设计和名称随时间而演化），"
   ]
  },
  {
   "cell_type": "code",
   "execution_count": null,
   "metadata": {},
   "outputs": [],
   "source": [
    ">>> suits.append('cup')              # Add an element to the end\n",
    ">>> suits.extend(['sword', 'club'])  # Add all elements of a list to the end"
   ]
  },
  {
   "cell_type": "markdown",
   "metadata": {},
   "source": [
    "意大利人把剑叫做“黑桃”："
   ]
  },
  {
   "cell_type": "code",
   "execution_count": null,
   "metadata": {},
   "outputs": [],
   "source": [
    ">>> suits[2] = 'spade'  # Replace an element"
   ]
  },
  {
   "cell_type": "markdown",
   "metadata": {},
   "source": [
    "下面是传统的意大利牌组："
   ]
  },
  {
   "cell_type": "code",
   "execution_count": null,
   "metadata": {},
   "outputs": [],
   "source": [
    ">>> suits\n",
    "['coin', 'cup', 'spade', 'club']"
   ]
  },
  {
   "cell_type": "markdown",
   "metadata": {},
   "source": [
    "我们现在在美国使用的法式变体修改了前两个："
   ]
  },
  {
   "cell_type": "code",
   "execution_count": null,
   "metadata": {},
   "outputs": [],
   "source": [
    ">>> suits[0:2] = ['heart', 'diamond']  # Replace a slice\n",
    ">>> suits\n",
    "['heart', 'diamond', 'spade', 'club']"
   ]
  },
  {
   "cell_type": "markdown",
   "metadata": {},
   "source": [
    "也存在用于插入、排序和反转列表的操作。所有这些修改操作都改变了列表的值，它们并不创建新的列表对象。\n",
    "**共享和身份。**由于我们修改了一个列表，而不是创建新的列表，绑定到名称chinese_suits上的对象也改变了，因为它与绑定到suits上的对象是相同的列表对象。"
   ]
  },
  {
   "cell_type": "code",
   "execution_count": null,
   "metadata": {},
   "outputs": [],
   "source": [
    ">>> chinese_suits  # This name co-refers with \"suits\" to the same list\n",
    "['heart', 'diamond', 'spade', 'club']"
   ]
  },
  {
   "cell_type": "markdown",
   "metadata": {},
   "source": [
    "列表可以使用list构造函数来复制。其中一个的改变不会影响另一个，除非它们共享相同的结构。"
   ]
  },
  {
   "cell_type": "code",
   "execution_count": null,
   "metadata": {},
   "outputs": [],
   "source": [
    ">>> nest = list(suits)  # Bind \"nest\" to a second list with the same elements\n",
    ">>> nest[0] = suits     # Create a nested list"
   ]
  },
  {
   "cell_type": "markdown",
   "metadata": {},
   "source": [
    "在最后的赋值之后，我们只剩下下面的环境，其中列表使用盒子和指针的符号来表示：\n",
    "\n",
    "根据这个环境，修改由suites指向的列表会影响nest第一个元素的嵌套列表，但是不会影响其他元素："
   ]
  },
  {
   "cell_type": "code",
   "execution_count": null,
   "metadata": {},
   "outputs": [],
   "source": [
    ">>> suits.insert(2, 'Joker')  # Insert an element at index 2, shifting the rest\n",
    ">>> nest\n",
    "[['heart', 'diamond', 'Joker', 'spade', 'club'], 'diamond', 'spade', 'club']"
   ]
  },
  {
   "cell_type": "markdown",
   "metadata": {},
   "source": [
    "与之类似，在next的第一个元素上撤销这个修改也会影响到suit。\n",
    "由于这个pop方法的调用，我们返回到了上面描述的环境。\n",
    "由于两个列表具有相同内容，但是实际上是不同的列表，我们需要一种手段来测试两个对象是否相同。Python 引入了两个比较运算符，叫做is和is not，测试了两个表达式实际上是否求值为同一个对象。如果两个对象的当前值相等，并且一个对象的改变始终会影响另一个，那么两个对象是同一个对象。身份是个比相等性更强的条件。\n",
    "译者注：两个对象当且仅当在内存中的位置相同时为同一个对象。CPython 的实现直接比较对象的地址来确定。"
   ]
  },
  {
   "cell_type": "code",
   "execution_count": null,
   "metadata": {},
   "outputs": [],
   "source": [
    ">>> suits is nest[0]\n",
    "True\n",
    ">>> suits is ['heart', 'diamond', 'spade', 'club']\n",
    "False\n",
    ">>> suits == ['heart', 'diamond', 'spade', 'club']\n",
    "True"
   ]
  },
  {
   "cell_type": "markdown",
   "metadata": {},
   "source": [
    "最后的两个比较展示了is和==的区别，前者检查身份，而后者检查内容的相等性。\n",
    "**列表推导式。**列表推导式使用扩展语法来创建列表，与生成器表达式的语法相似。\n",
    "例如，unicodedata模块跟踪了 Unicode 字母表中每个字符的官方名称。我们可以查找与名称对应的字符，包含这些卡牌花色的字符。"
   ]
  },
  {
   "cell_type": "code",
   "execution_count": null,
   "metadata": {},
   "outputs": [],
   "source": [
    ">>> from unicodedata import lookup\n",
    ">>> [lookup('WHITE ' + s.upper() + ' SUIT') for s in suits]\n",
    "['♡', '♢', '♤', '♧']"
   ]
  },
  {
   "cell_type": "markdown",
   "metadata": {},
   "source": [
    "列表推导式使用序列的接口约定增强了数据处理的范式，因为列表是一种序列数据类型。\n",
    "**扩展阅读。**Dive Into Python 3 的推导式一章包含了一些示例，展示了如何使用 Python 浏览计算机的文件系统。这一章介绍了os模块，它可以列出目录的内容。这个材料并不是这门课的一部分，但是推荐给任何想要增加 Python 知识和技巧的人。\n",
    "**实现。**列表是序列，就像元组一样。Python 语言并不提供给我们列表实现的直接方法，只提供序列抽象，和我们在这一节介绍的可变方法。为了克服这一语言层面的抽象界限，我们可以开发列表的函数式实现，再次使用递归表示。这一节也有第二个目的：加深我们对调度函数的理解。\n",
    "我们会将列表实现为函数，它将一个递归列表作为自己的局部状态。列表需要有一个身份，就像任何可变值那样。特别地，我们不能使用None来表示任何空的可变列表，因为两个空列表并不是相同的值（例如，向一个列表添加元素并不会添加到另一个），但是None is None。另一方面，两个不同的函数足以区分两个两个空列表，它们都将empty_rlist作为局部状态。\n",
    "我们的可变列表是个调度函数，就像我们偶对的函数式实现也是个调度函数。它检查输入“信息”是否为已知信息，并且对每个不同的输入执行相应的操作。我们的可变列表可响应五个不同的信息。前两个实现了序列抽象的行为。接下来的两个添加或删除列表的第一个元素。最后的信息返回整个列表内容的字符串表示。"
   ]
  },
  {
   "cell_type": "code",
   "execution_count": null,
   "metadata": {},
   "outputs": [],
   "source": [
    ">>> def make_mutable_rlist():\n",
    "        \"\"\"Return a functional implementation of a mutable recursive list.\"\"\"\n",
    "        contents = empty_rlist\n",
    "        def dispatch(message, value=None):\n",
    "            nonlocal contents\n",
    "            if message == 'len':\n",
    "                return len_rlist(contents)\n",
    "            elif message == 'getitem':\n",
    "                return getitem_rlist(contents, value)\n",
    "            elif message == 'push_first':\n",
    "                contents = make_rlist(value, contents)\n",
    "            elif message == 'pop_first':\n",
    "                f = first(contents)\n",
    "                contents = rest(contents)\n",
    "                return f\n",
    "            elif message == 'str':\n",
    "                return str(contents)\n",
    "        return dispatch"
   ]
  },
  {
   "cell_type": "markdown",
   "metadata": {},
   "source": [
    "我们也可以添加一个辅助函数，来从任何内建序列中构建函数式实现的递归列表。只需要以递归顺序添加每个元素。"
   ]
  },
  {
   "cell_type": "code",
   "execution_count": null,
   "metadata": {},
   "outputs": [],
   "source": [
    ">>> def to_mutable_rlist(source):\n",
    "        \"\"\"Return a functional list with the same contents as source.\"\"\"\n",
    "        s = make_mutable_rlist()\n",
    "        for element in reversed(source):\n",
    "            s('push_first', element)\n",
    "        return s"
   ]
  },
  {
   "cell_type": "markdown",
   "metadata": {},
   "source": [
    "在上面的定义中，函数reversed接受并返回可迭代值。它是使用序列的接口约定的另一个示例。\n",
    "这里，我们可以构造函数式实现的列表，要注意列表自身也是个函数。"
   ]
  },
  {
   "cell_type": "code",
   "execution_count": null,
   "metadata": {},
   "outputs": [],
   "source": [
    ">>> s = to_mutable_rlist(suits)\n",
    ">>> type(s)\n",
    "<class 'function'>\n",
    ">>> s('str')\n",
    "\"('heart', ('diamond', ('spade', ('club', None))))\""
   ]
  },
  {
   "cell_type": "markdown",
   "metadata": {},
   "source": [
    "另外，我们可以像列表s传递信息来修改它的内容，比如移除第一个元素。"
   ]
  },
  {
   "cell_type": "code",
   "execution_count": null,
   "metadata": {},
   "outputs": [],
   "source": [
    ">>> s('pop_first')\n",
    "'heart'\n",
    ">>> s('str')\n",
    "\"('diamond', ('spade', ('club', None)))\""
   ]
  },
  {
   "cell_type": "markdown",
   "metadata": {},
   "source": [
    "原则上，操作push_first和pop_first足以对列表做任意修改。我们总是可以清空整个列表，之后将它旧的内容替换为想要的结果。\n",
    "**消息传递。**给予一些时间，我们就能实现许多实用的 Python 列表可变操作，比如extend和insert。我们有一个选择：我们可以将它们全部实现为函数，这会使用现有的消息pop_first和push_first来实现所有的改变操作。作为代替，我们也可以向dispatch函数体添加额外的elif子句，每个子句检查一个消息（例如'extend'），并且直接在contents上做出合适的改变。\n",
    "第二个途径叫做消息传递，它把数据值上面所有操作的逻辑封装在一个函数中，这个函数响应不同的消息。一个使用消息传递的程序定义了调度函数，每个函数都拥有局部状态，通过传递“消息”作为第一个参数给这些函数来组织计算。消息是对应特定行为的字符串。\n",
    "可以想象，在dispatch的函数体中通过名称来枚举所有这些消息非常无聊，并且易于出现错误。Python 的字典提供了一种数据类型，会帮助我们管理消息和操作之间的映射，它会在下一节中介绍。"
   ]
  },
  {
   "cell_type": "markdown",
   "metadata": {},
   "source": [
    "## 2.4.5 字典\n",
    "字典是 Python 内建数据类型，用于储存和操作对应关系。字典包含了键值对，其中键和值都可以是对象。字典的目的是提供一种抽象，用于储存和获取下标不是连续整数，而是描述性的键的值。\n",
    "字符串通常用作键，因为字符串通常用于表示事物名称。这个字典字面值提供了不同罗马数字的值。"
   ]
  },
  {
   "cell_type": "code",
   "execution_count": null,
   "metadata": {},
   "outputs": [],
   "source": [
    ">>> numerals = {'I': 1.0, 'V': 5, 'X': 10}"
   ]
  },
  {
   "cell_type": "markdown",
   "metadata": {},
   "source": [
    "我们可以使用元素选择运算符，来通过键查找值，我们之前将其用于序列。"
   ]
  },
  {
   "cell_type": "code",
   "execution_count": null,
   "metadata": {},
   "outputs": [],
   "source": [
    ">>> numerals['X']\n",
    "10"
   ]
  },
  {
   "cell_type": "markdown",
   "metadata": {},
   "source": [
    "字典的每个键最多只能拥有一个值。添加新的键值对或者修改某个键的已有值，可以使用赋值运算符来完成。"
   ]
  },
  {
   "cell_type": "code",
   "execution_count": null,
   "metadata": {},
   "outputs": [],
   "source": [
    ">>> numerals['I'] = 1\n",
    ">>> numerals['L'] = 50\n",
    ">>> numerals\n",
    "{'I': 1, 'X': 10, 'L': 50, 'V': 5}"
   ]
  },
  {
   "cell_type": "markdown",
   "metadata": {},
   "source": [
    "要注意，'L'并没有添加到上面输出的末尾。字典是无序的键值对集合。当我们打印字典时，键和值都以某种顺序来渲染，但是对语言的用户来说，不应假设顺序总是这样。\n",
    "字典抽象也支持多种方法，来从整体上迭代字典中的内容。方法keys、values和items都返回可迭代的值。"
   ]
  },
  {
   "cell_type": "code",
   "execution_count": null,
   "metadata": {},
   "outputs": [],
   "source": [
    ">>> sum(numerals.values())\n",
    "66"
   ]
  },
  {
   "cell_type": "markdown",
   "metadata": {},
   "source": [
    "通过调用dict构造函数，键值对的列表可以转换为字典。"
   ]
  },
  {
   "cell_type": "code",
   "execution_count": null,
   "metadata": {},
   "outputs": [],
   "source": [
    ">>> dict([(3, 9), (4, 16), (5, 25)])\n",
    "{3: 9, 4: 16, 5: 25}"
   ]
  },
  {
   "cell_type": "markdown",
   "metadata": {},
   "source": [
    "字典也有一些限制：\n",
    "字典的键不能是可变内建类型的对象。\n",
    "一个给定的键最多只能有一个值。\n",
    "第一条限制被绑定到了 Python 中字典的底层实现上。这个实现的细节并不是这门课的主题。直觉上，键告诉了 Python 应该在内存中的哪里寻找键值对；如果键发生改变，键值对就会丢失。\n",
    "第二个限制是字典抽象的结果，它为储存和获取某个键的值而设计。如果字典中最多只存在一个这样的值，我们只能获取到某个键的一个值。\n",
    "由字典实现的一个实用方法是get，如果键存在的话，它返回键的值，否则返回一个默认值。get的参数是键和默认值。"
   ]
  },
  {
   "cell_type": "code",
   "execution_count": null,
   "metadata": {},
   "outputs": [],
   "source": [
    ">>> numerals.get('A', 0)\n",
    "0\n",
    ">>> numerals.get('V', 0)\n",
    "5"
   ]
  },
  {
   "cell_type": "markdown",
   "metadata": {},
   "source": [
    "字典也拥有推导式语法，和列表和生成器表达式类似。求解字典推导式会产生新的字典对象。"
   ]
  },
  {
   "cell_type": "code",
   "execution_count": null,
   "metadata": {},
   "outputs": [],
   "source": [
    ">>> {x: x*x for x in range(3,6)}\n",
    "{3: 9, 4: 16, 5: 25}"
   ]
  },
  {
   "cell_type": "markdown",
   "metadata": {},
   "source": [
    "**实现。**我们可以实现一个抽象数据类型，它是一个记录的列表，与字典抽象一致。每个记录都是两个元素的列表，包含键和相关的值。"
   ]
  },
  {
   "cell_type": "code",
   "execution_count": null,
   "metadata": {},
   "outputs": [],
   "source": [
    ">>> def make_dict():\n",
    "        \"\"\"Return a functional implementation of a dictionary.\"\"\"\n",
    "        records = []\n",
    "        def getitem(key):\n",
    "            for k, v in records:\n",
    "                if k == key:\n",
    "                    return v\n",
    "        def setitem(key, value):\n",
    "            for item in records:\n",
    "                if item[0] == key:\n",
    "                    item[1] = value\n",
    "                    return\n",
    "            records.append([key, value])\n",
    "        def dispatch(message, key=None, value=None):\n",
    "            if message == 'getitem':\n",
    "                return getitem(key)\n",
    "            elif message == 'setitem':\n",
    "                setitem(key, value)\n",
    "            elif message == 'keys':\n",
    "                return tuple(k for k, _ in records)\n",
    "            elif message == 'values':\n",
    "                return tuple(v for _, v in records)\n",
    "        return dispatch"
   ]
  },
  {
   "cell_type": "markdown",
   "metadata": {},
   "source": [
    "同样，我们使用了传递方法的消息来组织我们的实现。我们已经支持了四种消息：getitem、setitem、keys和values。要查找某个键的值，我们可以迭代这些记录来寻找一个匹配的键。要插入某个键的值，我们可以迭代整个记录来观察是否已经存在带有这个键的记录。如果没有，我们会构造一条新的记录。如果已经有了带有这个键的记录，我们将这个记录的值设为新的值。\n",
    "我们现在可以使用我们的实现来储存和获取值。"
   ]
  },
  {
   "cell_type": "code",
   "execution_count": null,
   "metadata": {},
   "outputs": [],
   "source": [
    ">>> d = make_dict()\n",
    ">>> d('setitem', 3, 9)\n",
    ">>> d('setitem', 4, 16)\n",
    ">>> d('getitem', 3)\n",
    "9\n",
    ">>> d('getitem', 4)\n",
    "16\n",
    ">>> d('keys')\n",
    "(3, 4)\n",
    ">>> d('values')\n",
    "(9, 16)"
   ]
  },
  {
   "cell_type": "markdown",
   "metadata": {},
   "source": [
    "这个字典实现并不为快速的记录检索而优化，因为每个响应getitem消息都必须迭代整个records列表。内建的字典类型更加高效。"
   ]
  },
  {
   "cell_type": "markdown",
   "metadata": {},
   "source": [
    "## 2.4.6 示例：传播约束\n",
    "可变数据允许我们模拟带有变化的系统，也允许我们构建新的抽象类型。在这个延伸的实例中，我们组合了非局部赋值、列表和字典来构建一个基于约束的系统，支持多个方向上的计算。将程序表达为约束是一种声明式编程，其中程序员声明需要求解的问题结构，但是抽象了问题解决方案如何计算的细节。\n",
    "计算机程序通常组织为单方向的计算，它在预先设定的参数上执行操作，来产生合理的输出。另一方面，我们通常希望根据数量上的关系对系统建模。例如，我们之前考虑过理想气体定律，它通过波尔兹曼常数k关联了理想气体的气压p，体积v，数量n以及温度t。\n",
    "p * v = n * k * t\n",
    "这样一个方程并不是单方向的。给定任何四个数量，我们可以使用这个方程来计算第五个。但将这个方程翻译为某种传统的计算机语言会强迫我们选择一个数量，根据其余四个计算出来。所以计算气压的函数应该不能用于计算温度，即使二者的计算通过相同的方程完成。\n",
    "这一节中，我们从零开始设计线性计算的通用模型。我们定义了数量之间的基本约束，例如adder(a, b, c)会严格保证数学关系a + b = c。\n",
    "我们也定义了组合的手段，使基本约束可以被组合来表达更复杂的关系。这样，我们的程序就像一种编程语言。我们通过构造网络来组合约束，其中约束由连接器连接。连接器是一种对象，它“持有”一个值，并且可能会参与一个或多个约束。\n",
    "例如，我们知道华氏和摄氏温度的关系是：\n",
    "9 * c = 5 * (f - 32)\n",
    "这个等式是c和f之间的复杂约束。这种约束可以看做包含adder、multiplier和contant约束的网络。\n",
    "\n",
    "这张图中，我们可以看到，左边是一个带有三个终端的乘法器盒子，标记为a，b和c。它们将乘法器连接到网络剩余的部分：终端a链接到了连接器celsius上，它持有摄氏温度。终端b链接到了连接器w上，w也链接到持有9的盒子上。终端c，被乘法器盒子约束为a和b的乘积，链接到另一个乘法器盒子上，它的b链接到常数5上，以及它的a连接到了求和约束的一项上。\n",
    "这个网络上的计算会如下进行：当连接器被提供一个值时（被用户或被链接到它的约束器），它会唤醒所有相关的约束（除了刚刚唤醒的约束）来通知它们它得到了一个值。每个唤醒的约束之后会调查它的连接器，来看看是否有足够的信息来为连接器求出一个值。如果可以，盒子会设置这个连接器，连接器之后会唤醒所有相关的约束，以此类推。例如，在摄氏温度和华氏温度的转换中，w、x和y会被常量盒子9、5和32立即设置。连接器会唤醒乘法器和加法器，它们判断出没有足够的信息用于处理。如果用户（或者网络的其它部分）将celsis连接器设置为某个值（比如25），最左边的乘法器会被唤醒，之后它会将u设置为25 * 9 = 225。之后u会唤醒第二个乘法器，它会将v设置为45，之后v会唤醒加法器，它将fahrenheit连接器设置为77。\n",
    "**使用约束系统。**为了使用约束系统来计算出上面所描述的温度计算，我们首先创建了两个具名连接器，celsius和fahrenheit，通过调用make_connector构造器。"
   ]
  },
  {
   "cell_type": "code",
   "execution_count": null,
   "metadata": {},
   "outputs": [],
   "source": [
    ">>> celsius = make_connector('Celsius')\n",
    ">>> fahrenheit = make_connector('Fahrenheit')"
   ]
  },
  {
   "cell_type": "markdown",
   "metadata": {},
   "source": [
    "之后，我们将这些连接器链接到网络中，这个网络反映了上面的图示。函数make_converter组装了网络中不同的连接器和约束："
   ]
  },
  {
   "cell_type": "code",
   "execution_count": null,
   "metadata": {},
   "outputs": [],
   "source": [
    ">>> def make_converter(c, f):\n",
    "        \"\"\"Connect c to f with constraints to convert from Celsius to Fahrenheit.\"\"\"\n",
    "        u, v, w, x, y = [make_connector() for _ in range(5)]\n",
    "        multiplier(c, w, u)\n",
    "        multiplier(v, x, u)\n",
    "        adder(v, y, f)\n",
    "        constant(w, 9)\n",
    "        constant(x, 5)\n",
    "        constant(y, 32)\n",
    ">>> make_converter(celsius, fahrenheit)"
   ]
  },
  {
   "cell_type": "markdown",
   "metadata": {},
   "source": [
    "我们会使用消息传递系统来协调约束和连接器。我们不会使用函数来响应消息，而是使用字典。用于分发的字典拥有字符串类型的键，代表它接受的消息。这些键关联的值是这些消息的响应。\n",
    "约束是不带有局部状态的字典。它们对消息的响应是非纯函数，这些函数会改变所约束的连接器。\n",
    "连接器是一个字典，持有当前值并响应操作该值的消息。约束不会直接改变连接器的值，而是会通过发送消息来改变，于是连接器可以提醒其他约束来响应变化。这样，连接器代表了一个数值，同时封装了连接器的行为。\n",
    "我们可以发送给连接器的一种消息是设置它的值。这里，我们（'user'）将celsius的值设置为25。"
   ]
  },
  {
   "cell_type": "code",
   "execution_count": null,
   "metadata": {},
   "outputs": [],
   "source": [
    ">>> celsius['set_val']('user', 25)\n",
    "Celsius = 25\n",
    "Fahrenheit = 77.0"
   ]
  },
  {
   "cell_type": "markdown",
   "metadata": {},
   "source": [
    "不仅仅是celsius的值变成了25，它的值也在网络上传播，于是fahrenheit的值也发生变化。这些变化打印了出来，因为我们在构造这两个连接器的时候命名了它们。\n",
    "现在我们可以试着将fahrenheit设置为新的值，比如212。"
   ]
  },
  {
   "cell_type": "code",
   "execution_count": null,
   "metadata": {},
   "outputs": [],
   "source": [
    ">>> fahrenheit['set_val']('user', 212)\n",
    "Contradiction detected: 77.0 vs 212"
   ]
  },
  {
   "cell_type": "markdown",
   "metadata": {},
   "source": [
    "连接器报告说，它察觉到了一个矛盾：它的值是77.0，但是有人尝试将其设置为212。如果我们真的想以新的值复用这个网络，我们可以让celsius忘掉旧的值。"
   ]
  },
  {
   "cell_type": "code",
   "execution_count": null,
   "metadata": {},
   "outputs": [],
   "source": [
    ">>> celsius['forget']('user')\n",
    "Celsius is forgotten\n",
    "Fahrenheit is forgotten"
   ]
  },
  {
   "cell_type": "markdown",
   "metadata": {},
   "source": [
    "连接器celsius发现了user，一开始设置了它的值，现在又想撤销这个值，所以celsius同意丢掉这个值，并且通知了网络的其余部分。这个消息最终传播给fahrenheit，它现在发现没有理由继续相信自己的值为77。于是，它也丢掉了它的值。\n",
    "现在fahrenheit没有值了，我们就可以将其设置为212："
   ]
  },
  {
   "cell_type": "code",
   "execution_count": null,
   "metadata": {},
   "outputs": [],
   "source": [
    ">>> fahrenheit['set_val']('user', 212)\n",
    "Fahrenheit = 212\n",
    "Celsius = 100.0"
   ]
  },
  {
   "cell_type": "markdown",
   "metadata": {},
   "source": [
    "这个新值在网络上传播，并强迫celsius持有值100。我们已经使用了非常相似的网络，提供fahrenheit来计算celsius，以及提供celsius来计算fahrenheit。这个无方向的计算就是基于约束的网络的特征。\n",
    "**实现约束系统。**像我们看到的那样，连接器是字典，将消息名称映射为函数和数据值。我们将要实现响应下列消息的连接器：\n",
    "connector['set_val'](source, value) 表示source请求连接器将当前值设置为该值。\n",
    "connector['has_val']() 返回连接器是否已经有了一个值。\n",
    "connector['val'] 是连接器的当前值。\n",
    "connector['forget'](source) 告诉连接器，source请求它忘掉当前值。\n",
    "connector['connect'](source) 告诉连接器参与新的约束source。\n",
    "约束也是字典，接受来自连接器的以下两种消息：\n",
    "constraint['new_val']() 表示连接到约束的连接器有了新的值。\n",
    "constraint['forget']() 表示连接到约束的连接器需要忘掉它的值。\n",
    "当约束收到这些消息时，它们适当地将它们传播给其它连接器。\n",
    "adder函数在两个连接器上构造了加法器约束，其中前两个连接器必须加到第三个上：a + b = c。为了支持多方向的约束传播，加法器必须也规定从c中减去a会得到b，或者从c中减去b会得到a。"
   ]
  },
  {
   "cell_type": "code",
   "execution_count": null,
   "metadata": {},
   "outputs": [],
   "source": [
    ">>> from operator import add, sub\n",
    ">>> def adder(a, b, c):\n",
    "        \"\"\"The constraint that a + b = c.\"\"\"\n",
    "        return make_ternary_constraint(a, b, c, add, sub, sub)"
   ]
  },
  {
   "cell_type": "markdown",
   "metadata": {},
   "source": [
    "我们希望实现一个通用的三元（三个方向）约束，它使用三个连接器和三个函数来创建约束，接受new_val和forget消息。消息的响应是局部函数，它放在叫做constraint的字典中。"
   ]
  },
  {
   "cell_type": "code",
   "execution_count": null,
   "metadata": {},
   "outputs": [],
   "source": [
    ">>> def make_ternary_constraint(a, b, c, ab, ca, cb):\n",
    "        \"\"\"The constraint that ab(a,b)=c and ca(c,a)=b and cb(c,b) = a.\"\"\"\n",
    "        def new_value():\n",
    "            av, bv, cv = [connector['has_val']() for connector in (a, b, c)]\n",
    "            if av and bv:\n",
    "                c['set_val'](constraint, ab(a['val'], b['val']))\n",
    "            elif av and cv:\n",
    "                b['set_val'](constraint, ca(c['val'], a['val']))\n",
    "            elif bv and cv:\n",
    "                a['set_val'](constraint, cb(c['val'], b['val']))\n",
    "        def forget_value():\n",
    "            for connector in (a, b, c):\n",
    "                connector['forget'](constraint)\n",
    "        constraint = {'new_val': new_value, 'forget': forget_value}\n",
    "        for connector in (a, b, c):\n",
    "            connector['connect'](constraint)\n",
    "        return constraint"
   ]
  },
  {
   "cell_type": "markdown",
   "metadata": {},
   "source": [
    "叫做constraint的字典是个分发字典，也是约束对象自身。它响应两种约束接收到的消息，也在对连接器的调用中作为source参数传递。\n",
    "无论约束什么时候被通知，它的连接器之一拥有了值，约束的局部函数new_value都会被调用。这个函数首先检查是否a和b都拥有值，如果是这样，它告诉c将值设为函数ab的返回值，在adder中是add。约束，也就是adder对象，将自身作为source参数传递给连接器。如果a和b不同时拥有值，约束会检查a和c，以此类推。\n",
    "如果约束被通知，连接器之一忘掉了它的值，它会请求所有连接器忘掉它们的值（只有由约束设置的值会被真正丢掉）。\n",
    "multiplier与adder类似："
   ]
  },
  {
   "cell_type": "code",
   "execution_count": null,
   "metadata": {},
   "outputs": [],
   "source": [
    ">>> from operator import mul, truediv\n",
    ">>> def multiplier(a, b, c):\n",
    "        \"\"\"The constraint that a * b = c.\"\"\"\n",
    "        return make_ternary_constraint(a, b, c, mul, truediv, truediv)"
   ]
  },
  {
   "cell_type": "markdown",
   "metadata": {},
   "source": [
    "常量也是约束，但是它不会发送任何消息，因为它只包含一个单一的连接器，在构造的时候会设置它。"
   ]
  },
  {
   "cell_type": "code",
   "execution_count": null,
   "metadata": {},
   "outputs": [],
   "source": [
    ">>> def constant(connector, value):\n",
    "        \"\"\"The constraint that connector = value.\"\"\"\n",
    "        constraint = {}\n",
    "        connector['set_val'](constraint, value)\n",
    "        return constraint"
   ]
  },
  {
   "cell_type": "markdown",
   "metadata": {},
   "source": [
    "这三个约束足以实现我们的温度转换网络。\n",
    "**表示连接器。**连接器表示为包含一个值的字典，但是同时拥有带有局部状态的响应函数。连接器必须跟踪向它提供当前值的informant，以及它所参与的constraints列表。\n",
    "构造器make_connector是局部函数，用于设置和忘掉值，它响应来自约束的消息。"
   ]
  },
  {
   "cell_type": "code",
   "execution_count": null,
   "metadata": {},
   "outputs": [],
   "source": [
    ">>> def make_connector(name=None):\n",
    "        \"\"\"A connector between constraints.\"\"\"\n",
    "        informant = None\n",
    "        constraints = []\n",
    "        def set_value(source, value):\n",
    "            nonlocal informant\n",
    "            val = connector['val']\n",
    "            if val is None:\n",
    "                informant, connector['val'] = source, value\n",
    "                if name is not None:\n",
    "                    print(name, '=', value)\n",
    "                inform_all_except(source, 'new_val', constraints)\n",
    "            else:\n",
    "                if val != value:\n",
    "                    print('Contradiction detected:', val, 'vs', value)\n",
    "        def forget_value(source):\n",
    "            nonlocal informant\n",
    "            if informant == source:\n",
    "                informant, connector['val'] = None, None\n",
    "                if name is not None:\n",
    "                    print(name, 'is forgotten')\n",
    "                inform_all_except(source, 'forget', constraints)\n",
    "        connector = {'val': None,\n",
    "                     'set_val': set_value,\n",
    "                     'forget': forget_value,\n",
    "                     'has_val': lambda: connector['val'] is not None,\n",
    "                     'connect': lambda source: constraints.append(source)}\n",
    "        return connector"
   ]
  },
  {
   "cell_type": "markdown",
   "metadata": {},
   "source": [
    "同时，连接器是一个分发字典，用于分发五个消息，约束使用它们来和连接器通信。前四个响应都是函数，最后一个响应就是值本身。\n",
    "局部函数set_value在请求设置连接器的值时被调用。如果连接器当前并没有值，它会设置该值并将informant记为请求设置该值的source约束。之后连接器会提醒所有参与的约束，除了请求设置该值的约束。这通过使用下列迭代函数来完成。"
   ]
  },
  {
   "cell_type": "code",
   "execution_count": null,
   "metadata": {},
   "outputs": [],
   "source": [
    ">>> def inform_all_except(source, message, constraints):\n",
    "        \"\"\"Inform all constraints of the message, except source.\"\"\"\n",
    "        for c in constraints:\n",
    "            if c != source:\n",
    "                c[message]()"
   ]
  },
  {
   "cell_type": "markdown",
   "metadata": {},
   "source": [
    "如果一个连接器被请求忘掉它的值，它会调用局部函数forget_value，这个函数首先执行检查，来确保请求来自之前设置该值的同一个约束。如果是的话，连接器通知相关的约束来丢掉当前值。\n",
    "对has_val消息的响应表示连接器是否拥有一个值。对connect消息的响应将source约束添加到约束列表中。\n",
    "我们设计的约束程序引入了许多出现在面向对象编程的概念。约束和连接器都是抽象，它们通过消息来操作。当连接器的值由消息改变时，消息不仅仅改变了它的值，还对其验证（检查来源）并传播它的影响。实际上，在这一章的后面，我们会使用相似的字符串值的字典结构和函数值来实现面向对象系统。"
   ]
  },
  {
   "cell_type": "markdown",
   "metadata": {},
   "source": [
    "# 2.5 面向对象编程\n",
    "来源：2.5 Object-Oriented Programming\n",
    "译者：飞龙\n",
    "协议：CC BY-NC-SA 4.0\n",
    "面向对象编程（OOP）是一种用于组织程序的方法，它组合了这一章引入的许多概念。就像抽象数据类型那样，对象创建了数据使用和实现之间的抽象界限。类似消息传递中的分发字典，对象响应行为请求。就像可变的数据结构，对象拥有局部状态，并且不能直接从全局环境访问。Python 对象系统提供了新的语法，更易于为组织程序实现所有这些实用的技巧。\n",
    "但是对象系统不仅仅提供了便利；它也为程序设计添加了新的隐喻，其中程序中的几个部分彼此交互。每个对象将局部状态和行为绑定，以一种方式在数据抽象背后隐藏二者的复杂性。我们的约束程序的例子通过在约束和连接器之前传递消息，产生了这种隐喻。Python 对象系统使用新的途径扩展了这种隐喻，来表达程序的不同部分如何互相关联，以及互相通信。对象不仅仅会传递消息，还会和其它相同类型的对象共享行为，以及从相关的类型那里继承特性。\n",
    "面向对象编程的范式使用自己的词汇来强化对象隐喻。我们已经看到了，对象是拥有方法和属性的数据值，可以通过点运算符来访问。每个对象都拥有一个类型，叫做类。Python 中可以定义新的类，就像定义函数那样。"
   ]
  },
  {
   "cell_type": "markdown",
   "metadata": {},
   "source": [
    "## 2.5.1 对象和类\n",
    "类可以用作所有类型为该类的对象的模板。每个对象都是某个特定类的实例。我们目前使用的对象都拥有内建类型，但是我们可以定义新的类，就像定义函数那样。类的定义规定了在该类的对象之间共享的属性和方法。我们会通过重新观察银行账户的例子，来介绍类的语句。\n",
    "在介绍局部状态时，我们看到，银行账户可以自然地建模为拥有balance的可变值。银行账户对象应该拥有withdraw方法，在可用的情况下，它会更新账户余额，并返回所请求的金额。我们希望添加一些额外的行为来完善账户抽象：银行账户应该能够返回它的当前余额，返回账户持有者的名称，以及接受存款。\n",
    "Account类允许我们创建银行账户的多个实例。创建新对象实例的动作被称为实例化该类。Python 中实例化某个类的语法类似于函数的调用语句。这里，我们使用参数'Jim'（账户持有者的名称）来调用Account。"
   ]
  },
  {
   "cell_type": "code",
   "execution_count": null,
   "metadata": {},
   "outputs": [],
   "source": [
    ">>> a = Account('Jim')\n",
    "对象的属性是和对象关联的名值对，它可以通过点运算符来访问。属性特定于具体的对象，而不是类的所有对象，也叫做实例属性。每个Account对象都拥有自己的余额和账户持有者名称，它们是实例属性的一个例子。在更宽泛的编程社群中，实例属性可能也叫做字段、属性或者实例变量。\n",
    ">>> a.holder\n",
    "'Jim'\n",
    ">>> a.balance\n",
    "0"
   ]
  },
  {
   "cell_type": "markdown",
   "metadata": {},
   "source": [
    "操作对象或执行对象特定计算的函数叫做方法。方法的副作用和返回值可能依赖或改变对象的其它属性。例如，deposit是Account对象a上的方法。它接受一个参数，即需要存入的金额，修改对象的balance属性，并返回产生的余额。"
   ]
  },
  {
   "cell_type": "code",
   "execution_count": null,
   "metadata": {},
   "outputs": [],
   "source": [
    ">>> a.deposit(15)\n",
    "15"
   ]
  },
  {
   "cell_type": "markdown",
   "metadata": {},
   "source": [
    "在 OOP 中，我们说方法可以在特定对象上调用。作为调用withdraw方法的结果，要么取钱成功，余额减少并返回，要么请求被拒绝，账户打印出错误信息。"
   ]
  },
  {
   "cell_type": "code",
   "execution_count": null,
   "metadata": {},
   "outputs": [],
   "source": [
    ">>> a.withdraw(10)  # The withdraw method returns the balance after withdrawal\n",
    "5\n",
    ">>> a.balance       # The balance attribute has changed\n",
    "5\n",
    ">>> a.withdraw(10)\n",
    "'Insufficient funds'"
   ]
  },
  {
   "cell_type": "markdown",
   "metadata": {},
   "source": [
    "像上面展示的那样，方法的行为取决于对象属性的改变。两次以相同参数对withdraw的调用返回了不同的结果。"
   ]
  },
  {
   "cell_type": "markdown",
   "metadata": {},
   "source": [
    "## 2.5.2 类的定义\n",
    "用户定义的类由class语句创建，它只包含单个子句。类的语句定义了类的名称和基类（会在继承那一节讨论），之后包含了定义类属性的语句组：\n",
    "class <name>(<base class>):\n",
    "    <suite>\n",
    "当类的语句被执行时，新的类会被创建，并且在当前环境第一帧绑定到<name>上。之后会执行语句组。任何名称都会在class语句的<suite>中绑定，通过def或赋值语句，创建或修改类的属性。\n",
    "类通常围绕实例属性来组织，实例属性是名值对，不和类本身关联但和类的每个对象关联。通过为实例化新对象定义方法，类规定了它的对象的实例属性。\n",
    "class语句的<suite>部分包含def语句，它们为该类的对象定义了新的方法。用于实例化对象的方法在 Python 中拥有特殊的名称，__init__（init两边分别有两个下划线），它叫做类的构造器。"
   ]
  },
  {
   "cell_type": "code",
   "execution_count": null,
   "metadata": {},
   "outputs": [],
   "source": [
    ">>> class Account(object):\n",
    "        def __init__(self, account_holder):\n",
    "            self.balance = 0\n",
    "            self.holder = account_holder"
   ]
  },
  {
   "cell_type": "markdown",
   "metadata": {},
   "source": [
    "Account的__init__方法有两个形参。第一个是self，绑定到新创建的Account对象上。第二个参数，account_holder，在被调用来实例化的时候，绑定到传给该类的参数上。\n",
    "构造器将实例属性名称balance与0绑定。它也将属性名称holder绑定到account_holder上。形参account_holder是__init__方法的局部名称。另一方面，通过最后一个赋值语句绑定的名称holder是一直存在的，因为它使用点运算符被存储为self的属性。\n",
    "定义了Account类之后，我们就可以实例化它："
   ]
  },
  {
   "cell_type": "code",
   "execution_count": null,
   "metadata": {},
   "outputs": [],
   "source": [
    ">>> a = Account('Jim')"
   ]
  },
  {
   "cell_type": "markdown",
   "metadata": {},
   "source": [
    "这个对Account类的“调用”创建了新的对象，它是Account的实例，之后以两个参数调用了构造函数__init__：新创建的对象和字符串'Jim'。按照惯例，我们使用名称self来命名构造器的第一个参数，因为它绑定到了被实例化的对象上。这个惯例在几乎所有 Python 代码中都适用。\n",
    "现在，我们可以使用点运算符来访问对象的balance和holder。"
   ]
  },
  {
   "cell_type": "code",
   "execution_count": null,
   "metadata": {},
   "outputs": [],
   "source": [
    ">>> a.balance\n",
    "0\n",
    ">>> a.holder\n",
    "'Jim'"
   ]
  },
  {
   "cell_type": "markdown",
   "metadata": {},
   "source": [
    "**身份。**每个新的账户实例都有自己的余额属性，它的值独立于相同类的其它对象。"
   ]
  },
  {
   "cell_type": "code",
   "execution_count": null,
   "metadata": {},
   "outputs": [],
   "source": [
    ">>> b = Account('Jack')\n",
    ">>> b.balance = 200\n",
    ">>> [acc.balance for acc in (a, b)]\n",
    "[0, 200]"
   ]
  },
  {
   "cell_type": "markdown",
   "metadata": {},
   "source": [
    "为了强化这种隔离，每个用户定义类的实例对象都有个独特的身份。对象身份使用is和is not运算符来比较。"
   ]
  },
  {
   "cell_type": "code",
   "execution_count": null,
   "metadata": {},
   "outputs": [],
   "source": [
    ">>> a is a\n",
    "True\n",
    ">>> a is not b\n",
    "True"
   ]
  },
  {
   "cell_type": "markdown",
   "metadata": {},
   "source": [
    "虽然由同一个调用来构造，绑定到a和b的对象并不相同。通常，使用赋值将对象绑定到新名称并不会创建新的对象。"
   ]
  },
  {
   "cell_type": "code",
   "execution_count": null,
   "metadata": {},
   "outputs": [],
   "source": [
    ">>> c = a\n",
    ">>> c is a\n",
    "True"
   ]
  },
  {
   "cell_type": "markdown",
   "metadata": {},
   "source": [
    "用户定义类的新对象只在类（比如Account）使用调用表达式被实例化的时候创建。\n",
    "**方法。**对象方法也由class语句组中的def语句定义。下面，deposit和withdraw都被定义为Account类的对象上的方法："
   ]
  },
  {
   "cell_type": "code",
   "execution_count": null,
   "metadata": {},
   "outputs": [],
   "source": [
    ">>> class Account(object):\n",
    "        def __init__(self, account_holder):\n",
    "            self.balance = 0\n",
    "            self.holder = account_holder\n",
    "        def deposit(self, amount):\n",
    "            self.balance = self.balance + amount\n",
    "            return self.balance\n",
    "        def withdraw(self, amount):\n",
    "            if amount > self.balance:\n",
    "                return 'Insufficient funds'\n",
    "            self.balance = self.balance - amount\n",
    "            return self.balance"
   ]
  },
  {
   "cell_type": "markdown",
   "metadata": {},
   "source": [
    "虽然方法定义和函数定义在声明方式上并没有区别，方法定义有不同的效果。由class语句中的def语句创建的函数值绑定到了声明的名称上，但是只在类的局部绑定为一个属性。这个值可以使用点运算符在类的实例上作为方法来调用。\n",
    "每个方法定义同样包含特殊的首个参数self，它绑定到方法所调用的对象上。例如，让我们假设deposit在特定的Account对象上调用，并且传递了一个对象值：要存入的金额。对象本身绑定到了self上，而参数绑定到了amount上。所有被调用的方法能够通过self参数来访问对象，所以它们可以访问并操作对象的状态。\n",
    "为了调用这些方法，我们再次使用点运算符，就像下面这样："
   ]
  },
  {
   "cell_type": "code",
   "execution_count": null,
   "metadata": {},
   "outputs": [],
   "source": [
    ">>> tom_account = Account('Tom')\n",
    ">>> tom_account.deposit(100)\n",
    "100\n",
    ">>> tom_account.withdraw(90)\n",
    "10\n",
    ">>> tom_account.withdraw(90)\n",
    "'Insufficient funds'\n",
    ">>> tom_account.holder\n",
    "'Tom'"
   ]
  },
  {
   "cell_type": "markdown",
   "metadata": {},
   "source": [
    "当一个方法通过点运算符调用时，对象本身（这个例子中绑定到了tom_account）起到了双重作用。首先，它决定了withdraw意味着哪个名称；withdraw并不是环境中的名称，而是Account类局部的名称。其次，当withdraw方法调用时，它绑定到了第一个参数self上。求解点运算符的详细过程会在下一节中展示。"
   ]
  },
  {
   "cell_type": "markdown",
   "metadata": {},
   "source": [
    "## 2.5.3 消息传递和点表达式\n",
    "方法定义在类中，而实例属性通常在构造器中赋值，二者都是面向对象编程的基本元素。这两个概念很大程度上类似于数据值的消息传递实现中的分发字典。对象使用点运算符接受消息，但是消息并不是任意的、值为字符串的键，而是类的局部名称。对象也拥有具名的局部状态值（实例属性），但是这个状态可以使用点运算符访问和操作，并不需要在实现中使用nonlocal语句。\n",
    "消息传递的核心概念，就是数据值应该通过响应消息而拥有行为，这些消息和它们所表示的抽象类型相关。点运算符是 Python 的语法特征，它形成了消息传递的隐喻。使用带有内建对象系统语言的优点是，消息传递能够和其它语言特性，例如赋值语句无缝对接。我们并不需要不同的消息来“获取”和“设置”关联到局部属性名称的值；语言的语法允许我们直接使用消息名称。\n",
    "**点表达式。**类似tom_account.deposit的代码片段叫做点表达式。点表达式包含一个表达式，一个点和一个名称：\n",
    "<expression> . <name>\n",
    "<expression>可为任意的 Python 有效表达式，但是<name>必须是个简单的名称（而不是求值为name的表达式）。点表达式会使用提供的<name>，对值为<expression>的对象求出属性的值。\n",
    "内建的函数getattr也会按名称返回对象的属性。它是等价于点运算符的函数。使用getattr，我们就能使用字符串来查找某个属性，就像分发字典那样："
   ]
  },
  {
   "cell_type": "code",
   "execution_count": null,
   "metadata": {},
   "outputs": [],
   "source": [
    ">>> getattr(tom_account, 'balance')\n",
    "10"
   ]
  },
  {
   "cell_type": "markdown",
   "metadata": {},
   "source": [
    "我们也可以使用hasattr测试对象是否拥有某个具名属性："
   ]
  },
  {
   "cell_type": "code",
   "execution_count": null,
   "metadata": {},
   "outputs": [],
   "source": [
    ">>> hasattr(tom_account, 'deposit')\n",
    "True"
   ]
  },
  {
   "cell_type": "markdown",
   "metadata": {},
   "source": [
    "对象的属性包含所有实例属性，以及所有定义在类中的属性（包括方法）。方法是需要特别处理的类的属性。\n",
    "**方法和函数。**当一个方法在对象上调用时，对象隐式地作为第一个参数传递给方法。也就是说，点运算符左边值为<expression>的对象，会自动传给点运算符右边的方法，作为第一个参数。所以，对象绑定到了参数self上。\n",
    "为了自动实现self的绑定，Python 区分函数和绑定方法。我们已经在这门课的开始创建了前者，而后者在方法调用时将对象和函数组合到一起。绑定方法的值已经将第一个函数关联到所调用的实例，当方法调用时实例会被命名为self。\n",
    "通过在点运算符的返回值上调用type，我们可以在交互式解释器中看到它们的差异。作为类的属性，方法只是个函数，但是作为实例属性，它是绑定方法："
   ]
  },
  {
   "cell_type": "code",
   "execution_count": null,
   "metadata": {},
   "outputs": [],
   "source": [
    ">>> type(Account.deposit)\n",
    "<class 'function'>\n",
    ">>> type(tom_account.deposit)\n",
    "<class 'method'>"
   ]
  },
  {
   "cell_type": "markdown",
   "metadata": {},
   "source": [
    "这两个结果的唯一不同点是，前者是个标准的二元函数，带有参数self和amount。后者是一元方法，当方法被调用时，名称self自动绑定到了名为tom_account的对象上，而名称amount会被绑定到传递给方法的参数上。这两个值，无论函数值或绑定方法的值，都和相同的deposit函数体所关联。\n",
    "我们可以以两种方式调用deposit：作为函数或作为绑定方法。在前者的例子中，我们必须为self参数显式提供实参。而对于后者，self参数已经自动绑定了。"
   ]
  },
  {
   "cell_type": "code",
   "execution_count": null,
   "metadata": {},
   "outputs": [],
   "source": [
    ">>> Account.deposit(tom_account, 1001)  # The deposit function requires 2 arguments\n",
    "1011\n",
    ">>> tom_account.deposit(1000)           # The deposit method takes 1 argument\n",
    "2011"
   ]
  },
  {
   "cell_type": "markdown",
   "metadata": {},
   "source": [
    "函数getattr的表现就像运算符那样：它的第一个参数是对象，而第二个参数（名称）是定义在类中的方法。之后，getattr返回绑定方法的值。另一方面，如果第一个参数是个类，getattr会直接返回属性值，它仅仅是个函数。\n",
    "**实践指南：命名惯例。**类名称通常以首字母大写来编写（也叫作驼峰拼写法，因为名称中间的大写字母像驼峰）。方法名称遵循函数命名的惯例，使用以下划线分隔的小写字母。\n",
    "有的时候，有些实例变量和方法的维护和对象的一致性相关，我们不想让用户看到或使用它们。它们并不是由类定义的一部分抽象，而是一部分实现。Python 的惯例规定，如果属性名称以下划线开始，它只能在方法或类中访问，而不能被类的用户访问。"
   ]
  },
  {
   "cell_type": "markdown",
   "metadata": {},
   "source": [
    "## 2.5.4 类属性\n",
    "有些属性值在特定类的所有对象之间共享。这样的属性关联到类本身，而不是类的任何独立实例。例如，让我们假设银行以固定的利率对余额支付利息。这个利率可能会改变，但是它是在所有账户中共享的单一值。\n",
    "类属性由class语句组中的赋值语句创建，位于任何方法定义之外。在更宽泛的开发者社群中，类属性也被叫做类变量或静态变量。下面的类语句以名称interest为Account创建了类属性。"
   ]
  },
  {
   "cell_type": "code",
   "execution_count": null,
   "metadata": {},
   "outputs": [],
   "source": [
    ">>> class Account(object):\n",
    "        interest = 0.02            # A class attribute\n",
    "        def __init__(self, account_holder):\n",
    "            self.balance = 0\n",
    "            self.holder = account_holder\n",
    "        # Additional methods would be defined here"
   ]
  },
  {
   "cell_type": "markdown",
   "metadata": {},
   "source": [
    "这个属性仍旧可以通过类的任何实例来访问。"
   ]
  },
  {
   "cell_type": "code",
   "execution_count": null,
   "metadata": {},
   "outputs": [],
   "source": [
    ">>> tom_account = Account('Tom')\n",
    ">>> jim_account = Account('Jim')\n",
    ">>> tom_account.interest\n",
    "0.02\n",
    ">>> jim_account.interest\n",
    "0.02"
   ]
  },
  {
   "cell_type": "markdown",
   "metadata": {},
   "source": [
    "但是，对类属性的单一赋值语句会改变所有该类实例上的属性值。"
   ]
  },
  {
   "cell_type": "code",
   "execution_count": null,
   "metadata": {},
   "outputs": [],
   "source": [
    ">>> Account.interest = 0.04\n",
    ">>> tom_account.interest\n",
    "0.04\n",
    ">>> jim_account.interest\n",
    "0.04"
   ]
  },
  {
   "cell_type": "markdown",
   "metadata": {},
   "source": [
    "**属性名称。**我们已经在我们的对象系统中引入了足够的复杂性，我们需要规定名称如何解析为特定的属性。毕竟，我们可以轻易拥有同名的类属性和实例属性。\n",
    "像我们看到的那样，点运算符由表达式、点和名称组成：\n",
    "<expression> . <name>\n",
    "为了求解点表达式：\n",
    "求出点左边的<expression>，会产生点运算符的对象。\n",
    "<name>会和对象的实例属性匹配；如果该名称的属性存在，会返回它的值。\n",
    "如果<name>不存在于实例属性，那么会在类中查找<name>，这会产生类的属性值。\n",
    "这个值会被返回，如果它是个函数，则会返回绑定方法。\n",
    "在这个求值过程中，实例属性在类的属性之前查找，就像局部名称具有高于全局的优先级。定义在类中的方法，在求值过程的第三步绑定到了点运算符的对象上。在类中查找名称的过程有额外的差异，在我们引入类继承的时候就会出现。\n",
    "**赋值。**所有包含点运算符的赋值语句都会作用于右边的对象。如果对象是个实例，那么赋值就会设置实例属性。如果对象是个类，那么赋值会设置类属性。作为这条规则的结果，对对象属性的赋值不能影响类的属性。下面的例子展示了这个区别。\n",
    "如果我们向账户实例的具名属性interest赋值，我们会创建属性的新实例，它和现有的类属性具有相同名称。"
   ]
  },
  {
   "cell_type": "code",
   "execution_count": null,
   "metadata": {},
   "outputs": [],
   "source": [
    ">>> jim_account.interest = 0.08"
   ]
  },
  {
   "cell_type": "markdown",
   "metadata": {},
   "source": [
    "这个属性值会通过点运算符返回："
   ]
  },
  {
   "cell_type": "code",
   "execution_count": null,
   "metadata": {},
   "outputs": [],
   "source": [
    ">>> jim_account.interest\n",
    "0.08"
   ]
  },
  {
   "cell_type": "markdown",
   "metadata": {},
   "source": [
    "但是，类属性interest会保持为原始值，它可以通过所有其他账户返回。"
   ]
  },
  {
   "cell_type": "code",
   "execution_count": null,
   "metadata": {},
   "outputs": [],
   "source": [
    ">>> tom_account.interest\n",
    "0.04"
   ]
  },
  {
   "cell_type": "markdown",
   "metadata": {},
   "source": [
    "类属性interest的改动会影响tom_account，但是jim_account的实例属性不受影响。"
   ]
  },
  {
   "cell_type": "code",
   "execution_count": null,
   "metadata": {},
   "outputs": [],
   "source": [
    ">>> Account.interest = 0.05  # changing the class attribute\n",
    ">>> tom_account.interest     # changes instances without like-named instance attributes\n",
    "0.05\n",
    ">>> jim_account.interest     # but the existing instance attribute is unaffected\n",
    "0.08"
   ]
  },
  {
   "cell_type": "markdown",
   "metadata": {},
   "source": [
    "## 2.5.5 继承\n",
    "在使用 OOP 范式时，我们通常会发现，不同的抽象数据结构是相关的。特别是，我们发现相似的类在特化的程度上有区别。两个类可能拥有相似的属性，但是一个表示另一个的特殊情况。\n",
    "例如，我们可能希望实现一个活期账户，它不同于标准的账户。活期账户对每笔取款都收取额外的 $1，并且具有较低的利率。这里，我们演示上述行为："
   ]
  },
  {
   "cell_type": "code",
   "execution_count": null,
   "metadata": {},
   "outputs": [],
   "source": [
    ">>> ch = CheckingAccount('Tom')\n",
    ">>> ch.interest     # Lower interest rate for checking accounts\n",
    "0.01\n",
    ">>> ch.deposit(20)  # Deposits are the same\n",
    "20\n",
    ">>> ch.withdraw(5)  # withdrawals decrease balance by an extra charge\n",
    "14"
   ]
  },
  {
   "cell_type": "markdown",
   "metadata": {},
   "source": [
    "CheckingAccount是Account的特化。在 OOP 的术语中，通用的账户会作为CheckingAccount的基类，而CheckingAccount是Account的子类（术语“父类”和“超类”通常等同于“基类”，而“派生类”通常等同于“子类”）。\n",
    "子类继承了基类的属性，但是可能覆盖特定属性，包括特定的方法。使用继承，我们只需要关注基类和子类之间有什么不同。任何我们在子类未指定的东西会自动假设和基类中相同。\n",
    "继承也在对象隐喻中有重要作用，不仅仅是一种实用的组织方式。继承意味着在类之间表达“is-a”关系，它和“has-a”关系相反。活期账户是（is-a）一种特殊类型的账户，所以让CheckingAccount继承Account是继承的合理使用。另一方面，银行拥有（has-a）所管理的银行账户的列表，所以二者都不应继承另一个。反之，账户对象的列表应该自然地表现为银行账户的实例属性。"
   ]
  },
  {
   "cell_type": "markdown",
   "metadata": {},
   "source": [
    "## 2.5.6 使用继承\n",
    "我们通过将基类放置到类名称后面的圆括号内来指定继承。首先，我们提供Account类的完整实现，也包含类和方法的文档字符串。"
   ]
  },
  {
   "cell_type": "code",
   "execution_count": null,
   "metadata": {},
   "outputs": [],
   "source": [
    ">>> class Account(object):\n",
    "        \"\"\"A bank account that has a non-negative balance.\"\"\"\n",
    "        interest = 0.02\n",
    "        def __init__(self, account_holder):\n",
    "            self.balance = 0\n",
    "            self.holder = account_holder\n",
    "        def deposit(self, amount):\n",
    "            \"\"\"Increase the account balance by amount and return the new balance.\"\"\"\n",
    "            self.balance = self.balance + amount\n",
    "            return self.balance\n",
    "        def withdraw(self, amount):\n",
    "            \"\"\"Decrease the account balance by amount and return the new balance.\"\"\"\n",
    "            if amount > self.balance:\n",
    "                return 'Insufficient funds'\n",
    "            self.balance = self.balance - amount\n",
    "            return self.balance"
   ]
  },
  {
   "cell_type": "markdown",
   "metadata": {},
   "source": [
    "CheckingAccount的完整实现在下面："
   ]
  },
  {
   "cell_type": "code",
   "execution_count": null,
   "metadata": {},
   "outputs": [],
   "source": [
    ">>> class CheckingAccount(Account):\n",
    "        \"\"\"A bank account that charges for withdrawals.\"\"\"\n",
    "        withdraw_charge = 1\n",
    "        interest = 0.01\n",
    "        def withdraw(self, amount):\n",
    "            return Account.withdraw(self, amount + self.withdraw_charge)"
   ]
  },
  {
   "cell_type": "markdown",
   "metadata": {},
   "source": [
    "这里，我们引入了类属性withdraw_charge，它特定于CheckingAccount类。我们将一个更低的值赋给interest属性。我们也定义了新的withdraw方法来覆盖定义在Account对象中的行为。类语句组中没有更多的语句，所有其它行为都从基类Account中继承。"
   ]
  },
  {
   "cell_type": "code",
   "execution_count": null,
   "metadata": {},
   "outputs": [],
   "source": [
    ">>> checking = CheckingAccount('Sam')\n",
    ">>> checking.deposit(10)\n",
    "10\n",
    ">>> checking.withdraw(5)\n",
    "4\n",
    ">>> checking.interest\n",
    "0.01"
   ]
  },
  {
   "cell_type": "markdown",
   "metadata": {},
   "source": [
    "checking.deposit表达式是用于存款的绑定方法，它定义在Account类中，当 Python 解析点表达式中的名称时，实例上并没有这个属性，它会在类中查找该名称。实际上，在类中“查找名称”的行为会在原始对象的类的继承链中的每个基类中查找。我们可以递归定义这个过程，为了在类中查找名称：\n",
    "如果类中有带有这个名称的属性，返回属性值。\n",
    "否则，如果有基类的话，在基类中查找该名称。\n",
    "在deposit中，Python 会首先在实例中查找名称，之后在CheckingAccount类中。最后，它会在Account中查找，这里是deposit定义的地方。根据我们对点运算符的求值规则，由于deposit是在checking实例的类中查找到的函数，点运算符求值为绑定方法。这个方法以参数10调用，这会以绑定到checking对象的self和绑定到10的amount调用deposit方法。\n",
    "对象的类会始终保持不变。即使deposit方法在Account类中找到，deposit以绑定到CheckingAccount实例的self调用，而不是Account的实例。\n",
    "译者注：CheckingAccount的实例也是Account的实例，这个说法是有问题的。\n",
    "**调用祖先。**被覆盖的属性仍然可以通过类对象来访问。例如，我们可以通过以包含withdraw_charge的参数调用Account的withdraw方法，来实现CheckingAccount的withdraw方法。\n",
    "要注意我们调用self.withdraw_charge而不是等价的CheckingAccount.withdraw_charge。前者的好处就是继承自CheckingAccount的类可能会覆盖支取费用。如果是这样的话，我们希望我们的withdraw实现使用新的值而不是旧的值。"
   ]
  },
  {
   "cell_type": "markdown",
   "metadata": {},
   "source": [
    "## 2.5.7 多重继承\n",
    "Python 支持子类从多个基类继承属性的概念，这是一种叫做多重继承的语言特性。\n",
    "假设我们从Account继承了SavingsAccount，每次存钱的时候向客户收取一笔小费用。"
   ]
  },
  {
   "cell_type": "code",
   "execution_count": null,
   "metadata": {},
   "outputs": [],
   "source": [
    ">>> class SavingsAccount(Account):\n",
    "        deposit_charge = 2\n",
    "        def deposit(self, amount):\n",
    "            return Account.deposit(self, amount - self.deposit_charge)"
   ]
  },
  {
   "cell_type": "markdown",
   "metadata": {},
   "source": [
    "之后，一个聪明的总经理设想了AsSeenOnTVAccount，它拥有CheckingAccount和SavingsAccount的最佳特性：支取和存入的费用，以及较低的利率。它将储蓄账户和活期存款账户合二为一！“如果我们构建了它”，总经理解释道，“一些人会注册并支付所有这些费用。甚至我们会给他们一美元。”"
   ]
  },
  {
   "cell_type": "code",
   "execution_count": null,
   "metadata": {},
   "outputs": [],
   "source": [
    ">>> class AsSeenOnTVAccount(CheckingAccount, SavingsAccount):\n",
    "        def __init__(self, account_holder):\n",
    "            self.holder = account_holder\n",
    "            self.balance = 1           # A free dollar!"
   ]
  },
  {
   "cell_type": "markdown",
   "metadata": {},
   "source": [
    "实际上，这个实现就完整了。存款和取款都需要费用，使用了定义在CheckingAccount和SavingsAccount中的相应函数。"
   ]
  },
  {
   "cell_type": "code",
   "execution_count": null,
   "metadata": {},
   "outputs": [],
   "source": [
    ">>> such_a_deal = AsSeenOnTVAccount(\"John\")\n",
    ">>> such_a_deal.balance\n",
    "1\n",
    ">>> such_a_deal.deposit(20)            # $2 fee from SavingsAccount.deposit\n",
    "19\n",
    ">>> such_a_deal.withdraw(5)            # $1 fee from CheckingAccount.withdraw\n",
    "13"
   ]
  },
  {
   "cell_type": "markdown",
   "metadata": {},
   "source": [
    "就像预期那样，没有歧义的引用会正确解析："
   ]
  },
  {
   "cell_type": "code",
   "execution_count": null,
   "metadata": {},
   "outputs": [],
   "source": [
    ">>> such_a_deal.deposit_charge\n",
    "2\n",
    ">>> such_a_deal.withdraw_charge\n",
    "1"
   ]
  },
  {
   "cell_type": "markdown",
   "metadata": {},
   "source": [
    "但是如果引用有歧义呢，比如withdraw方法的引用，它定义在Account和CheckingAccount中？下面的图展示了AsSeenOnTVAccount类的继承图。每个箭头都从子类指向基类。\n",
    "\n",
    "对于像这样的简单“菱形”，Python 从左到右解析名称，之后向上。这个例子中，Python 按下列顺序检查名称，直到找到了具有该名称的属性：\n",
    "AsSeenOnTVAccount, CheckingAccount, SavingsAccount, Account, object\n",
    "继承顺序的问题没有正确的解法，因为我们可能会给某个派生类高于其他类的优先级。但是，任何支持多重继承的编程语言必须始终选择同一个顺序，便于语言的用户预测程序的行为。\n",
    "**扩展阅读。**Python 使用一种叫做 C3 Method Resolution Ordering 的递归算法来解析名称。任何类的方法解析顺序都使用所有类上的mro方法来查询。"
   ]
  },
  {
   "cell_type": "code",
   "execution_count": null,
   "metadata": {},
   "outputs": [],
   "source": [
    ">>> [c.__name__ for c in AsSeenOnTVAccount.mro()]\n",
    "['AsSeenOnTVAccount', 'CheckingAccount', 'SavingsAccount', 'Account', 'object']"
   ]
  },
  {
   "cell_type": "markdown",
   "metadata": {},
   "source": [
    "这个用于查询方法解析顺序的算法并不是这门课的主题，但是 Python 的原作者使用一篇原文章的引用来描述它。"
   ]
  },
  {
   "cell_type": "markdown",
   "metadata": {},
   "source": [
    "## 2.5.8 对象的作用\n",
    "Python 对象系统为使数据抽象和消息传递更加便捷和灵活而设计。类、方法、继承和点运算符的特化语法都可以让我们在程序中形成对象隐喻，它能够提升我们组织大型程序的能力。\n",
    "特别是，我们希望我们的对象系统在不同层面上促进关注分离。每个程序中的对象都封装和管理程序状态的一部分，每个类语句都定义了一些函数，它们实现了程序总体逻辑的一部分。抽象界限强制了大型程序不同层面之间的边界。\n",
    "面向对象编程适合于对系统建模，这些系统拥有相互分离并交互的部分。例如，不同用户在社交网络中互动，不同角色在游戏中互动，以及不同图形在物理模拟中互动。在表现这种系统的时候，程序中的对象通常自然地映射为被建模系统中的对象，类用于表现它们的类型和关系。\n",
    "另一方面，类可能不会提供用于实现特定的抽象的最佳机制。函数式抽象提供了更加自然的隐喻，用于表现输入和输出的关系。一个人不应该强迫自己把程序中的每个细微的逻辑都塞到类里面，尤其是当定义独立函数来操作数据变得十分自然的时候。函数也强制了关注分离。\n",
    "类似 Python 的多范式语言允许程序员为合适的问题匹配合适的范式。为了简化程序，或使程序模块化，确定何时引入新的类，而不是新的函数，是软件工程中的重要设计技巧，这需要仔细关注。"
   ]
  },
  {
   "cell_type": "markdown",
   "metadata": {},
   "source": [
    "# 2.6 实现类和对象\n",
    "来源：2.6 Implementing Classes and Objects\n",
    "译者：飞龙\n",
    "协议：CC BY-NC-SA 4.0\n",
    "在使用面向对象编程范式时，我们使用对象隐喻来指导程序的组织。数据表示和操作的大部分逻辑都表达在类的定义中。在这一节中，我们会看到，类和对象本身可以使用函数和字典来表示。以这种方式实现对象系统的目的是展示使用对象隐喻并不需要特殊的编程语言。即使编程语言没有面向对象系统，程序照样可以面向对象。\n",
    "为了实现对象，我们需要抛弃点运算符（它需要语言的内建支持），并创建分发字典，它的行为和内建对象系统的元素差不多。我们已经看到如何通过分发字典实现消息传递行为。为了完整实现对象系统，我们需要在实例、类和基类之间发送消息，它们全部都是含有属性的字典。\n",
    "我们不会实现整个 Python 对象系统，它包含这篇文章没有涉及到的特性（比如元类和静态方法）。我们会专注于用户定义的类，不带有多重继承和内省行为（比如返回实例的类）。我们的实现并不遵循 Python 类型系统的明确规定。反之，它为实现对象隐喻的核心功能而设计。"
   ]
  },
  {
   "cell_type": "markdown",
   "metadata": {},
   "source": [
    "## 2.6.1 实例\n",
    "我们从实例开始。实例拥有具名属性，例如账户余额，它可以被设置或获取。我们使用分发字典来实现实例，它会响应“get”和“set”属性值消息。属性本身保存在叫做attributes的局部字典中。\n",
    "就像我们在这一章的前面看到的那样，字典本身是抽象数据类型。我们使用列表来实现字典，我们使用偶对来实现列表，并且我们使用函数来实现偶对。就像我们以字典实现对象系统那样，要注意我们能够仅仅使用函数来实现对象。\n",
    "为了开始我们的实现，我们假设我们拥有一个类实现，它可以查找任何不是实例部分的名称。我们将类作为参数cls传递给make_instance。"
   ]
  },
  {
   "cell_type": "code",
   "execution_count": null,
   "metadata": {},
   "outputs": [],
   "source": [
    ">>> def make_instance(cls):\n",
    "        \"\"\"Return a new object instance, which is a dispatch dictionary.\"\"\"\n",
    "        def get_value(name):\n",
    "            if name in attributes:\n",
    "                return attributes[name]\n",
    "            else:\n",
    "                value = cls['get'](name)\n",
    "                return bind_method(value, instance)\n",
    "        def set_value(name, value):\n",
    "            attributes[name] = value\n",
    "        attributes = {}\n",
    "        instance = {'get': get_value, 'set': set_value}\n",
    "        return instance"
   ]
  },
  {
   "cell_type": "markdown",
   "metadata": {},
   "source": [
    "instance是分发字典，它响应消息get和set。set消息对应 Python 对象系统的属性赋值：所有赋值的属性都直接储存在对象的局部属性字典中。在get中，如果name在局部attributes字典中不存在，那么它会在类中寻找。如果cls返回的value为函数，它必须绑定到实例上。\n",
    "绑定方法值。make_instance中的get_value 使用get寻找类中的具名属性，之后调用bind_method。方法的绑定只在函数值上调用，并且它会通过将实例插入为第一个参数，从函数值创建绑定方法的值。"
   ]
  },
  {
   "cell_type": "code",
   "execution_count": null,
   "metadata": {},
   "outputs": [],
   "source": [
    ">>> def bind_method(value, instance):\n",
    "        \"\"\"Return a bound method if value is callable, or value otherwise.\"\"\"\n",
    "        if callable(value):\n",
    "            def method(*args):\n",
    "                return value(instance, *args)\n",
    "            return method\n",
    "        else:\n",
    "            return value"
   ]
  },
  {
   "cell_type": "markdown",
   "metadata": {},
   "source": [
    "当方法被调用时，第一个参数self通过这个定义绑定到了instance的值上。"
   ]
  },
  {
   "cell_type": "markdown",
   "metadata": {},
   "source": [
    "## 2.6.2 类\n",
    "类也是对象，在 Python 对象系统和我们这里实现的系统中都是如此。为了简化，我们假设类自己并没有类（在 Python 中，类本身也有类，几乎所有类都共享相同的类，叫做type）。类可以接受get和set消息，以及new消息。"
   ]
  },
  {
   "cell_type": "code",
   "execution_count": null,
   "metadata": {},
   "outputs": [],
   "source": [
    ">>> def make_class(attributes, base_class=None):\n",
    "        \"\"\"Return a new class, which is a dispatch dictionary.\"\"\"\n",
    "        def get_value(name):\n",
    "            if name in attributes:\n",
    "                return attributes[name]\n",
    "            elif base_class is not None:\n",
    "                return base_class['get'](name)\n",
    "        def set_value(name, value):\n",
    "            attributes[name] = value\n",
    "        def new(*args):\n",
    "            return init_instance(cls, *args)\n",
    "        cls = {'get': get_value, 'set': set_value, 'new': new}\n",
    "        return cls"
   ]
  },
  {
   "cell_type": "markdown",
   "metadata": {},
   "source": [
    "不像实例那样，类的get函数在属性未找到的时候并不查询它的类，而是查询它的base_class。类并不需要方法绑定。\n",
    "实例化。make_class 中的new函数调用了init_instance，它首先创建新的实例，之后调用叫做__init__的方法。"
   ]
  },
  {
   "cell_type": "code",
   "execution_count": null,
   "metadata": {},
   "outputs": [],
   "source": [
    ">>> def init_instance(cls, *args):\n",
    "        \"\"\"Return a new object with type cls, initialized with args.\"\"\"\n",
    "        instance = make_instance(cls)\n",
    "        init = cls['get']('__init__')\n",
    "        if init:\n",
    "            init(instance, *args)\n",
    "        return instance"
   ]
  },
  {
   "cell_type": "markdown",
   "metadata": {},
   "source": [
    "最后这个函数完成了我们的对象系统。我们现在拥有了实例，它的set是局部的，但是get会回溯到它们的类中。实例在它的类中查找名称之后，它会将自己绑定到函数值上来创建方法。最后类可以创建新的（new）实例，并且在实例创建之后立即调用它们的__init__构造器。\n",
    "在对象系统中，用户仅仅可以调用create_class，所有其他功能通过消息传递来使用。与之相似，Python 的对象系统由class语句来调用，它的所有其他功能都通过点表达式和对类的调用来使用。"
   ]
  },
  {
   "cell_type": "markdown",
   "metadata": {},
   "source": [
    "## 2.6.3 使用所实现的对象\n",
    "我们现在回到上一节银行账户的例子。使用我们实现的对象系统，我们就可以创建Account类，CheckingAccount子类和它们的实例。\n",
    "Account类通过create_account_class 函数创建，它拥有类似于 Python class语句的结构，但是以make_class的调用结尾。"
   ]
  },
  {
   "cell_type": "code",
   "execution_count": null,
   "metadata": {},
   "outputs": [],
   "source": [
    ">>> def make_account_class():\n",
    "        \"\"\"Return the Account class, which has deposit and withdraw methods.\"\"\"\n",
    "        def __init__(self, account_holder):\n",
    "            self['set']('holder', account_holder)\n",
    "            self['set']('balance', 0)\n",
    "        def deposit(self, amount):\n",
    "            \"\"\"Increase the account balance by amount and return the new balance.\"\"\"\n",
    "            new_balance = self['get']('balance') + amount\n",
    "            self['set']('balance', new_balance)\n",
    "            return self['get']('balance')\n",
    "        def withdraw(self, amount):\n",
    "            \"\"\"Decrease the account balance by amount and return the new balance.\"\"\"\n",
    "            balance = self['get']('balance')\n",
    "            if amount > balance:\n",
    "                return 'Insufficient funds'\n",
    "            self['set']('balance', balance - amount)\n",
    "            return self['get']('balance')\n",
    "        return make_class({'__init__': __init__,\n",
    "                           'deposit':  deposit,\n",
    "                           'withdraw': withdraw,\n",
    "                           'interest': 0.02})"
   ]
  },
  {
   "cell_type": "markdown",
   "metadata": {},
   "source": [
    "在这个函数中，属性名称在最后设置。不像 Python 的class语句，它强制内部函数和属性名称之间的一致性。这里我们必须手动指定属性名称和值的对应关系。\n",
    "Account类最终由赋值来实例化。"
   ]
  },
  {
   "cell_type": "code",
   "execution_count": null,
   "metadata": {},
   "outputs": [],
   "source": [
    ">>> Account = make_account_class()"
   ]
  },
  {
   "cell_type": "markdown",
   "metadata": {},
   "source": [
    "之后，账户实例通过new消息来创建，它需要名称来处理新创建的账户。"
   ]
  },
  {
   "cell_type": "code",
   "execution_count": null,
   "metadata": {},
   "outputs": [],
   "source": [
    ">>> jim_acct = Account['new']('Jim')"
   ]
  },
  {
   "cell_type": "markdown",
   "metadata": {},
   "source": [
    "之后，get消息传递给jim_acct ，来获取属性和方法。方法可以调用来更新账户余额。"
   ]
  },
  {
   "cell_type": "code",
   "execution_count": null,
   "metadata": {},
   "outputs": [],
   "source": [
    ">>> jim_acct['get']('holder')\n",
    "'Jim'\n",
    ">>> jim_acct['get']('interest')\n",
    "0.02\n",
    ">>> jim_acct['get']('deposit')(20)\n",
    "20\n",
    ">>> jim_acct['get']('withdraw')(5)\n",
    "15"
   ]
  },
  {
   "cell_type": "markdown",
   "metadata": {},
   "source": [
    "就像使用 Python 对象系统那样，设置实例的属性并不会修改类的对应属性："
   ]
  },
  {
   "cell_type": "code",
   "execution_count": null,
   "metadata": {},
   "outputs": [],
   "source": [
    ">>> jim_acct['set']('interest', 0.04)\n",
    ">>> Account['get']('interest')\n",
    "0.02"
   ]
  },
  {
   "cell_type": "markdown",
   "metadata": {},
   "source": [
    "**继承。**我们可以创建CheckingAccount子类，通过覆盖类属性的子集。在这里，我们修改withdraw方法来收取费用，并且降低了利率。"
   ]
  },
  {
   "cell_type": "code",
   "execution_count": null,
   "metadata": {},
   "outputs": [],
   "source": [
    ">>> def make_checking_account_class():\n",
    "        \"\"\"Return the CheckingAccount class, which imposes a $1 withdrawal fee.\"\"\"\n",
    "        def withdraw(self, amount):\n",
    "            return Account['get']('withdraw')(self, amount + 1)\n",
    "        return make_class({'withdraw': withdraw, 'interest': 0.01}, Account)"
   ]
  },
  {
   "cell_type": "markdown",
   "metadata": {},
   "source": [
    "在这个实现中，我们在子类的withdraw 中调用了基类Account的withdraw函数，就像在 Python 内建对象系统那样。我们可以创建子类本身和它的实例，就像之前那样："
   ]
  },
  {
   "cell_type": "code",
   "execution_count": null,
   "metadata": {},
   "outputs": [],
   "source": [
    ">>> CheckingAccount = make_checking_account_class()\n",
    ">>> jack_acct = CheckingAccount['new']('Jack')"
   ]
  },
  {
   "cell_type": "markdown",
   "metadata": {},
   "source": [
    "它们的行为相似，构造函数也一样。每笔取款都会在特殊的withdraw函数中收费 $1，并且interest也拥有新的较低值。"
   ]
  },
  {
   "cell_type": "code",
   "execution_count": null,
   "metadata": {},
   "outputs": [],
   "source": [
    ">>> jack_acct['get']('interest')\n",
    "0.01\n",
    ">>> jack_acct['get']('deposit')(20)\n",
    "20\n",
    ">>> jack_acct['get']('withdraw')(5)\n",
    "14"
   ]
  },
  {
   "cell_type": "markdown",
   "metadata": {},
   "source": [
    "我们的构建在字典上的对象系统十分类似于 Python 内建对象系统的实现。Python 中，任何用户定义类的实例，都有个特殊的__dict__属性，将对象的局部实例属性储存在字典中，就像我们的attributes字典那样。Python 的区别在于，它区分特定的特殊方法，这些方法和内建函数交互来确保那些函数能正常处理许多不同类型的参数。操作不同类型参数的函数是下一节的主题。"
   ]
  },
  {
   "cell_type": "markdown",
   "metadata": {},
   "source": [
    "# 2.7 泛用方法\n",
    "来源：2.7 Generic Operations\n",
    "译者：飞龙\n",
    "协议：CC BY-NC-SA 4.0"
   ]
  },
  {
   "cell_type": "markdown",
   "metadata": {},
   "source": [
    "这一章中我们引入了复合数据类型，以及由构造器和选择器实现的数据抽象机制。使用消息传递，我们就能使抽象数据类型直接拥有行为。使用对象隐喻，我们可以将数据的表示和用于操作数据的方法绑定在一起，从而使数据驱动的程序模块化，并带有局部状态。\n",
    "但是，我们仍然必须展示，我们的对象系统允许我们在大型程序中灵活组合不同类型的对象。点运算符的消息传递仅仅是一种用于使用多个对象构建组合表达式的方式。这一节中，我们会探索一些用于组合和操作不同类型对象的方式。"
   ]
  },
  {
   "cell_type": "markdown",
   "metadata": {},
   "source": [
    "## 2.7.1 字符串转换\n",
    "我们在这一章最开始说，对象值的行为应该类似它所表达的数据，包括产生它自己的字符串表示。数据值的字符串表示在类似 Python 的交互式语言中尤其重要，其中“读取-求值-打印”的循环需要每个值都拥有某种字符串表示形式。\n",
    "字符串值为人们的信息交流提供了基础的媒介。字符序列可以在屏幕上渲染，打印到纸上，大声朗读，转换为盲文，或者以莫尔兹码广播。字符串对编程而言也非常基础，因为它们可以表示 Python 表达式。对于一个对象，我们可能希望生成一个字符串，当作为 Python 表达式解释时，求值为等价的对象。\n",
    "Python 规定，所有对象都应该能够产生两种不同的字符串表示：一种是人类可解释的文本，另一种是 Python 可解释的表达式。字符串的构造函数str返回人类可读的字符串。在可能的情况下，repr函数返回一个 Python 表达式，它可以求值为等价的对象。repr的文档字符串解释了这个特性：\n",
    "repr(object) -> string\n",
    "\n",
    "Return the canonical string representation of the object.\n",
    "For most object types, eval(repr(object)) == object.\n",
    "在表达式的值上调用repr的结果就是 Python 在交互式会话中打印的东西。"
   ]
  },
  {
   "cell_type": "code",
   "execution_count": null,
   "metadata": {},
   "outputs": [],
   "source": [
    ">>> 12e12\n",
    "12000000000000.0\n",
    ">>> print(repr(12e12))\n",
    "12000000000000.0"
   ]
  },
  {
   "cell_type": "markdown",
   "metadata": {},
   "source": [
    "在不存在任何可以求值为原始值的表达式的情况中，Python 会产生一个代理："
   ]
  },
  {
   "cell_type": "code",
   "execution_count": null,
   "metadata": {},
   "outputs": [],
   "source": [
    ">>> repr(min)\n",
    "'<built-in function min>'"
   ]
  },
  {
   "cell_type": "markdown",
   "metadata": {},
   "source": [
    "str构造器通常与repr相同，但是有时会提供更加可解释的文本表示。例如，我们可以看到str和repr对于日期的不同："
   ]
  },
  {
   "cell_type": "code",
   "execution_count": null,
   "metadata": {},
   "outputs": [],
   "source": [
    ">>> from datetime import date\n",
    ">>> today = date(2011, 9, 12)\n",
    ">>> repr(today)\n",
    "'datetime.date(2011, 9, 12)'\n",
    ">>> str(today)\n",
    "'2011-09-12'"
   ]
  },
  {
   "cell_type": "markdown",
   "metadata": {},
   "source": [
    "repr函数的定义出现了新的挑战：我们希望它对所有数据类型都正确应用，甚至是那些在repr实现时还不存在的类型。我们希望它像一个多态函数，可以作用于许多（多）不同形式（态）的数据。\n",
    "消息传递提供了这个问题的解决方案：repr函数在参数上调用叫做__repr__的函数。"
   ]
  },
  {
   "cell_type": "code",
   "execution_count": null,
   "metadata": {},
   "outputs": [],
   "source": [
    ">>> today.__repr__()\n",
    "'datetime.date(2011, 9, 12)'"
   ]
  },
  {
   "cell_type": "markdown",
   "metadata": {},
   "source": [
    "通过在用户定义的类上实现同一方法，我们就可以将repr的适用性扩展到任何我们以后创建的类。这个例子强调了消息传递的另一个普遍的好处：就是它提供了一种机制，用于将现有函数的职责范围扩展到新的对象。\n",
    "str构造器以类似的方式实现：它在参数上调用了叫做__str__的方法。"
   ]
  },
  {
   "cell_type": "code",
   "execution_count": null,
   "metadata": {},
   "outputs": [],
   "source": [
    ">>> today.__str__()\n",
    "'2011-09-12'"
   ]
  },
  {
   "cell_type": "markdown",
   "metadata": {},
   "source": [
    "这些多态函数是一个更普遍原则的例子：特定函数应该作用于多种数据类型。这里举例的消息传递方法仅仅是多态函数实现家族的一员。本节剩下的部分会探索一些备选方案。"
   ]
  },
  {
   "cell_type": "markdown",
   "metadata": {},
   "source": [
    "## 2.7.2 多重表示\n",
    "使用对象或函数的数据抽象是用于管理复杂性的强大工具。抽象数据类型允许我们在数据表示和用于操作数据的函数之间构造界限。但是，在大型程序中，对于程序中的某种数据类型，提及“底层表示”可能不总是有意义。首先，一个数据对象可能有多种实用的表示，而且我们可能希望设计能够处理多重表示的系统。\n",
    "为了选取一个简单的示例，复数可以用两种几乎等价的方式来表示：直角坐标（虚部和实部）以及极坐标（模和角度）。有时直角坐标形式更加合适，而有时极坐标形式更加合适。复数以两种方式表示，而操作复数的函数可以处理每种表示，这样一个系统确实比较合理。\n",
    "更重要的是，大型软件系统工程通常由许多人设计，并花费大量时间，需求的主题随时间而改变。在这样的环境中，每个人都事先同意数据表示的方案是不可能的。除了隔离使用和表示的数据抽象的界限，我们需要隔离不同设计方案的界限，以及允许不同方案在一个程序中共存。进一步，由于大型程序通常通过组合已存在的模块创建，这些模块会单独设计，我们需要一种惯例，让程序员将模块递增地组合为大型系统。也就是说，不需要重复设计或实现这些模块。\n",
    "我们以最简单的复数示例开始。我们会看到，消息传递在维持“复数”对象的抽象概念时，如何让我们为复数的表示设计出分离的直角坐标和极坐标表示。我们会通过使用泛用选择器为复数定义算数函数（add_complex，mul_complex）来完成它。泛用选择器可访问复数的一部分，独立于数值表示的方式。所产生的复数系统包含两种不同类型的抽象界限。它们隔离了高阶操作和低阶表示。此外，也有一个垂直的界限，它使我们能够独立设计替代的表示。\n",
    "\n",
    "作为边注，我们正在开发一个系统，它在复数上执行算数运算，作为一个简单但不现实的使用泛用操作的例子。复数类型实际上在 Python 中已经内建了，但是这个例子中我们仍然自己实现。\n",
    "就像有理数那样，复数可以自然表示为偶对。复数集可以看做带有两个正交轴，实数轴和虚数轴的二维空间。根据这个观点，复数z = x + y * i（其中i*i = -1）可以看做平面上的点，它的实数为x，虚部为y。复数加法涉及到将它们的实部和虚部相加。\n",
    "对复数做乘法时，将复数以极坐标表示为模和角度更加自然。两个复数的乘积是，将一个复数按照另一个的长度作为因数拉伸，之后按照另一个的角度来旋转它的所得结果。\n",
    "所以，复数有两种不同表示，它们适用于不同的操作。然而，从一些人编写使用复数的程序的角度来看，数据抽象的原则表明，所有操作复数的运算都应该可用，无论计算机使用了哪个表示。\n",
    "**接口。**消息传递并不仅仅提供用于组装行为和数据的方式。它也允许不同的数据类型以不同方式响应相同消息。来自不同对象，产生相似行为的共享消息是抽象的有力手段。\n",
    "像之前看到的那样，抽象数据类型由构造器、选择器和额外的行为条件定义。与之紧密相关的概念是接口，它是共享消息的集合，带有它们含义的规定。响应__repr__和__str__特殊方法的对象都实现了通用的接口，它们可以表示为字符串。\n",
    "在复数的例子中，接口需要实现由四个消息组成的算数运算：real，imag，magnitude和angle。我们可以使用这些消息实现加法和乘法。\n",
    "我们拥有两种复数的抽象数据类型，它们的构造器不同。\n",
    "ComplexRI从实部和虚部构造复数。\n",
    "ComplexMA从模和角度构造复数。\n",
    "使用这些消息和构造器，我们可以实现复数算数："
   ]
  },
  {
   "cell_type": "code",
   "execution_count": null,
   "metadata": {},
   "outputs": [],
   "source": [
    ">>> def add_complex(z1, z2):\n",
    "        return ComplexRI(z1.real + z2.real, z1.imag + z2.imag)\n",
    ">>> def mul_complex(z1, z2):\n",
    "        return ComplexMA(z1.magnitude * z2.magnitude, z1.angle + z2.angle)"
   ]
  },
  {
   "cell_type": "markdown",
   "metadata": {},
   "source": [
    "术语“抽象数据类型”（ADT）和“接口”的关系是微妙的。ADT 包含构建复杂数据类的方式，以单元操作它们，并且可以选择它们的组件。在面向对象系统中，ADT 对应一个类，虽然我们已经看到对象系统并不需要实现 ADT。接口是一组与含义关联的消息，并且它可能包含选择器，也可能不包含。概念上，ADT 描述了一类东西的完整抽象表示，而接口规定了可能在许多东西之间共享的行为。\n",
    "**属性（Property）。**我们希望交替使用复数的两种类型，但是对于每个数值来说，储存重复的信息比较浪费。我们希望储存实部-虚部的表示或模-角度的表示之一。\n",
    "Python 拥有一个简单的特性，用于从零个参数的函数凭空计算属性（Attribute）。@property装饰器允许函数不使用标准调用表达式语法来调用。根据实部和虚部的复数实现展示了这一点。"
   ]
  },
  {
   "cell_type": "code",
   "execution_count": null,
   "metadata": {},
   "outputs": [],
   "source": [
    ">>> from math import atan2\n",
    ">>> class ComplexRI(object):\n",
    "        def __init__(self, real, imag):\n",
    "            self.real = real\n",
    "            self.imag = imag\n",
    "        @property\n",
    "        def magnitude(self):\n",
    "            return (self.real ** 2 + self.imag ** 2) ** 0.5\n",
    "        @property\n",
    "        def angle(self):\n",
    "            return atan2(self.imag, self.real)\n",
    "        def __repr__(self):\n",
    "            return 'ComplexRI({0}, {1})'.format(self.real, self.imag)"
   ]
  },
  {
   "cell_type": "markdown",
   "metadata": {},
   "source": [
    "第二种使用模和角度的实现提供了相同接口，因为它响应同一组消息。"
   ]
  },
  {
   "cell_type": "code",
   "execution_count": null,
   "metadata": {},
   "outputs": [],
   "source": [
    ">>> from math import sin, cos\n",
    ">>> class ComplexMA(object):\n",
    "        def __init__(self, magnitude, angle):\n",
    "            self.magnitude = magnitude\n",
    "            self.angle = angle\n",
    "        @property\n",
    "        def real(self):\n",
    "            return self.magnitude * cos(self.angle)\n",
    "        @property\n",
    "        def imag(self):\n",
    "            return self.magnitude * sin(self.angle)\n",
    "        def __repr__(self):\n",
    "            return 'ComplexMA({0}, {1})'.format(self.magnitude, self.angle)"
   ]
  },
  {
   "cell_type": "markdown",
   "metadata": {},
   "source": [
    "实际上，我们的add_complex和mul_complex实现并没有完成；每个复数类可以用于任何算数函数的任何参数。对象系统不以任何方式显式连接（例如通过继承）这两种复数类型，这需要给个注解。我们已经通过在两个类之间共享一组通用的消息和接口，实现了复数抽象。"
   ]
  },
  {
   "cell_type": "code",
   "execution_count": null,
   "metadata": {},
   "outputs": [],
   "source": [
    ">>> from math import pi\n",
    ">>> add_complex(ComplexRI(1, 2), ComplexMA(2, pi/2))\n",
    "ComplexRI(1.0000000000000002, 4.0)\n",
    ">>> mul_complex(ComplexRI(0, 1), ComplexRI(0, 1))\n",
    "ComplexMA(1.0, 3.141592653589793)"
   ]
  },
  {
   "cell_type": "markdown",
   "metadata": {},
   "source": [
    "编码多种表示的接口拥有良好的特性。用于每个表示的类可以独立开发；它们只需要遵循它们所共享的属性名称。这个接口同时是递增的。如果另一个程序员希望向相同程序添加第三个复数表示，它们只需要使用相同属性创建另一个类。\n",
    "**特殊方法。**内建的算数运算符可以以一种和repr相同的方式扩展；它们是特殊的方法名称，对应 Python 的算数、逻辑和序列运算的运算符。\n",
    "为了使我们的代码更加易读，我们可能希望在执行复数加法和乘法时直接使用+和*运算符。将下列方法添加到两个复数类中，这会让这些运算符，以及opertor模块中的add和mul函数可用。"
   ]
  },
  {
   "cell_type": "code",
   "execution_count": null,
   "metadata": {},
   "outputs": [],
   "source": [
    ">>> ComplexRI.__add__ = lambda self, other: add_complex(self, other)\n",
    ">>> ComplexMA.__add__ = lambda self, other: add_complex(self, other)\n",
    ">>> ComplexRI.__mul__ = lambda self, other: mul_complex(self, other)\n",
    ">>> ComplexMA.__mul__ = lambda self, other: mul_complex(self, other)"
   ]
  },
  {
   "cell_type": "markdown",
   "metadata": {},
   "source": [
    "现在，我们可以对我们的自定义类使用中缀符号。"
   ]
  },
  {
   "cell_type": "code",
   "execution_count": null,
   "metadata": {},
   "outputs": [],
   "source": [
    ">>> ComplexRI(1, 2) + ComplexMA(2, 0)\n",
    "ComplexRI(3.0, 2.0)\n",
    ">>> ComplexRI(0, 1) * ComplexRI(0, 1)\n",
    "ComplexMA(1.0, 3.141592653589793)"
   ]
  },
  {
   "cell_type": "markdown",
   "metadata": {},
   "source": [
    "**扩展阅读。**为了求解含有+运算符的表达式，Python 会检查表达式的左操作数和右操作数上的特殊方法。首先，Python 会检查左操作数的__add__方法，之后检查右操作数的__radd__方法。如果二者之一被发现，这个方法会以另一个操作数的值作为参数调用。\n",
    "在 Python 中求解含有任何类型的运算符的表达值具有相似的协议，这包括切片符号和布尔运算符。Python 文档列出了完整的运算符的方法名称。Dive into Python 3 的特殊方法名称一章描述了许多用于 Python 解释器的细节。"
   ]
  },
  {
   "cell_type": "markdown",
   "metadata": {},
   "source": [
    "## 2.7.3 泛用函数\n",
    "我们的复数实现创建了两种数据类型，它们对于add_complex和mul_complex函数能够互相转换。现在我们要看看如何使用相同的概念，不仅仅定义不同表示上的泛用操作，也能用来定义不同种类、并且不共享通用结构的参数上的泛用操作。\n",
    "我们到目前为止已定义的操作将不同的数据类型独立对待。所以，存在用于加法的独立的包，比如两个有理数或者两个复数。我们没有考虑到的是，定义类型界限之间的操作很有意义，比如将复数与有理数相加。我们经历了巨大的痛苦，引入了程序中各个部分的界限，便于让它们可被独立开发和理解。\n",
    "我们希望以某种精确控制的方式引入跨类型的操作。便于在不严重违反抽象界限的情况下支持它们。在我们希望的结果之间可能有些矛盾：我们希望能够将有理数与复数相加，也希望能够使用泛用的add函数，正确处理所有数值类型。同时，我们希望隔离复数和有理数的细节，来维持程序的模块化。\n",
    "让我们使用 Python 内建的对象系统重新编写有理数的实现。像之前一样，我们在较低层级将有理数储存为分子和分母。"
   ]
  },
  {
   "cell_type": "code",
   "execution_count": null,
   "metadata": {},
   "outputs": [],
   "source": [
    ">>> from fractions import gcd\n",
    ">>> class Rational(object):\n",
    "        def __init__(self, numer, denom):\n",
    "            g = gcd(numer, denom)\n",
    "            self.numer = numer // g\n",
    "            self.denom = denom // g\n",
    "        def __repr__(self):\n",
    "            return 'Rational({0}, {1})'.format(self.numer, self.denom)"
   ]
  },
  {
   "cell_type": "markdown",
   "metadata": {},
   "source": [
    "这个新的实现中的有理数的加法和乘法和之前类似。"
   ]
  },
  {
   "cell_type": "code",
   "execution_count": null,
   "metadata": {},
   "outputs": [],
   "source": [
    ">>> def add_rational(x, y):\n",
    "        nx, dx = x.numer, x.denom\n",
    "        ny, dy = y.numer, y.denom\n",
    "        return Rational(nx * dy + ny * dx, dx * dy)\n",
    ">>> def mul_rational(x, y):\n",
    "        return Rational(x.numer * y.numer, x.denom * y.denom)"
   ]
  },
  {
   "cell_type": "markdown",
   "metadata": {},
   "source": [
    "**类型分发。**一种处理跨类型操作的方式是为每种可能的类型组合设计不同的函数，操作可用于这种类型。例如，我们可以扩展我们的复数实现，使其提供函数用于将复数与有理数相加。我们可以使用叫做类型分发的机制更通用地提供这个功能。\n",
    "类型分发的概念是，编写一个函数，首先检测接受到的参数类型，之后执行适用于这种类型的代码。Python 中，对象类型可以使用内建的type函数来检测。"
   ]
  },
  {
   "cell_type": "code",
   "execution_count": null,
   "metadata": {},
   "outputs": [],
   "source": [
    ">>> def iscomplex(z):\n",
    "        return type(z) in (ComplexRI, ComplexMA)\n",
    ">>> def isrational(z):\n",
    "        return type(z) == Rational"
   ]
  },
  {
   "cell_type": "markdown",
   "metadata": {},
   "source": [
    "这里，我们依赖一个事实，每个对象都知道自己的类型，并且我们可以使用Python 的type函数来获取类型。即使type函数不可用，我们也能根据Rational，ComplexRI和ComplexMA来实现iscomplex和isrational。\n",
    "现在考虑下面的add实现，它显式检查了两个参数的类型。我们不会在这个例子中显式使用 Python 的特殊方法（例如__add__）。"
   ]
  },
  {
   "cell_type": "code",
   "execution_count": null,
   "metadata": {},
   "outputs": [],
   "source": [
    ">>> def add_complex_and_rational(z, r):\n",
    "            return ComplexRI(z.real + r.numer/r.denom, z.imag)\n",
    ">>> def add(z1, z2):\n",
    "        \"\"\"Add z1 and z2, which may be complex or rational.\"\"\"\n",
    "        if iscomplex(z1) and iscomplex(z2):\n",
    "            return add_complex(z1, z2)\n",
    "        elif iscomplex(z1) and isrational(z2):\n",
    "            return add_complex_and_rational(z1, z2)\n",
    "        elif isrational(z1) and iscomplex(z2):\n",
    "            return add_complex_and_rational(z2, z1)\n",
    "        else:\n",
    "            return add_rational(z1, z2)"
   ]
  },
  {
   "cell_type": "markdown",
   "metadata": {},
   "source": [
    "这个简单的类型分发方式并不是递增的，它使用了大量的条件语句。如果另一个数值类型包含在程序中，我们需要使用新的语句重新实现add。\n",
    "我们可以创建更灵活的add实现，通过以字典实现类型分发。要想扩展add的灵活性，第一步是为我们的类创建一个tag集合，抽离两个复数集合的实现。"
   ]
  },
  {
   "cell_type": "code",
   "execution_count": null,
   "metadata": {},
   "outputs": [],
   "source": [
    ">>> def type_tag(x):\n",
    "        return type_tag.tags[type(x)]\n",
    ">>> type_tag.tags = {ComplexRI: 'com', ComplexMA: 'com', Rational: 'rat'}"
   ]
  },
  {
   "cell_type": "markdown",
   "metadata": {},
   "source": [
    "下面，我们使用这些类型标签来索引字典，字典中储存了数值加法的不同方式。字典的键是类型标签的元素，值是类型特定的加法函数。"
   ]
  },
  {
   "cell_type": "code",
   "execution_count": null,
   "metadata": {},
   "outputs": [],
   "source": [
    ">>> def add(z1, z2):\n",
    "        types = (type_tag(z1), type_tag(z2))\n",
    "        return add.implementations[types](z1, z2)"
   ]
  },
  {
   "cell_type": "markdown",
   "metadata": {},
   "source": [
    "add函数的定义本身没有任何功能；它完全地依赖于一个叫做add.implementations的字典去实现泛用加法。我们可以构建如下的字典。"
   ]
  },
  {
   "cell_type": "code",
   "execution_count": null,
   "metadata": {},
   "outputs": [],
   "source": [
    ">>> add.implementations = {}\n",
    ">>> add.implementations[('com', 'com')] = add_complex\n",
    ">>> add.implementations[('com', 'rat')] = add_complex_and_rational\n",
    ">>> add.implementations[('rat', 'com')] = lambda x, y: add_complex_and_rational(y, x)\n",
    ">>> add.implementations[('rat', 'rat')] = add_rational"
   ]
  },
  {
   "cell_type": "markdown",
   "metadata": {},
   "source": [
    "这个基于字典的分发方式是递增的，因为add.implementations和type_tag.tags总是可以扩展。任何新的数值类型可以将自己“安装”到现存的系统中，通过向这些字典添加新的条目。\n",
    "当我们向系统引入一些复杂性时，我们现在拥有了泛用、可扩展的add函数，可以处理混合类型。"
   ]
  },
  {
   "cell_type": "code",
   "execution_count": null,
   "metadata": {},
   "outputs": [],
   "source": [
    ">>> add(ComplexRI(1.5, 0), Rational(3, 2))\n",
    "ComplexRI(3.0, 0)\n",
    ">>> add(Rational(5, 3), Rational(1, 2))\n",
    "Rational(13, 6)"
   ]
  },
  {
   "cell_type": "markdown",
   "metadata": {},
   "source": [
    "**数据导向编程。**我们基于字典的add实现并不是特定于加法的；它不包含任何加法的直接逻辑。它只实现了加法操作，因为我们碰巧将implementations字典和函数放到一起来执行加法。\n",
    "更通用的泛用算数操作版本会将任意运算符作用于任意类型，并且使用字典来储存多种组合的实现。这个完全泛用的实现方法的方式叫做数据导向编程。在我们这里，我们可以实现泛用加法和乘法，而不带任何重复的逻辑。"
   ]
  },
  {
   "cell_type": "code",
   "execution_count": null,
   "metadata": {},
   "outputs": [],
   "source": [
    ">>> def apply(operator_name, x, y):\n",
    "        tags = (type_tag(x), type_tag(y))\n",
    "        key = (operator_name, tags)\n",
    "        return apply.implementations[key](x, y)"
   ]
  },
  {
   "cell_type": "markdown",
   "metadata": {},
   "source": [
    "在泛用的apply函数中，键由操作数的名称（例如add），和参数类型标签的元组构造。我们下面添加了对复数和有理数的乘法支持。"
   ]
  },
  {
   "cell_type": "code",
   "execution_count": null,
   "metadata": {},
   "outputs": [],
   "source": [
    ">>> def mul_complex_and_rational(z, r):\n",
    "        return ComplexMA(z.magnitude * r.numer / r.denom, z.angle)\n",
    ">>> mul_rational_and_complex = lambda r, z: mul_complex_and_rational(z, r)\n",
    ">>> apply.implementations = {('mul', ('com', 'com')): mul_complex,\n",
    "                             ('mul', ('com', 'rat')): mul_complex_and_rational,\n",
    "                             ('mul', ('rat', 'com')): mul_rational_and_complex,\n",
    "                             ('mul', ('rat', 'rat')): mul_rational}"
   ]
  },
  {
   "cell_type": "markdown",
   "metadata": {},
   "source": [
    "我们也可以使用字典的update方法，从add中将加法实现添加到apply。"
   ]
  },
  {
   "cell_type": "code",
   "execution_count": null,
   "metadata": {},
   "outputs": [],
   "source": [
    ">>> adders = add.implementations.items()\n",
    ">>> apply.implementations.update({('add', tags):fn for (tags, fn) in adders})"
   ]
  },
  {
   "cell_type": "markdown",
   "metadata": {},
   "source": [
    "既然已经在单一的表中支持了 8 种不同的实现，我们可以用它来更通用地操作有理数和复数。"
   ]
  },
  {
   "cell_type": "code",
   "execution_count": null,
   "metadata": {},
   "outputs": [],
   "source": [
    ">>> apply('add', ComplexRI(1.5, 0), Rational(3, 2))\n",
    "ComplexRI(3.0, 0)\n",
    ">>> apply('mul', Rational(1, 2), ComplexMA(10, 1))\n",
    "ComplexMA(5.0, 1)"
   ]
  },
  {
   "cell_type": "markdown",
   "metadata": {},
   "source": [
    "这个数据导向的方式管理了跨类型运算符的复杂性，但是十分麻烦。使用这个一个系统，引入新类型的开销不仅仅是为类型编写方法，还有实现跨类型操作的函数的构造和安装。这个负担比起定义类型本身的操作需要更多代码。\n",
    "当类型分发机制和数据导向编程的确能创造泛用函数的递增实现时，它们就不能有效隔离实现的细节。独立数值类型的实现者需要在编程跨类型操作时考虑其他类型。组合有理数和复数严格上并不是每种类型的范围。在类型中制定一致的责任分工政策，在带有多种类型和跨类型操作的系统设计中是大势所趋。\n",
    "**强制转换。**在完全不相关的类型执行完全不相关的操作的一般情况中，实现显式的跨类型操作，尽管可能非常麻烦，是人们所希望的最佳方案。幸运的是，我们有时可以通过利用类型系统中隐藏的额外结构来做得更好。不同的数据类通常并不是完全独立的，可能有一些方式，一个类型的对象通过它会被看做另一种类型的对象。这个过程叫做强制转换。例如，如果我们被要求将一个有理数和一个复数通过算数来组合，我们可以将有理数看做虚部为零的复数。通过这样做，我们将问题转换为两个复数组合的问题，这可以通过add_complex和mul_complex由经典的方法处理。\n",
    "通常，我们可以通过设计强制转换函数来实现这个想法。强制转换函数将一个类型的对象转换为另一个类型的等价对象。这里是一个典型的强制转换函数，它将有理数转换为虚部为零的复数。"
   ]
  },
  {
   "cell_type": "code",
   "execution_count": null,
   "metadata": {},
   "outputs": [],
   "source": [
    ">>> def rational_to_complex(x):\n",
    "        return ComplexRI(x.numer/x.denom, 0)"
   ]
  },
  {
   "cell_type": "markdown",
   "metadata": {},
   "source": [
    "现在，我们可以定义强制转换函数的字典。这个字典可以在更多的数值类型引入时扩展。"
   ]
  },
  {
   "cell_type": "code",
   "execution_count": null,
   "metadata": {},
   "outputs": [],
   "source": [
    ">>> coercions = {('rat', 'com'): rational_to_complex}"
   ]
  },
  {
   "cell_type": "markdown",
   "metadata": {},
   "source": [
    "任意类型的数据对象不可能转换为每个其它类型的对象。例如，没有办法将任意的复数强制转换为有理数，所以在coercions字典中应该没有这种转换的实现。\n",
    "使用coercions字典"
   ]
  },
  {
   "cell_type": "markdown",
   "metadata": {},
   "source": [
    "，我们可以编写叫做coerce_apply的函数，它试图将参数强制转换为相同类型的值，之后仅仅调用运算符。coerce_apply 的实现字典不包含任何跨类型运算符的实现。"
   ]
  },
  {
   "cell_type": "code",
   "execution_count": null,
   "metadata": {},
   "outputs": [],
   "source": [
    ">>> def coerce_apply(operator_name, x, y):\n",
    "        tx, ty = type_tag(x), type_tag(y)\n",
    "        if tx != ty:\n",
    "            if (tx, ty) in coercions:\n",
    "                tx, x = ty, coercions[(tx, ty)](x)\n",
    "            elif (ty, tx) in coercions:\n",
    "                ty, y = tx, coercions[(ty, tx)](y)\n",
    "            else:\n",
    "                return 'No coercion possible.'\n",
    "        key = (operator_name, tx)\n",
    "        return coerce_apply.implementations[key](x, y)"
   ]
  },
  {
   "cell_type": "markdown",
   "metadata": {},
   "source": [
    "coerce_apply的implementations仅仅需要一个类型标签，因为它们假设两个值都共享相同的类型标签。所以，我们仅仅需要四个实现来支持复数和有理数上的泛用算数。"
   ]
  },
  {
   "cell_type": "code",
   "execution_count": null,
   "metadata": {},
   "outputs": [],
   "source": [
    ">>> coerce_apply.implementations = {('mul', 'com'): mul_complex,\n",
    "                                    ('mul', 'rat'): mul_rational,\n",
    "                                    ('add', 'com'): add_complex,\n",
    "                                    ('add', 'rat'): add_rational}"
   ]
  },
  {
   "cell_type": "markdown",
   "metadata": {},
   "source": [
    "就地使用这些实现，coerce_apply 可以代替apply。"
   ]
  },
  {
   "cell_type": "code",
   "execution_count": null,
   "metadata": {},
   "outputs": [],
   "source": [
    ">>> coerce_apply('add', ComplexRI(1.5, 0), Rational(3, 2))\n",
    "ComplexRI(3.0, 0)\n",
    ">>> coerce_apply('mul', Rational(1, 2), ComplexMA(10, 1))\n",
    "ComplexMA(5.0, 1.0)"
   ]
  },
  {
   "cell_type": "markdown",
   "metadata": {},
   "source": [
    "这个强制转换的模式比起显式定义跨类型运算符的方式具有优势。虽然我们仍然需要编程强制转换函数来关联类型，我们仅仅需要为每对类型编写一个函数，而不是为每个类型组合和每个泛用方法编写不同的函数。我们所期望的是，类型间的合理转换仅仅依赖于类型本身，而不是要调用的特定操作。\n",
    "强制转换的扩展会带来进一步的优势。一些更复杂的强制转换模式并不仅仅试图将一个类型强制转换为另一个，而是将两个不同类型强制转换为第三个。想一想菱形和长方形：每个都不是另一个的特例，但是两个都可以看做平行四边形。另一个强制转换的扩展是迭代的强制转换，其中一个数据类型通过媒介类型被强制转换为另一种。一个整数可以转换为一个实数，通过首先转换为有理数，接着将有理数转换为实数。这种方式的链式强制转换降低了程序所需的转换函数总数。\n",
    "虽然它具有优势，强制转换也有潜在的缺陷。例如，强制转换函数在调用时会丢失信息。在我们的例子中，有理数是精确表示，但是当它们转换为复数时会变得近似。\n",
    "一些编程语言拥有内建的强制转换函数。实际上，Python 的早期版本拥有对象上的__coerce__特殊方法。最后，内建强制转换系统的复杂性并不能支持它的使用，所以被移除了。反之，特定的操作按需强制转换它们的参数。运算符被实现为用户定义类上的特殊方法，比如__add__和__mul__。这完全取决于你，取决于用户来决定是否使用类型分发，数据导向编程，消息传递，或者强制转换来在你的程序中实现泛用函数。"
   ]
  }
 ],
 "metadata": {
  "kernelspec": {
   "display_name": "Python 3",
   "language": "python",
   "name": "python3"
  },
  "language_info": {
   "codemirror_mode": {
    "name": "ipython",
    "version": 3
   },
   "file_extension": ".py",
   "mimetype": "text/x-python",
   "name": "python",
   "nbconvert_exporter": "python",
   "pygments_lexer": "ipython3",
   "version": "3.7.3"
  }
 },
 "nbformat": 4,
 "nbformat_minor": 2
}
