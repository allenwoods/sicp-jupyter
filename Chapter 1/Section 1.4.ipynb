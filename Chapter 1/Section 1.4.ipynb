{
 "cells": [
  {
   "cell_type": "markdown",
   "metadata": {},
   "source": [
    "## [1.4 实践指南：函数的艺术](http://www-inst.eecs.berkeley.edu/~cs61a/sp12/book/functions.html#practical-guidance-the-art-of-the-function)"
   ]
  },
  {
   "cell_type": "markdown",
   "metadata": {},
   "source": [
    "函数是所有程序的要素，无论规模大小，并且在编程语言中作为我们表达计算过程的主要媒介。目前为止，我们讨论了函数的形式特性，以及它们如何使用。我们现在跳转到**如何编写良好的函数**这一话题。\n",
    "\n",
    "+ 每个函数都应该**只做一个任务**。这个任务可以使用短小的名称来定义，使用一行文本来标识。顺序执行多个任务的函数应该拆分在多个函数中。\n",
    "+ **不要重复劳动（Don't repeat yourself, DRY）**是软件工程的中心法则。所谓的DRY原则规定多个代码段不应该描述重复的逻辑。反之，逻辑应该只实现一次，指定一个名称，并且多次使用。如果你发现自己在复制粘贴一段代码，你可能发现了一个使用函数抽象的机会。\n",
    "+ 函数应该定义得宽泛一些。举例来说， Python 库中并不定义”平方“操作，因为它是`pow`函数的一个特例，这个函数计算任何数的任何次方。\n",
    "\n",
    "这些准则提升代码的可读性，减少错误数量，并且通常使编写的代码总数最小。将复杂的任务拆分为简洁的函数是一个技巧，它需要一些经验来掌握。幸运的是，Python 提供了一些特性来支持你的努力。"
   ]
  },
  {
   "cell_type": "markdown",
   "metadata": {},
   "source": [
    "### 1.4.1 文档字符串\n",
    "\n",
    "函数定义通常包含描述这个函数的文档，叫做文档字符串，它必须在函数体中缩进。文档字符串通常使用三个引号。第一行描述函数的任务,随后空一行做进一步的函数行为说明。`Args`开始的段落描述参数，`Returns`开始的段落描述返回值的类型和含义。"
   ]
  },
  {
   "cell_type": "code",
   "execution_count": 2,
   "metadata": {},
   "outputs": [],
   "source": [
    "def pressure(v, t, n):\n",
    "    \"\"\"Compute the pressure in pascals of an ideal gas.\n",
    "\n",
    "    Applies the ideal gas law: http://en.wikipedia.org/wiki/Ideal_gas_law\n",
    "\n",
    "    Args:\n",
    "        v (float): volume of gas, in cubic meters\n",
    "        t (float): absolute temperature in degrees kelvin\n",
    "        n (float): particles of gas\n",
    "\n",
    "    Returns:\n",
    "        float: the pressure in pascals of an ideal gas\n",
    "    \"\"\"\n",
    "    k = 1.38e-23  # Boltzmann's constant\n",
    "    return n * k * t / v"
   ]
  },
  {
   "cell_type": "markdown",
   "metadata": {},
   "source": [
    "当你以函数名称作为参数来调用`help`时，你会看到它的文档字符串.在jupyter中，你可以在函数上使用`<Shift> + <Tab>`的快捷键来查看这些帮助。"
   ]
  },
  {
   "cell_type": "code",
   "execution_count": 3,
   "metadata": {},
   "outputs": [
    {
     "name": "stdout",
     "output_type": "stream",
     "text": [
      "Help on function pressure in module __main__:\n",
      "\n",
      "pressure(v, t, n)\n",
      "    Compute the pressure in pascals of an ideal gas.\n",
      "    \n",
      "    Applies the ideal gas law: http://en.wikipedia.org/wiki/Ideal_gas_law\n",
      "    \n",
      "    Args:\n",
      "        v (float): volume of gas, in cubic meters\n",
      "        t (float): absolute temperature in degrees kelvin\n",
      "        n (float): particles of gas\n",
      "    \n",
      "    Returns:\n",
      "        float: the pressure in pascals of an ideal gas\n",
      "\n"
     ]
    }
   ],
   "source": [
    "help(pressure)"
   ]
  },
  {
   "cell_type": "markdown",
   "metadata": {},
   "source": [
    "编写 Python 程序时，除了最简单的函数之外，都要包含文档字符串。要记住，代码只编写一次，但是会阅读多次。Python 文档包含了[文档字符串准则](http://www.python.org/dev/peps/pep-0257/)，它在不同的 Python 项目中保持一致。文档字符串有许多惯例写法，上述例子使用了Google风格，你可以在[docstring](http://google.github.io/styleguide/pyguide.html#381-docstrings)查看详细介绍。"
   ]
  },
  {
   "cell_type": "markdown",
   "metadata": {},
   "source": [
    "### 1.4.2 参数默认值\n",
    "\n",
    "定义普通函数的结果之一就是额外参数的引入。具有许多参数的函数调用起来非常麻烦，也难以阅读。\n",
    "\n",
    "在 Python 中，我们可以为函数的参数提供默认值。调用这个函数时，带有默认值的参数是可选的。如果它们没有提供，默认值就会绑定到形式参数的名称上。例如，如果某个应用通常用来计算一摩尔粒子的压强，这个值就可以设为默认："
   ]
  },
  {
   "cell_type": "code",
   "execution_count": 4,
   "metadata": {},
   "outputs": [],
   "source": [
    "K_B=1.38e-23  # Boltzmann's constant\n",
    "\n",
    "def pressure(v, t, n=6.022e23):\n",
    "    \"\"\"Compute the pressure in pascals of an ideal gas.\n",
    "\n",
    "    v -- volume of gas, in cubic meters\n",
    "    t -- absolute temperature in degrees kelvin\n",
    "    n -- particles of gas (default: one mole)\n",
    "    \"\"\"\n",
    "    return n * K_B * t / v"
   ]
  },
  {
   "cell_type": "code",
   "execution_count": 9,
   "metadata": {},
   "outputs": [
    {
     "data": {
      "text/plain": [
       "2269.974834"
      ]
     },
     "execution_count": 9,
     "metadata": {},
     "output_type": "execute_result"
    }
   ],
   "source": [
    "pressure(1, 273.15)"
   ]
  },
  {
   "cell_type": "markdown",
   "metadata": {},
   "source": [
    "这里，`pressure`的定义接受三个参数，但是在调用表达式中只提供了两个。这种情况下，`n`的值通过`def`语句的默认值获得（它看起来像对`n`的赋值，虽然就像这个讨论暗示的那样，更大程度上它是条件赋值）。\n",
    "\n",
    "作为准则，用于函数体的大多数数据值应该表示为具名参数的默认值，这样便于查看，以及被函数调用者修改。一些值永远不会改变，就像基本常数`K_B`，应该定义在全局帧中。按照管理，这些全局变量应该由大写字母和下划线组成"
   ]
  }
 ],
 "metadata": {
  "colab": {
   "name": "Chapter 1.ipynb",
   "provenance": [],
   "toc_visible": true,
   "version": "0.3.2"
  },
  "kernelspec": {
   "display_name": "Python 3",
   "language": "python",
   "name": "python3"
  },
  "language_info": {
   "codemirror_mode": {
    "name": "ipython",
    "version": 3
   },
   "file_extension": ".py",
   "mimetype": "text/x-python",
   "name": "python",
   "nbconvert_exporter": "python",
   "pygments_lexer": "ipython3",
   "version": "3.7.3"
  },
  "latex_envs": {
   "LaTeX_envs_menu_present": true,
   "autoclose": false,
   "autocomplete": true,
   "bibliofile": "biblio.bib",
   "cite_by": "apalike",
   "current_citInitial": 1,
   "eqLabelWithNumbers": true,
   "eqNumInitial": 1,
   "hotkeys": {
    "equation": "Ctrl-E",
    "itemize": "Ctrl-I"
   },
   "labels_anchors": false,
   "latex_user_defs": false,
   "report_style_numbering": false,
   "user_envs_cfg": false
  },
  "toc": {
   "base_numbering": 1,
   "nav_menu": {},
   "number_sections": false,
   "sideBar": true,
   "skip_h1_title": false,
   "title_cell": "Table of Contents",
   "title_sidebar": "Contents",
   "toc_cell": false,
   "toc_position": {},
   "toc_section_display": true,
   "toc_window_display": true
  }
 },
 "nbformat": 4,
 "nbformat_minor": 1
}
